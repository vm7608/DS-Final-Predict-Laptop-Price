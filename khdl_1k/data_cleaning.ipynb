{
 "cells": [
  {
   "attachments": {},
   "cell_type": "markdown",
   "metadata": {},
   "source": [
    "## Giới thiệu về bộ dữ liệu sẽ xử lý\n",
    "\n",
    "- Bộ dữ liệu raw bao gồm 4 file `laptop_basic.csv`, `laptop_detail.csv`, `cpuben.csv` và `cpuben.csv`. Dữ liệu được cào từ website [LaptopMedia](https://laptopmedia.com/)\n",
    "- File `laptop_basic.csv` chứa link thông tin của 1000 laptop.\n",
    "- File `laptop_detail.csv` chứa thông tin chi tiết của 1000 laptop.\n",
    "- File `cpuben.csv` chứa thông tin benchmark và thứ hạng hiệu năng của 122 mẫu CPU.\n",
    "- File `gpuben.csv` chứa thông tin benchmark và thứ hạng hiệu năng của 140 mẫu GPU.\n",
    "- Trong notebook này, chúng em sẽ tiến hành gộp, xử lý và làm sạch dữ liệu. Kết quả cuối cùng sẽ được lưu vào file 'clean_data.csv' "
   ]
  },
  {
   "attachments": {},
   "cell_type": "markdown",
   "metadata": {},
   "source": [
    "## 1. Khai báo thư viện\n"
   ]
  },
  {
   "cell_type": "code",
   "execution_count": 1,
   "metadata": {},
   "outputs": [],
   "source": [
    "import numpy as np\n",
    "import pandas as pd\n",
    "import re\n",
    "import warnings\n",
    "import matplotlib.pyplot as plt\n",
    "warnings.filterwarnings('ignore')"
   ]
  },
  {
   "attachments": {},
   "cell_type": "markdown",
   "metadata": {},
   "source": [
    "## 2. Load và kiểm tra tập dữ liệu thô"
   ]
  },
  {
   "cell_type": "code",
   "execution_count": 2,
   "metadata": {},
   "outputs": [
    {
     "name": "stdout",
     "output_type": "stream",
     "text": [
      "Number of rows and columns: (1000, 42)\n"
     ]
    }
   ],
   "source": [
    "data_detail = pd.read_csv('raw1k\\laptop_detail.csv')\n",
    "print('Number of rows and columns:', data_detail.shape)"
   ]
  },
  {
   "cell_type": "code",
   "execution_count": 3,
   "metadata": {},
   "outputs": [
    {
     "data": {
      "text/html": [
       "<div>\n",
       "<style scoped>\n",
       "    .dataframe tbody tr th:only-of-type {\n",
       "        vertical-align: middle;\n",
       "    }\n",
       "\n",
       "    .dataframe tbody tr th {\n",
       "        vertical-align: top;\n",
       "    }\n",
       "\n",
       "    .dataframe thead th {\n",
       "        text-align: right;\n",
       "    }\n",
       "</style>\n",
       "<table border=\"1\" class=\"dataframe\">\n",
       "  <thead>\n",
       "    <tr style=\"text-align: right;\">\n",
       "      <th></th>\n",
       "      <th>Unnamed: 0.1</th>\n",
       "      <th>Unnamed: 0</th>\n",
       "      <th>Product Name</th>\n",
       "      <th>Product Link</th>\n",
       "      <th>Processor</th>\n",
       "      <th>Internal memory</th>\n",
       "      <th>Video card</th>\n",
       "      <th>Display</th>\n",
       "      <th>Solid-state drive</th>\n",
       "      <th>Price</th>\n",
       "      <th>...</th>\n",
       "      <th>MIL-STD-810G military certification</th>\n",
       "      <th>14\" ScreenPad Plus (3840 x 1100, IPS, with stylus support)\\n</th>\n",
       "      <th>14\" ScreenPad Plus (1920 x 550, IPS, with stylus support)</th>\n",
       "      <th>Accelerometer\\n</th>\n",
       "      <th>Gyroscope\\n</th>\n",
       "      <th>eCompass</th>\n",
       "      <th>Compartment for Wireless Earbuds</th>\n",
       "      <th>Battery gauge button and indicator</th>\n",
       "      <th>Ambient light sensor\\n</th>\n",
       "      <th>Force Touch trackpad</th>\n",
       "    </tr>\n",
       "  </thead>\n",
       "  <tbody>\n",
       "    <tr>\n",
       "      <th>0</th>\n",
       "      <td>0</td>\n",
       "      <td>0</td>\n",
       "      <td>ASUS ROG Zephyrus G14</td>\n",
       "      <td>https://laptopmedia.com/laptop-specs/asus-rog-...</td>\n",
       "      <td>AMD Ryzen 9 5900HS</td>\n",
       "      <td>24GB RAM</td>\n",
       "      <td>NVIDIA GeForce RTX 3050 Ti (Laptop, 75W)</td>\n",
       "      <td>14.0″, WQHD (2560 x 1440), 120 Hz, IPS</td>\n",
       "      <td>1000GB SSD</td>\n",
       "      <td>$155900</td>\n",
       "      <td>...</td>\n",
       "      <td>NaN</td>\n",
       "      <td>NaN</td>\n",
       "      <td>NaN</td>\n",
       "      <td>NaN</td>\n",
       "      <td>NaN</td>\n",
       "      <td>NaN</td>\n",
       "      <td>NaN</td>\n",
       "      <td>NaN</td>\n",
       "      <td>NaN</td>\n",
       "      <td>NaN</td>\n",
       "    </tr>\n",
       "    <tr>\n",
       "      <th>1</th>\n",
       "      <td>1</td>\n",
       "      <td>1</td>\n",
       "      <td>Lenovo ThinkPad T16 Gen 1</td>\n",
       "      <td>https://laptopmedia.com/laptop-specs/lenovo-th...</td>\n",
       "      <td>Intel Core i7-1260P</td>\n",
       "      <td>16GB RAM</td>\n",
       "      <td>Intel Iris Xe Graphics G7 (96EU)</td>\n",
       "      <td>16.0”, WUXGA (1920 x 1200), IPS</td>\n",
       "      <td>512GB SSD</td>\n",
       "      <td>$116995</td>\n",
       "      <td>...</td>\n",
       "      <td>NaN</td>\n",
       "      <td>NaN</td>\n",
       "      <td>NaN</td>\n",
       "      <td>NaN</td>\n",
       "      <td>NaN</td>\n",
       "      <td>NaN</td>\n",
       "      <td>NaN</td>\n",
       "      <td>NaN</td>\n",
       "      <td>NaN</td>\n",
       "      <td>NaN</td>\n",
       "    </tr>\n",
       "    <tr>\n",
       "      <th>2</th>\n",
       "      <td>2</td>\n",
       "      <td>2</td>\n",
       "      <td>HP 15</td>\n",
       "      <td>https://laptopmedia.com/laptop-specs/hp-15-14999/</td>\n",
       "      <td>Intel Core i7-1165G7</td>\n",
       "      <td>32GB RAM</td>\n",
       "      <td>Intel Iris Xe Graphics G7 (96EU)</td>\n",
       "      <td>15.6”, Full HD (1920 x 1080), IPS</td>\n",
       "      <td>1000GB SSD</td>\n",
       "      <td>$114900</td>\n",
       "      <td>...</td>\n",
       "      <td>NaN</td>\n",
       "      <td>NaN</td>\n",
       "      <td>NaN</td>\n",
       "      <td>NaN</td>\n",
       "      <td>NaN</td>\n",
       "      <td>NaN</td>\n",
       "      <td>NaN</td>\n",
       "      <td>NaN</td>\n",
       "      <td>NaN</td>\n",
       "      <td>NaN</td>\n",
       "    </tr>\n",
       "  </tbody>\n",
       "</table>\n",
       "<p>3 rows × 42 columns</p>\n",
       "</div>"
      ],
      "text/plain": [
       "   Unnamed: 0.1  Unnamed: 0               Product Name   \n",
       "0             0           0      ASUS ROG Zephyrus G14  \\\n",
       "1             1           1  Lenovo ThinkPad T16 Gen 1   \n",
       "2             2           2                      HP 15   \n",
       "\n",
       "                                        Product Link             Processor   \n",
       "0  https://laptopmedia.com/laptop-specs/asus-rog-...    AMD Ryzen 9 5900HS  \\\n",
       "1  https://laptopmedia.com/laptop-specs/lenovo-th...   Intel Core i7-1260P   \n",
       "2  https://laptopmedia.com/laptop-specs/hp-15-14999/  Intel Core i7-1165G7   \n",
       "\n",
       "  Internal memory                                Video card   \n",
       "0        24GB RAM  NVIDIA GeForce RTX 3050 Ti (Laptop, 75W)  \\\n",
       "1        16GB RAM          Intel Iris Xe Graphics G7 (96EU)   \n",
       "2        32GB RAM          Intel Iris Xe Graphics G7 (96EU)   \n",
       "\n",
       "                                  Display Solid-state drive    Price  ...   \n",
       "0  14.0″, WQHD (2560 x 1440), 120 Hz, IPS        1000GB SSD  $155900  ...  \\\n",
       "1         16.0”, WUXGA (1920 x 1200), IPS         512GB SSD  $116995  ...   \n",
       "2       15.6”, Full HD (1920 x 1080), IPS        1000GB SSD  $114900  ...   \n",
       "\n",
       "  MIL-STD-810G military certification   \n",
       "0                                 NaN  \\\n",
       "1                                 NaN   \n",
       "2                                 NaN   \n",
       "\n",
       "  14\" ScreenPad Plus (3840 x 1100, IPS, with stylus support)\\n   \n",
       "0                                                NaN            \\\n",
       "1                                                NaN             \n",
       "2                                                NaN             \n",
       "\n",
       "  14\" ScreenPad Plus (1920 x 550, IPS, with stylus support) Accelerometer\\n   \n",
       "0                                                NaN                    NaN  \\\n",
       "1                                                NaN                    NaN   \n",
       "2                                                NaN                    NaN   \n",
       "\n",
       "  Gyroscope\\n eCompass Compartment for Wireless Earbuds   \n",
       "0         NaN      NaN                              NaN  \\\n",
       "1         NaN      NaN                              NaN   \n",
       "2         NaN      NaN                              NaN   \n",
       "\n",
       "  Battery gauge button and indicator Ambient light sensor\\n   \n",
       "0                                NaN                    NaN  \\\n",
       "1                                NaN                    NaN   \n",
       "2                                NaN                    NaN   \n",
       "\n",
       "  Force Touch trackpad  \n",
       "0                  NaN  \n",
       "1                  NaN  \n",
       "2                  NaN  \n",
       "\n",
       "[3 rows x 42 columns]"
      ]
     },
     "execution_count": 3,
     "metadata": {},
     "output_type": "execute_result"
    }
   ],
   "source": [
    "data_detail.head(3)"
   ]
  },
  {
   "cell_type": "code",
   "execution_count": 4,
   "metadata": {},
   "outputs": [
    {
     "name": "stdout",
     "output_type": "stream",
     "text": [
      "Number of columns with missing values: 28\n"
     ]
    }
   ],
   "source": [
    "col_nan_count = data_detail.isnull().sum()\n",
    "# count number of columns with missing values\n",
    "print('Number of columns with missing values:', len(col_nan_count[col_nan_count > 0]))"
   ]
  },
  {
   "attachments": {},
   "cell_type": "markdown",
   "metadata": {},
   "source": [
    "## 3. Làm sạch dữ liệu"
   ]
  },
  {
   "attachments": {},
   "cell_type": "markdown",
   "metadata": {},
   "source": [
    "### 3.1 Xóa hai cột thông tin dư đầu tiên\n",
    "Hai cột đầu tiên không chứa thông tin liên quan nên sẽ được xóa bỏ."
   ]
  },
  {
   "cell_type": "code",
   "execution_count": 5,
   "metadata": {},
   "outputs": [],
   "source": [
    "# delete the first two column\n",
    "data_detail = data_detail.drop(['Unnamed: 0', 'Unnamed: 0.1'], axis=1)"
   ]
  },
  {
   "attachments": {},
   "cell_type": "markdown",
   "metadata": {},
   "source": [
    "### 3.2 Xóa các cột thông tin chứa quá nhiều dữ liệu trống\n"
   ]
  },
  {
   "attachments": {},
   "cell_type": "markdown",
   "metadata": {},
   "source": [
    "#### 3.2.1 Take a look at the data\n"
   ]
  },
  {
   "cell_type": "code",
   "execution_count": 6,
   "metadata": {},
   "outputs": [
    {
     "name": "stdout",
     "output_type": "stream",
     "text": [
      "Top 25 cột có nhiều giá trị non-null nhất:\n"
     ]
    },
    {
     "data": {
      "text/plain": [
       "Product Name          1000\n",
       "Processor             1000\n",
       "Internal memory       1000\n",
       "Video card            1000\n",
       "Price                 1000\n",
       "Product Link          1000\n",
       "Detail price          1000\n",
       "GPU                   1000\n",
       "HDD/SSD               1000\n",
       "Features              1000\n",
       "RAM                   1000\n",
       "Weight                1000\n",
       "Display                998\n",
       "OS                     997\n",
       "Dimensions             996\n",
       "Solid-state drive      994\n",
       "Web camera             928\n",
       "Speakers               905\n",
       "Microphone             788\n",
       "Gifts                  671\n",
       "Body Material          462\n",
       "M.2 Slot               451\n",
       "Security Lock slot     229\n",
       "Hard drive              66\n",
       "Fingerprint reader       5\n",
       "dtype: int64"
      ]
     },
     "execution_count": 6,
     "metadata": {},
     "output_type": "execute_result"
    }
   ],
   "source": [
    "print('Top 25 cột có nhiều giá trị non-null nhất:')\n",
    "data_detail.count().sort_values(ascending=False)[:25]"
   ]
  },
  {
   "cell_type": "code",
   "execution_count": 7,
   "metadata": {},
   "outputs": [
    {
     "name": "stdout",
     "output_type": "stream",
     "text": [
      "Top 25 cột có ít giá trị non-null nhất:\n"
     ]
    },
    {
     "data": {
      "text/plain": [
       "Force Touch trackpad                                              0\n",
       "Battery gauge button and indicator                                0\n",
       "Compartment for Wireless Earbuds                                  0\n",
       "eCompass                                                          0\n",
       "Gyroscope\\n                                                       0\n",
       "Accelerometer\\n                                                   0\n",
       "14\" ScreenPad Plus (1920 x 550, IPS, with stylus support)         0\n",
       "14\" ScreenPad Plus (3840 x 1100, IPS, with stylus support)\\n      0\n",
       "MIL-STD-810G military certification                               0\n",
       "IR Camera                                                         0\n",
       "NOVO button hole                                                  0\n",
       "14\" ScreenPad Plus (3840 x 1100, IPS, with stylus support)        0\n",
       "Ambient light sensor\\n                                            0\n",
       "Backlit keyboard                                                  2\n",
       "Optical drive                                                     4\n",
       "Fingerprint reader                                                5\n",
       "Hard drive                                                       66\n",
       "Security Lock slot                                              229\n",
       "M.2 Slot                                                        451\n",
       "Body Material                                                   462\n",
       "Gifts                                                           671\n",
       "Microphone                                                      788\n",
       "Speakers                                                        905\n",
       "Web camera                                                      928\n",
       "Solid-state drive                                               994\n",
       "dtype: int64"
      ]
     },
     "execution_count": 7,
     "metadata": {},
     "output_type": "execute_result"
    }
   ],
   "source": [
    "# Get top 25 columns with the less non-null values\n",
    "print('Top 25 cột có ít giá trị non-null nhất:')\n",
    "data_detail.count().sort_values(ascending=True)[:25]"
   ]
  },
  {
   "attachments": {},
   "cell_type": "markdown",
   "metadata": {},
   "source": [
    "- Với cột 'Hard drive' các dữ liệu trống sẽ được thay thế bằng '0 GB' để dễ xử lý và sử dụng sau này. Điều này khớp với thực tế vì các laptop"
   ]
  },
  {
   "cell_type": "code",
   "execution_count": 8,
   "metadata": {},
   "outputs": [],
   "source": [
    "# fill missing value in Hard drive with 0GB\n",
    "# data_detail['Hard drive'] = data_detail['Hard drive'].fillna('0GB')"
   ]
  },
  {
   "attachments": {},
   "cell_type": "markdown",
   "metadata": {},
   "source": [
    "#### 3.2.2 Xóa các cột thông tin chứa không quá 20% dữ liệu là dữ liệu không trống\n"
   ]
  },
  {
   "cell_type": "code",
   "execution_count": 9,
   "metadata": {},
   "outputs": [],
   "source": [
    "def filter_column_meaningless(df, percent=0.80):\n",
    "    filtered_column = []\n",
    "    for column in df.columns:\n",
    "        if (df[column].notnull().sum() <= percent * df.shape[0]):\n",
    "            filtered_column.append(column)\n",
    "    return filtered_column"
   ]
  },
  {
   "cell_type": "code",
   "execution_count": 10,
   "metadata": {},
   "outputs": [],
   "source": [
    "useless_column = filter_column_meaningless(data_detail)"
   ]
  },
  {
   "cell_type": "code",
   "execution_count": 11,
   "metadata": {},
   "outputs": [
    {
     "name": "stdout",
     "output_type": "stream",
     "text": [
      "Shape of Microphone column: (1000,)\n"
     ]
    }
   ],
   "source": [
    "# pritn shape of Microphone column\n",
    "print('Shape of Microphone column:', data_detail['Microphone'].shape)"
   ]
  },
  {
   "cell_type": "code",
   "execution_count": 12,
   "metadata": {},
   "outputs": [
    {
     "data": {
      "text/plain": [
       "Microphone\n",
       "Dual Array Digital Microphone                                                                          93\n",
       "Dual Array Digital Microphones                                                                         87\n",
       "Dual Array Microphone                                                                                  79\n",
       "Array Microphone with AI Noise Cancelling                                                              62\n",
       "Integrated Dual Array Microphone                                                                       53\n",
       "                                                                                                       ..\n",
       "Dual Microphone Array with noise-cancelling, support Lenovo Voice Assistant (LVA), and Amazon Alexa     1\n",
       "Dual Digital Microphones                                                                                1\n",
       "Dual Array Microphone with AI Noise Cancellation, switchable audio modes                                1\n",
       "Dual Array Far-Field Microphone                                                                         1\n",
       "2x Digital Array Microphones                                                                            1\n",
       "Name: count, Length: 74, dtype: int64"
      ]
     },
     "execution_count": 12,
     "metadata": {},
     "output_type": "execute_result"
    }
   ],
   "source": [
    "data_detail['Microphone'].value_counts()"
   ]
  },
  {
   "cell_type": "code",
   "execution_count": 13,
   "metadata": {},
   "outputs": [
    {
     "name": "stdout",
     "output_type": "stream",
     "text": [
      "22\n"
     ]
    },
    {
     "data": {
      "image/png": "[encoded data removed]",
      "text/plain": [
       "<Figure size 2000x1000 with 1 Axes>"
      ]
     },
     "metadata": {},
     "output_type": "display_data"
    }
   ],
   "source": [
    "# print the name and number of non-null values of useless columns\n",
    "print(len(useless_column))\n",
    "useless_column_count = []\n",
    "for column in useless_column:\n",
    "    useless_column_count.append(data_detail[column].notnull().sum())\n",
    "\n",
    "# sort the number of non-null values of useless columns\n",
    "useless_column_count, useless_column = zip(*sorted(zip(useless_column_count, useless_column), reverse=True))\n",
    "\n",
    "\n",
    "# plot on bar chart\n",
    "plt.figure(figsize=(20, 10))\n",
    "plt.bar(useless_column, useless_column_count)\n",
    "plt.xticks(rotation=90)\n",
    "# # rotate the plot 90 degree\n",
    "plt.show()"
   ]
  },
  {
   "cell_type": "code",
   "execution_count": 14,
   "metadata": {},
   "outputs": [
    {
     "name": "stdout",
     "output_type": "stream",
     "text": [
      "<class 'pandas.core.frame.DataFrame'>\n",
      "RangeIndex: 1000 entries, 0 to 999\n",
      "Data columns (total 18 columns):\n",
      " #   Column             Non-Null Count  Dtype \n",
      "---  ------             --------------  ----- \n",
      " 0   Product Name       1000 non-null   object\n",
      " 1   Product Link       1000 non-null   object\n",
      " 2   Processor          1000 non-null   object\n",
      " 3   Internal memory    1000 non-null   object\n",
      " 4   Video card         1000 non-null   object\n",
      " 5   Display            998 non-null    object\n",
      " 6   Solid-state drive  994 non-null    object\n",
      " 7   Price              1000 non-null   object\n",
      " 8   Detail price       1000 non-null   object\n",
      " 9   GPU                1000 non-null   object\n",
      " 10  HDD/SSD            1000 non-null   object\n",
      " 11  RAM                1000 non-null   object\n",
      " 12  OS                 997 non-null    object\n",
      " 13  Dimensions         996 non-null    object\n",
      " 14  Weight             1000 non-null   object\n",
      " 15  Features           1000 non-null   object\n",
      " 16  Web camera         928 non-null    object\n",
      " 17  Speakers           905 non-null    object\n",
      "dtypes: object(18)\n",
      "memory usage: 140.8+ KB\n"
     ]
    }
   ],
   "source": [
    "\n",
    "data = data_detail.drop(columns=filter_column_meaningless(data_detail))\n",
    "data.info()"
   ]
  },
  {
   "cell_type": "code",
   "execution_count": 15,
   "metadata": {},
   "outputs": [
    {
     "data": {
      "image/png": "[encoded data removed]",
      "text/plain": [
       "<Figure size 2000x1000 with 1 Axes>"
      ]
     },
     "metadata": {},
     "output_type": "display_data"
    }
   ],
   "source": [
    "# plot the number of non-null values of each column\n",
    "plt.figure(figsize=(20, 10))\n",
    "plt.bar(data.columns, data.count())\n",
    "plt.xticks(rotation=90)\n",
    "plt.show()"
   ]
  },
  {
   "attachments": {},
   "cell_type": "markdown",
   "metadata": {},
   "source": [
    "#### 3.2.3 Chỉnh sửa thông tin và xóa đi các cột thông tin không cần thiết/ trùng lặp"
   ]
  },
  {
   "attachments": {},
   "cell_type": "markdown",
   "metadata": {},
   "source": [
    "- Giữ lại cột 'Solid-state-drive' và 'Hard drive' vì dữ liệu dễ xử lý và sạch hơn cột 'HDD/SSD'. Cột 'HDD/SSD' có nhiều dữ liệu không đồng nhất."
   ]
  },
  {
   "cell_type": "code",
   "execution_count": 16,
   "metadata": {},
   "outputs": [
    {
     "data": {
      "text/plain": [
       "array(['1TB SSD', '512GB SSD', '128GB SSD', '4TB SSD', '2TB SSD',\n",
       "       '64GB eMMC', '1TB SSD ', '8TB SSD', '256GB SSD', '1TB SSD RAID 0',\n",
       "       '2TB SSD  + 2TB HDD', '4TB SSD RAID 0', '256GB SSD + 1TB HDD',\n",
       "       '2TB SSD RAID 0', '2TB SSD ', '516GB SSD', '512GB SSD RAID 1',\n",
       "       '512GB SSD + 1TB HDD', '512GB PCIe SSD', '500GB HDD, 7200 rpm',\n",
       "       '32GB eMMC', '256GB SSD + 2TB HDD', '4TB SSD RAID 1',\n",
       "       '8TB SSD RAID 0', '8TB SSD RAID 1'], dtype=object)"
      ]
     },
     "execution_count": 16,
     "metadata": {},
     "output_type": "execute_result"
    }
   ],
   "source": [
    "data['HDD/SSD'].unique()[:25]"
   ]
  },
  {
   "cell_type": "code",
   "execution_count": 17,
   "metadata": {},
   "outputs": [],
   "source": [
    "data = data.drop(columns='HDD/SSD')"
   ]
  },
  {
   "attachments": {},
   "cell_type": "markdown",
   "metadata": {},
   "source": [
    "- Đối với giá sản phẩm sẽ chỉ giữ lại cột 'Detail price' vì cột này có định dạng giá đúng.\n"
   ]
  },
  {
   "cell_type": "code",
   "execution_count": 18,
   "metadata": {},
   "outputs": [],
   "source": [
    "data = data.drop(columns='Price')\n"
   ]
  },
  {
   "attachments": {},
   "cell_type": "markdown",
   "metadata": {},
   "source": [
    "- Đối với 'RAM' và 'Internal memory' sẽ giữ lại cột 'RAM' vì định dạng dữ liệu đơn giản hơn.\n"
   ]
  },
  {
   "cell_type": "code",
   "execution_count": 19,
   "metadata": {},
   "outputs": [],
   "source": [
    "data = data.drop(columns='Internal memory')\n"
   ]
  },
  {
   "attachments": {},
   "cell_type": "markdown",
   "metadata": {},
   "source": [
    "- Giữ lại cột 'Video card' vì định dạng dữ liệu đơn giản hơn cột 'GPU'."
   ]
  },
  {
   "cell_type": "code",
   "execution_count": 20,
   "metadata": {},
   "outputs": [],
   "source": [
    "data = data.drop(columns='GPU')"
   ]
  },
  {
   "attachments": {},
   "cell_type": "markdown",
   "metadata": {},
   "source": [
    "- Cột 'Web camera' và 'Speakers' không có nhiều thông tin (chỉ có thông tin về tên của camera và loa) nên sẽ xóa.\n"
   ]
  },
  {
   "cell_type": "code",
   "execution_count": 21,
   "metadata": {},
   "outputs": [
    {
     "data": {
      "text/plain": [
       "array(['HD IR with Windows Hello',\n",
       "       'HD TrueVision with temporal noise reduction', 'FullHD + IR',\n",
       "       'HD IR', 'HD with temporal noise reduction',\n",
       "       'FHD IR, fixed focus, with ToF sensor',\n",
       "       'FHD with privacy shutter, fixed focus', 'HD (720p@30FPS)',\n",
       "       '720p HD (66 degrees)', 'HD 720p', 'VGA', 'FHD IR',\n",
       "       'HD 720p, low light sensitive, face tracking, fixed focus',\n",
       "       'HP True Vision 5MP IR ', 'HD + FHD'], dtype=object)"
      ]
     },
     "execution_count": 21,
     "metadata": {},
     "output_type": "execute_result"
    }
   ],
   "source": [
    "# Some web camera values\n",
    "data['Web camera'].unique()[10:25]\n"
   ]
  },
  {
   "cell_type": "code",
   "execution_count": 22,
   "metadata": {},
   "outputs": [
    {
     "data": {
      "text/plain": [
       "array(['Rotating Sound Bar with Dolby Atmos',\n",
       "       'Stereo Speakers, Bang & Olufsen, DTS:X Ultra',\n",
       "       '2x 2W Stereo Speakers, Nahimic 3',\n",
       "       '2x Stereo Speakers, Dolby Atmos', '2x 2W Nahimic 3 ',\n",
       "       '2x 2W Tweeters + 2x 2W Woofers Stereo Speakers',\n",
       "       '2x 2W Tweeters + 2x 2W dual-force Woofers, Smart Amp, Dolby Atmos',\n",
       "       '4x Speakers, Smart Amp, Dolby Atmos',\n",
       "       '4 Speakers, Bang & Olufsen',\n",
       "       '2x Stereo Speakers, Smart Amp, Dolby Atmos',\n",
       "       'Speakers by SonicMaster', '2x 2.5W Stereo Speakers',\n",
       "       'Stereo Speakers', '2x 2W, Dolby Audio ',\n",
       "       '2x Speakers, Smart Amp, Dolby Atmos'], dtype=object)"
      ]
     },
     "execution_count": 22,
     "metadata": {},
     "output_type": "execute_result"
    }
   ],
   "source": [
    "# Some speaker values\n",
    "data['Speakers'].unique()[10:25]\n"
   ]
  },
  {
   "cell_type": "code",
   "execution_count": 23,
   "metadata": {},
   "outputs": [],
   "source": [
    "data = data.drop(columns=['Web camera', 'Speakers'])\n"
   ]
  },
  {
   "attachments": {},
   "cell_type": "markdown",
   "metadata": {},
   "source": [
    "- Cuối cùng, xóa cột 'Product Link' vì không cần thiết.\n"
   ]
  },
  {
   "cell_type": "code",
   "execution_count": 24,
   "metadata": {},
   "outputs": [],
   "source": [
    "data = data.drop(columns='Product Link')\n"
   ]
  },
  {
   "attachments": {},
   "cell_type": "markdown",
   "metadata": {},
   "source": [
    "### 3.3 Kiểm tra lại tập dữ liệu\n"
   ]
  },
  {
   "cell_type": "code",
   "execution_count": 25,
   "metadata": {},
   "outputs": [
    {
     "data": {
      "text/html": [
       "<div>\n",
       "<style scoped>\n",
       "    .dataframe tbody tr th:only-of-type {\n",
       "        vertical-align: middle;\n",
       "    }\n",
       "\n",
       "    .dataframe tbody tr th {\n",
       "        vertical-align: top;\n",
       "    }\n",
       "\n",
       "    .dataframe thead th {\n",
       "        text-align: right;\n",
       "    }\n",
       "</style>\n",
       "<table border=\"1\" class=\"dataframe\">\n",
       "  <thead>\n",
       "    <tr style=\"text-align: right;\">\n",
       "      <th></th>\n",
       "      <th>Product Name</th>\n",
       "      <th>Processor</th>\n",
       "      <th>Video card</th>\n",
       "      <th>Display</th>\n",
       "      <th>Solid-state drive</th>\n",
       "      <th>Detail price</th>\n",
       "      <th>RAM</th>\n",
       "      <th>OS</th>\n",
       "      <th>Dimensions</th>\n",
       "      <th>Weight</th>\n",
       "      <th>Features</th>\n",
       "    </tr>\n",
       "  </thead>\n",
       "  <tbody>\n",
       "    <tr>\n",
       "      <th>0</th>\n",
       "      <td>ASUS ROG Zephyrus G14</td>\n",
       "      <td>AMD Ryzen 9 5900HS</td>\n",
       "      <td>NVIDIA GeForce RTX 3050 Ti (Laptop, 75W)</td>\n",
       "      <td>14.0″, WQHD (2560 x 1440), 120 Hz, IPS</td>\n",
       "      <td>1000GB SSD</td>\n",
       "      <td>$1559.00</td>\n",
       "      <td>24GB DDR4</td>\n",
       "      <td>Windows 10 Home</td>\n",
       "      <td>324 x 222 x 17.9 ~ 19.9 mm (12.76\" x 8.74\" x 0...</td>\n",
       "      <td>1.60 kg (3.5 lbs)</td>\n",
       "      <td>Fingerprint reader</td>\n",
       "    </tr>\n",
       "    <tr>\n",
       "      <th>1</th>\n",
       "      <td>Lenovo ThinkPad T16 Gen 1</td>\n",
       "      <td>Intel Core i7-1260P</td>\n",
       "      <td>Intel Iris Xe Graphics G7 (96EU)</td>\n",
       "      <td>16.0”, WUXGA (1920 x 1200), IPS</td>\n",
       "      <td>512GB SSD</td>\n",
       "      <td>$1169.95</td>\n",
       "      <td>16GB DDR4</td>\n",
       "      <td>Windows 10 Pro</td>\n",
       "      <td>361.9 x 255.5 x 20.5 - 21.1 mm (14.25\" x 10.06...</td>\n",
       "      <td>1.65 kg (3.6 lbs)</td>\n",
       "      <td>Fingerprint reader</td>\n",
       "    </tr>\n",
       "    <tr>\n",
       "      <th>2</th>\n",
       "      <td>HP 15</td>\n",
       "      <td>Intel Core i7-1165G7</td>\n",
       "      <td>Intel Iris Xe Graphics G7 (96EU)</td>\n",
       "      <td>15.6”, Full HD (1920 x 1080), IPS</td>\n",
       "      <td>1000GB SSD</td>\n",
       "      <td>$1149.00</td>\n",
       "      <td>32GB DDR4</td>\n",
       "      <td>Windows 10 Home</td>\n",
       "      <td>358 x 242 x 17.9 mm (14.09\" x 9.53\" x 0.70\")</td>\n",
       "      <td>1.70 kg (3.7 lbs)</td>\n",
       "      <td>Fingerprint reader</td>\n",
       "    </tr>\n",
       "    <tr>\n",
       "      <th>3</th>\n",
       "      <td>Lenovo Ideapad Flex 5 Chromebook 13</td>\n",
       "      <td>Intel Core i3-1115G4</td>\n",
       "      <td>Intel UHD Graphics Xe G4 (48EU)</td>\n",
       "      <td>13.3”, Full HD (1920 x 1080), IPS</td>\n",
       "      <td>128GB SSD</td>\n",
       "      <td>$419.00</td>\n",
       "      <td>8GB DDR4</td>\n",
       "      <td>Chrome OS</td>\n",
       "      <td>310 x 214 x 16.95 mm (12.20\" x 8.43\" x 0.67\")</td>\n",
       "      <td>1.35 kg (3 lbs)</td>\n",
       "      <td>Web camera</td>\n",
       "    </tr>\n",
       "    <tr>\n",
       "      <th>4</th>\n",
       "      <td>MSI Katana GF66</td>\n",
       "      <td>Intel Core i7-12700H</td>\n",
       "      <td>NVIDIA GeForce RTX 3060 (Laptop, 105W)</td>\n",
       "      <td>15.6”, Full HD (1920 x 1080), 144 Hz, IPS</td>\n",
       "      <td>4000GB SSD</td>\n",
       "      <td>$1979.99</td>\n",
       "      <td>16GB DDR4</td>\n",
       "      <td>Windows 10 Pro</td>\n",
       "      <td>359 x 259 x 24.9 mm (14.13\" x 10.20\" x 0.98\")</td>\n",
       "      <td>2.25 kg (5 lbs)</td>\n",
       "      <td>Fingerprint reader</td>\n",
       "    </tr>\n",
       "    <tr>\n",
       "      <th>5</th>\n",
       "      <td>HP 17</td>\n",
       "      <td>Intel Core i3-1125G4</td>\n",
       "      <td>Intel UHD Graphics Xe G4 (48EU)</td>\n",
       "      <td>17.3”, HD+ (1600 x 900), TN</td>\n",
       "      <td>1000GB SSD</td>\n",
       "      <td>$649.99</td>\n",
       "      <td>32GB DDR4</td>\n",
       "      <td>Windows 11 Home</td>\n",
       "      <td>400 x 257.8 x 20.6 mm (15.75\" x 10.15\" x 0.81\")</td>\n",
       "      <td>2.05 kg (4.5 lbs)</td>\n",
       "      <td>Fingerprint reader</td>\n",
       "    </tr>\n",
       "    <tr>\n",
       "      <th>6</th>\n",
       "      <td>Dell Inspiron 3520</td>\n",
       "      <td>Intel Core i7-1255U</td>\n",
       "      <td>Intel Iris Xe Graphics G7 (96EU)</td>\n",
       "      <td>15.6”, Full HD (1920 x 1080), 120 Hz, IPS</td>\n",
       "      <td>2000GB SSD</td>\n",
       "      <td>$1384.99</td>\n",
       "      <td>32GB DDR4</td>\n",
       "      <td>Windows 11 Pro</td>\n",
       "      <td>358.50 x 235.56 x 16.96 - 18.99 mm (14.11\" x 9...</td>\n",
       "      <td>1.73 kg (3.8 lbs)</td>\n",
       "      <td>Fingerprint reader</td>\n",
       "    </tr>\n",
       "    <tr>\n",
       "      <th>7</th>\n",
       "      <td>Lenovo IdeaPad 3 14</td>\n",
       "      <td>Intel Core i3-1115G4</td>\n",
       "      <td>Intel UHD Graphics Xe G4 (48EU)</td>\n",
       "      <td>14.0”, Full HD (1920 x 1080), TN</td>\n",
       "      <td>512GB SSD</td>\n",
       "      <td>$379.99</td>\n",
       "      <td>8GB DDR4</td>\n",
       "      <td>Windows 11 Home</td>\n",
       "      <td>327.1 x 241 x 19.9 mm (12.88\" x 9.49\" x 0.78\")</td>\n",
       "      <td>1.50 kg (3.3 lbs)</td>\n",
       "      <td>Fingerprint reader</td>\n",
       "    </tr>\n",
       "    <tr>\n",
       "      <th>8</th>\n",
       "      <td>HP 14</td>\n",
       "      <td>Intel Celeron N4020</td>\n",
       "      <td>Intel UHD Graphics 600</td>\n",
       "      <td>14.0”, HD (1366 x 768), TN</td>\n",
       "      <td>64GB SSD</td>\n",
       "      <td>$389.99</td>\n",
       "      <td>8GB DDR4</td>\n",
       "      <td>Windows 11 Home</td>\n",
       "      <td>324 x 225 x 17.9 mm (12.76\" x 8.86\" x 0.70\")</td>\n",
       "      <td>1.46 kg (3.2 lbs)</td>\n",
       "      <td>Fingerprint reader</td>\n",
       "    </tr>\n",
       "    <tr>\n",
       "      <th>9</th>\n",
       "      <td>Lenovo ThinkPad T15 Gen 2</td>\n",
       "      <td>Intel Core i7-1165G7</td>\n",
       "      <td>Intel Iris Xe Graphics G7 (96EU)</td>\n",
       "      <td>15.6”, Full HD (1920 x 1080), IPS</td>\n",
       "      <td>512GB SSD</td>\n",
       "      <td>$1399.99</td>\n",
       "      <td>24GB DDR4</td>\n",
       "      <td>Windows 11 Pro</td>\n",
       "      <td>365.8 x 248 x 19.1 mm (14.40\" x 9.76\" x 0.75\")</td>\n",
       "      <td>1.75 kg (3.9 lbs)</td>\n",
       "      <td>Fingerprint reader</td>\n",
       "    </tr>\n",
       "  </tbody>\n",
       "</table>\n",
       "</div>"
      ],
      "text/plain": [
       "                          Product Name             Processor   \n",
       "0                ASUS ROG Zephyrus G14    AMD Ryzen 9 5900HS  \\\n",
       "1            Lenovo ThinkPad T16 Gen 1   Intel Core i7-1260P   \n",
       "2                                HP 15  Intel Core i7-1165G7   \n",
       "3  Lenovo Ideapad Flex 5 Chromebook 13  Intel Core i3-1115G4   \n",
       "4                      MSI Katana GF66  Intel Core i7-12700H   \n",
       "5                                HP 17  Intel Core i3-1125G4   \n",
       "6                   Dell Inspiron 3520   Intel Core i7-1255U   \n",
       "7                  Lenovo IdeaPad 3 14  Intel Core i3-1115G4   \n",
       "8                                HP 14   Intel Celeron N4020   \n",
       "9            Lenovo ThinkPad T15 Gen 2  Intel Core i7-1165G7   \n",
       "\n",
       "                                 Video card   \n",
       "0  NVIDIA GeForce RTX 3050 Ti (Laptop, 75W)  \\\n",
       "1          Intel Iris Xe Graphics G7 (96EU)   \n",
       "2          Intel Iris Xe Graphics G7 (96EU)   \n",
       "3           Intel UHD Graphics Xe G4 (48EU)   \n",
       "4    NVIDIA GeForce RTX 3060 (Laptop, 105W)   \n",
       "5           Intel UHD Graphics Xe G4 (48EU)   \n",
       "6          Intel Iris Xe Graphics G7 (96EU)   \n",
       "7           Intel UHD Graphics Xe G4 (48EU)   \n",
       "8                    Intel UHD Graphics 600   \n",
       "9          Intel Iris Xe Graphics G7 (96EU)   \n",
       "\n",
       "                                     Display Solid-state drive Detail price   \n",
       "0     14.0″, WQHD (2560 x 1440), 120 Hz, IPS        1000GB SSD     $1559.00  \\\n",
       "1            16.0”, WUXGA (1920 x 1200), IPS         512GB SSD     $1169.95   \n",
       "2          15.6”, Full HD (1920 x 1080), IPS        1000GB SSD     $1149.00   \n",
       "3          13.3”, Full HD (1920 x 1080), IPS         128GB SSD      $419.00   \n",
       "4  15.6”, Full HD (1920 x 1080), 144 Hz, IPS        4000GB SSD     $1979.99   \n",
       "5                17.3”, HD+ (1600 x 900), TN        1000GB SSD      $649.99   \n",
       "6  15.6”, Full HD (1920 x 1080), 120 Hz, IPS        2000GB SSD     $1384.99   \n",
       "7           14.0”, Full HD (1920 x 1080), TN         512GB SSD      $379.99   \n",
       "8                 14.0”, HD (1366 x 768), TN          64GB SSD      $389.99   \n",
       "9          15.6”, Full HD (1920 x 1080), IPS         512GB SSD     $1399.99   \n",
       "\n",
       "         RAM               OS   \n",
       "0  24GB DDR4  Windows 10 Home  \\\n",
       "1  16GB DDR4   Windows 10 Pro   \n",
       "2  32GB DDR4  Windows 10 Home   \n",
       "3   8GB DDR4        Chrome OS   \n",
       "4  16GB DDR4   Windows 10 Pro   \n",
       "5  32GB DDR4  Windows 11 Home   \n",
       "6  32GB DDR4   Windows 11 Pro   \n",
       "7   8GB DDR4  Windows 11 Home   \n",
       "8   8GB DDR4  Windows 11 Home   \n",
       "9  24GB DDR4   Windows 11 Pro   \n",
       "\n",
       "                                          Dimensions              Weight   \n",
       "0  324 x 222 x 17.9 ~ 19.9 mm (12.76\" x 8.74\" x 0...  1.60 kg (3.5 lbs)   \\\n",
       "1  361.9 x 255.5 x 20.5 - 21.1 mm (14.25\" x 10.06...  1.65 kg (3.6 lbs)    \n",
       "2       358 x 242 x 17.9 mm (14.09\" x 9.53\" x 0.70\")  1.70 kg (3.7 lbs)    \n",
       "3      310 x 214 x 16.95 mm (12.20\" x 8.43\" x 0.67\")    1.35 kg (3 lbs)    \n",
       "4      359 x 259 x 24.9 mm (14.13\" x 10.20\" x 0.98\")    2.25 kg (5 lbs)    \n",
       "5    400 x 257.8 x 20.6 mm (15.75\" x 10.15\" x 0.81\")  2.05 kg (4.5 lbs)    \n",
       "6  358.50 x 235.56 x 16.96 - 18.99 mm (14.11\" x 9...  1.73 kg (3.8 lbs)    \n",
       "7     327.1 x 241 x 19.9 mm (12.88\" x 9.49\" x 0.78\")  1.50 kg (3.3 lbs)    \n",
       "8       324 x 225 x 17.9 mm (12.76\" x 8.86\" x 0.70\")  1.46 kg (3.2 lbs)    \n",
       "9     365.8 x 248 x 19.1 mm (14.40\" x 9.76\" x 0.75\")  1.75 kg (3.9 lbs)    \n",
       "\n",
       "             Features  \n",
       "0  Fingerprint reader  \n",
       "1  Fingerprint reader  \n",
       "2  Fingerprint reader  \n",
       "3          Web camera  \n",
       "4  Fingerprint reader  \n",
       "5  Fingerprint reader  \n",
       "6  Fingerprint reader  \n",
       "7  Fingerprint reader  \n",
       "8  Fingerprint reader  \n",
       "9  Fingerprint reader  "
      ]
     },
     "execution_count": 25,
     "metadata": {},
     "output_type": "execute_result"
    }
   ],
   "source": [
    "data.head(10)"
   ]
  },
  {
   "cell_type": "code",
   "execution_count": 26,
   "metadata": {},
   "outputs": [
    {
     "name": "stdout",
     "output_type": "stream",
     "text": [
      "<class 'pandas.core.frame.DataFrame'>\n",
      "RangeIndex: 1000 entries, 0 to 999\n",
      "Data columns (total 11 columns):\n",
      " #   Column             Non-Null Count  Dtype \n",
      "---  ------             --------------  ----- \n",
      " 0   Product Name       1000 non-null   object\n",
      " 1   Processor          1000 non-null   object\n",
      " 2   Video card         1000 non-null   object\n",
      " 3   Display            998 non-null    object\n",
      " 4   Solid-state drive  994 non-null    object\n",
      " 5   Detail price       1000 non-null   object\n",
      " 6   RAM                1000 non-null   object\n",
      " 7   OS                 997 non-null    object\n",
      " 8   Dimensions         996 non-null    object\n",
      " 9   Weight             1000 non-null   object\n",
      " 10  Features           1000 non-null   object\n",
      "dtypes: object(11)\n",
      "memory usage: 86.1+ KB\n"
     ]
    }
   ],
   "source": [
    "data.info()\n"
   ]
  },
  {
   "attachments": {},
   "cell_type": "markdown",
   "metadata": {
    "tags": []
   },
   "source": [
    "## 4. Gộp và chỉnh sửa lại dữ liệu (imputation, remove duplicates,...)\n"
   ]
  },
  {
   "attachments": {},
   "cell_type": "markdown",
   "metadata": {},
   "source": [
    "### 4.1 Gộp thông tin benchmark của CPU và GPU vào data\n"
   ]
  },
  {
   "cell_type": "code",
   "execution_count": 27,
   "metadata": {},
   "outputs": [],
   "source": [
    "data_cpu = pd.read_csv('raw1k\\cpuben.csv')\n",
    "data_gpu = pd.read_csv('raw1k\\gpuben.csv')"
   ]
  },
  {
   "cell_type": "code",
   "execution_count": 28,
   "metadata": {},
   "outputs": [],
   "source": [
    "# Merge CPU data\n",
    "data = pd.merge(data, data_cpu, left_on='Processor',\n",
    "                right_on='CPU', how='left')\n",
    "data.rename(columns={'Rank': 'Rank CPU'}, inplace=True)\n"
   ]
  },
  {
   "cell_type": "code",
   "execution_count": 29,
   "metadata": {},
   "outputs": [],
   "source": [
    "data = pd.merge(data, data_gpu, left_on='Video card',\n",
    "                right_on='GPU', how='left')\n",
    "data.rename(columns={'Rank': 'Rank GPU'}, inplace=True)\n"
   ]
  },
  {
   "cell_type": "code",
   "execution_count": 30,
   "metadata": {},
   "outputs": [
    {
     "data": {
      "text/html": [
       "<div>\n",
       "<style scoped>\n",
       "    .dataframe tbody tr th:only-of-type {\n",
       "        vertical-align: middle;\n",
       "    }\n",
       "\n",
       "    .dataframe tbody tr th {\n",
       "        vertical-align: top;\n",
       "    }\n",
       "\n",
       "    .dataframe thead th {\n",
       "        text-align: right;\n",
       "    }\n",
       "</style>\n",
       "<table border=\"1\" class=\"dataframe\">\n",
       "  <thead>\n",
       "    <tr style=\"text-align: right;\">\n",
       "      <th></th>\n",
       "      <th>Product Name</th>\n",
       "      <th>Processor</th>\n",
       "      <th>Video card</th>\n",
       "      <th>Display</th>\n",
       "      <th>Solid-state drive</th>\n",
       "      <th>Detail price</th>\n",
       "      <th>RAM</th>\n",
       "      <th>OS</th>\n",
       "      <th>Dimensions</th>\n",
       "      <th>Weight</th>\n",
       "      <th>Features</th>\n",
       "      <th>Rank CPU</th>\n",
       "      <th>CPU</th>\n",
       "      <th>Cinebench23</th>\n",
       "      <th>Rank GPU</th>\n",
       "      <th>GPU</th>\n",
       "      <th>3DMark Time Spy (G)</th>\n",
       "    </tr>\n",
       "  </thead>\n",
       "  <tbody>\n",
       "    <tr>\n",
       "      <th>0</th>\n",
       "      <td>ASUS ROG Zephyrus G14</td>\n",
       "      <td>AMD Ryzen 9 5900HS</td>\n",
       "      <td>NVIDIA GeForce RTX 3050 Ti (Laptop, 75W)</td>\n",
       "      <td>14.0″, WQHD (2560 x 1440), 120 Hz, IPS</td>\n",
       "      <td>1000GB SSD</td>\n",
       "      <td>$1559.00</td>\n",
       "      <td>24GB DDR4</td>\n",
       "      <td>Windows 10 Home</td>\n",
       "      <td>324 x 222 x 17.9 ~ 19.9 mm (12.76\" x 8.74\" x 0...</td>\n",
       "      <td>1.60 kg (3.5 lbs)</td>\n",
       "      <td>Fingerprint reader</td>\n",
       "      <td>30.0</td>\n",
       "      <td>AMD Ryzen 9 5900HS</td>\n",
       "      <td>13179.0</td>\n",
       "      <td>55.0</td>\n",
       "      <td>NVIDIA GeForce RTX 3050 Ti (Laptop, 75W)</td>\n",
       "      <td>5970.0</td>\n",
       "    </tr>\n",
       "    <tr>\n",
       "      <th>1</th>\n",
       "      <td>Lenovo ThinkPad T16 Gen 1</td>\n",
       "      <td>Intel Core i7-1260P</td>\n",
       "      <td>Intel Iris Xe Graphics G7 (96EU)</td>\n",
       "      <td>16.0”, WUXGA (1920 x 1200), IPS</td>\n",
       "      <td>512GB SSD</td>\n",
       "      <td>$1169.95</td>\n",
       "      <td>16GB DDR4</td>\n",
       "      <td>Windows 10 Pro</td>\n",
       "      <td>361.9 x 255.5 x 20.5 - 21.1 mm (14.25\" x 10.06...</td>\n",
       "      <td>1.65 kg (3.6 lbs)</td>\n",
       "      <td>Fingerprint reader</td>\n",
       "      <td>56.0</td>\n",
       "      <td>Intel Core i7-1260P</td>\n",
       "      <td>9933.0</td>\n",
       "      <td>107.0</td>\n",
       "      <td>Intel Iris Xe Graphics G7 (96EU)</td>\n",
       "      <td>1435.0</td>\n",
       "    </tr>\n",
       "    <tr>\n",
       "      <th>2</th>\n",
       "      <td>HP 15</td>\n",
       "      <td>Intel Core i7-1165G7</td>\n",
       "      <td>Intel Iris Xe Graphics G7 (96EU)</td>\n",
       "      <td>15.6”, Full HD (1920 x 1080), IPS</td>\n",
       "      <td>1000GB SSD</td>\n",
       "      <td>$1149.00</td>\n",
       "      <td>32GB DDR4</td>\n",
       "      <td>Windows 10 Home</td>\n",
       "      <td>358 x 242 x 17.9 mm (14.09\" x 9.53\" x 0.70\")</td>\n",
       "      <td>1.70 kg (3.7 lbs)</td>\n",
       "      <td>Fingerprint reader</td>\n",
       "      <td>99.0</td>\n",
       "      <td>Intel Core i7-1165G7</td>\n",
       "      <td>5125.0</td>\n",
       "      <td>107.0</td>\n",
       "      <td>Intel Iris Xe Graphics G7 (96EU)</td>\n",
       "      <td>1435.0</td>\n",
       "    </tr>\n",
       "    <tr>\n",
       "      <th>3</th>\n",
       "      <td>Lenovo Ideapad Flex 5 Chromebook 13</td>\n",
       "      <td>Intel Core i3-1115G4</td>\n",
       "      <td>Intel UHD Graphics Xe G4 (48EU)</td>\n",
       "      <td>13.3”, Full HD (1920 x 1080), IPS</td>\n",
       "      <td>128GB SSD</td>\n",
       "      <td>$419.00</td>\n",
       "      <td>8GB DDR4</td>\n",
       "      <td>Chrome OS</td>\n",
       "      <td>310 x 214 x 16.95 mm (12.20\" x 8.43\" x 0.67\")</td>\n",
       "      <td>1.35 kg (3 lbs)</td>\n",
       "      <td>Web camera</td>\n",
       "      <td>109.0</td>\n",
       "      <td>Intel Core i3-1115G4</td>\n",
       "      <td>3056.0</td>\n",
       "      <td>NaN</td>\n",
       "      <td>NaN</td>\n",
       "      <td>NaN</td>\n",
       "    </tr>\n",
       "    <tr>\n",
       "      <th>4</th>\n",
       "      <td>MSI Katana GF66</td>\n",
       "      <td>Intel Core i7-12700H</td>\n",
       "      <td>NVIDIA GeForce RTX 3060 (Laptop, 105W)</td>\n",
       "      <td>15.6”, Full HD (1920 x 1080), 144 Hz, IPS</td>\n",
       "      <td>4000GB SSD</td>\n",
       "      <td>$1979.99</td>\n",
       "      <td>16GB DDR4</td>\n",
       "      <td>Windows 10 Pro</td>\n",
       "      <td>359 x 259 x 24.9 mm (14.13\" x 10.20\" x 0.98\")</td>\n",
       "      <td>2.25 kg (5 lbs)</td>\n",
       "      <td>Fingerprint reader</td>\n",
       "      <td>17.0</td>\n",
       "      <td>Intel Core i7-12700H</td>\n",
       "      <td>15486.0</td>\n",
       "      <td>39.0</td>\n",
       "      <td>NVIDIA GeForce RTX 3060 (Laptop, 105W)</td>\n",
       "      <td>8290.0</td>\n",
       "    </tr>\n",
       "  </tbody>\n",
       "</table>\n",
       "</div>"
      ],
      "text/plain": [
       "                          Product Name             Processor   \n",
       "0                ASUS ROG Zephyrus G14    AMD Ryzen 9 5900HS  \\\n",
       "1            Lenovo ThinkPad T16 Gen 1   Intel Core i7-1260P   \n",
       "2                                HP 15  Intel Core i7-1165G7   \n",
       "3  Lenovo Ideapad Flex 5 Chromebook 13  Intel Core i3-1115G4   \n",
       "4                      MSI Katana GF66  Intel Core i7-12700H   \n",
       "\n",
       "                                 Video card   \n",
       "0  NVIDIA GeForce RTX 3050 Ti (Laptop, 75W)  \\\n",
       "1          Intel Iris Xe Graphics G7 (96EU)   \n",
       "2          Intel Iris Xe Graphics G7 (96EU)   \n",
       "3           Intel UHD Graphics Xe G4 (48EU)   \n",
       "4    NVIDIA GeForce RTX 3060 (Laptop, 105W)   \n",
       "\n",
       "                                     Display Solid-state drive Detail price   \n",
       "0     14.0″, WQHD (2560 x 1440), 120 Hz, IPS        1000GB SSD     $1559.00  \\\n",
       "1            16.0”, WUXGA (1920 x 1200), IPS         512GB SSD     $1169.95   \n",
       "2          15.6”, Full HD (1920 x 1080), IPS        1000GB SSD     $1149.00   \n",
       "3          13.3”, Full HD (1920 x 1080), IPS         128GB SSD      $419.00   \n",
       "4  15.6”, Full HD (1920 x 1080), 144 Hz, IPS        4000GB SSD     $1979.99   \n",
       "\n",
       "         RAM               OS   \n",
       "0  24GB DDR4  Windows 10 Home  \\\n",
       "1  16GB DDR4   Windows 10 Pro   \n",
       "2  32GB DDR4  Windows 10 Home   \n",
       "3   8GB DDR4        Chrome OS   \n",
       "4  16GB DDR4   Windows 10 Pro   \n",
       "\n",
       "                                          Dimensions              Weight   \n",
       "0  324 x 222 x 17.9 ~ 19.9 mm (12.76\" x 8.74\" x 0...  1.60 kg (3.5 lbs)   \\\n",
       "1  361.9 x 255.5 x 20.5 - 21.1 mm (14.25\" x 10.06...  1.65 kg (3.6 lbs)    \n",
       "2       358 x 242 x 17.9 mm (14.09\" x 9.53\" x 0.70\")  1.70 kg (3.7 lbs)    \n",
       "3      310 x 214 x 16.95 mm (12.20\" x 8.43\" x 0.67\")    1.35 kg (3 lbs)    \n",
       "4      359 x 259 x 24.9 mm (14.13\" x 10.20\" x 0.98\")    2.25 kg (5 lbs)    \n",
       "\n",
       "             Features  Rank CPU                   CPU  Cinebench23  Rank GPU   \n",
       "0  Fingerprint reader      30.0    AMD Ryzen 9 5900HS      13179.0      55.0  \\\n",
       "1  Fingerprint reader      56.0   Intel Core i7-1260P       9933.0     107.0   \n",
       "2  Fingerprint reader      99.0  Intel Core i7-1165G7       5125.0     107.0   \n",
       "3          Web camera     109.0  Intel Core i3-1115G4       3056.0       NaN   \n",
       "4  Fingerprint reader      17.0  Intel Core i7-12700H      15486.0      39.0   \n",
       "\n",
       "                                        GPU  3DMark Time Spy (G)  \n",
       "0  NVIDIA GeForce RTX 3050 Ti (Laptop, 75W)               5970.0  \n",
       "1          Intel Iris Xe Graphics G7 (96EU)               1435.0  \n",
       "2          Intel Iris Xe Graphics G7 (96EU)               1435.0  \n",
       "3                                       NaN                  NaN  \n",
       "4    NVIDIA GeForce RTX 3060 (Laptop, 105W)               8290.0  "
      ]
     },
     "execution_count": 30,
     "metadata": {},
     "output_type": "execute_result"
    }
   ],
   "source": [
    "data.head()\n"
   ]
  },
  {
   "attachments": {},
   "cell_type": "markdown",
   "metadata": {},
   "source": [
    "Chúng ta có thể thấy rằng có một số CPU và GPU trong data không có dữ liệu. Vì vậy, chúng ta sẽ loại bỏ hai cột này khỏi data.\n"
   ]
  },
  {
   "cell_type": "code",
   "execution_count": 31,
   "metadata": {},
   "outputs": [],
   "source": [
    "# Delete Processor and Video card columns\n",
    "# data = data.drop(columns=['Processor', 'Video card'])\n",
    "data = data.drop(columns=['CPU', 'GPU'])\n",
    "\n"
   ]
  },
  {
   "cell_type": "code",
   "execution_count": 32,
   "metadata": {},
   "outputs": [
    {
     "data": {
      "text/html": [
       "<div>\n",
       "<style scoped>\n",
       "    .dataframe tbody tr th:only-of-type {\n",
       "        vertical-align: middle;\n",
       "    }\n",
       "\n",
       "    .dataframe tbody tr th {\n",
       "        vertical-align: top;\n",
       "    }\n",
       "\n",
       "    .dataframe thead th {\n",
       "        text-align: right;\n",
       "    }\n",
       "</style>\n",
       "<table border=\"1\" class=\"dataframe\">\n",
       "  <thead>\n",
       "    <tr style=\"text-align: right;\">\n",
       "      <th></th>\n",
       "      <th>Product Name</th>\n",
       "      <th>Processor</th>\n",
       "      <th>Video card</th>\n",
       "      <th>Display</th>\n",
       "      <th>Solid-state drive</th>\n",
       "      <th>Detail price</th>\n",
       "      <th>RAM</th>\n",
       "      <th>OS</th>\n",
       "      <th>Dimensions</th>\n",
       "      <th>Weight</th>\n",
       "      <th>Features</th>\n",
       "      <th>Rank CPU</th>\n",
       "      <th>Cinebench23</th>\n",
       "      <th>Rank GPU</th>\n",
       "      <th>3DMark Time Spy (G)</th>\n",
       "    </tr>\n",
       "  </thead>\n",
       "  <tbody>\n",
       "    <tr>\n",
       "      <th>0</th>\n",
       "      <td>ASUS ROG Zephyrus G14</td>\n",
       "      <td>AMD Ryzen 9 5900HS</td>\n",
       "      <td>NVIDIA GeForce RTX 3050 Ti (Laptop, 75W)</td>\n",
       "      <td>14.0″, WQHD (2560 x 1440), 120 Hz, IPS</td>\n",
       "      <td>1000GB SSD</td>\n",
       "      <td>$1559.00</td>\n",
       "      <td>24GB DDR4</td>\n",
       "      <td>Windows 10 Home</td>\n",
       "      <td>324 x 222 x 17.9 ~ 19.9 mm (12.76\" x 8.74\" x 0...</td>\n",
       "      <td>1.60 kg (3.5 lbs)</td>\n",
       "      <td>Fingerprint reader</td>\n",
       "      <td>30.0</td>\n",
       "      <td>13179.0</td>\n",
       "      <td>55.0</td>\n",
       "      <td>5970.0</td>\n",
       "    </tr>\n",
       "    <tr>\n",
       "      <th>1</th>\n",
       "      <td>Lenovo ThinkPad T16 Gen 1</td>\n",
       "      <td>Intel Core i7-1260P</td>\n",
       "      <td>Intel Iris Xe Graphics G7 (96EU)</td>\n",
       "      <td>16.0”, WUXGA (1920 x 1200), IPS</td>\n",
       "      <td>512GB SSD</td>\n",
       "      <td>$1169.95</td>\n",
       "      <td>16GB DDR4</td>\n",
       "      <td>Windows 10 Pro</td>\n",
       "      <td>361.9 x 255.5 x 20.5 - 21.1 mm (14.25\" x 10.06...</td>\n",
       "      <td>1.65 kg (3.6 lbs)</td>\n",
       "      <td>Fingerprint reader</td>\n",
       "      <td>56.0</td>\n",
       "      <td>9933.0</td>\n",
       "      <td>107.0</td>\n",
       "      <td>1435.0</td>\n",
       "    </tr>\n",
       "    <tr>\n",
       "      <th>2</th>\n",
       "      <td>HP 15</td>\n",
       "      <td>Intel Core i7-1165G7</td>\n",
       "      <td>Intel Iris Xe Graphics G7 (96EU)</td>\n",
       "      <td>15.6”, Full HD (1920 x 1080), IPS</td>\n",
       "      <td>1000GB SSD</td>\n",
       "      <td>$1149.00</td>\n",
       "      <td>32GB DDR4</td>\n",
       "      <td>Windows 10 Home</td>\n",
       "      <td>358 x 242 x 17.9 mm (14.09\" x 9.53\" x 0.70\")</td>\n",
       "      <td>1.70 kg (3.7 lbs)</td>\n",
       "      <td>Fingerprint reader</td>\n",
       "      <td>99.0</td>\n",
       "      <td>5125.0</td>\n",
       "      <td>107.0</td>\n",
       "      <td>1435.0</td>\n",
       "    </tr>\n",
       "    <tr>\n",
       "      <th>3</th>\n",
       "      <td>Lenovo Ideapad Flex 5 Chromebook 13</td>\n",
       "      <td>Intel Core i3-1115G4</td>\n",
       "      <td>Intel UHD Graphics Xe G4 (48EU)</td>\n",
       "      <td>13.3”, Full HD (1920 x 1080), IPS</td>\n",
       "      <td>128GB SSD</td>\n",
       "      <td>$419.00</td>\n",
       "      <td>8GB DDR4</td>\n",
       "      <td>Chrome OS</td>\n",
       "      <td>310 x 214 x 16.95 mm (12.20\" x 8.43\" x 0.67\")</td>\n",
       "      <td>1.35 kg (3 lbs)</td>\n",
       "      <td>Web camera</td>\n",
       "      <td>109.0</td>\n",
       "      <td>3056.0</td>\n",
       "      <td>NaN</td>\n",
       "      <td>NaN</td>\n",
       "    </tr>\n",
       "    <tr>\n",
       "      <th>4</th>\n",
       "      <td>MSI Katana GF66</td>\n",
       "      <td>Intel Core i7-12700H</td>\n",
       "      <td>NVIDIA GeForce RTX 3060 (Laptop, 105W)</td>\n",
       "      <td>15.6”, Full HD (1920 x 1080), 144 Hz, IPS</td>\n",
       "      <td>4000GB SSD</td>\n",
       "      <td>$1979.99</td>\n",
       "      <td>16GB DDR4</td>\n",
       "      <td>Windows 10 Pro</td>\n",
       "      <td>359 x 259 x 24.9 mm (14.13\" x 10.20\" x 0.98\")</td>\n",
       "      <td>2.25 kg (5 lbs)</td>\n",
       "      <td>Fingerprint reader</td>\n",
       "      <td>17.0</td>\n",
       "      <td>15486.0</td>\n",
       "      <td>39.0</td>\n",
       "      <td>8290.0</td>\n",
       "    </tr>\n",
       "  </tbody>\n",
       "</table>\n",
       "</div>"
      ],
      "text/plain": [
       "                          Product Name             Processor   \n",
       "0                ASUS ROG Zephyrus G14    AMD Ryzen 9 5900HS  \\\n",
       "1            Lenovo ThinkPad T16 Gen 1   Intel Core i7-1260P   \n",
       "2                                HP 15  Intel Core i7-1165G7   \n",
       "3  Lenovo Ideapad Flex 5 Chromebook 13  Intel Core i3-1115G4   \n",
       "4                      MSI Katana GF66  Intel Core i7-12700H   \n",
       "\n",
       "                                 Video card   \n",
       "0  NVIDIA GeForce RTX 3050 Ti (Laptop, 75W)  \\\n",
       "1          Intel Iris Xe Graphics G7 (96EU)   \n",
       "2          Intel Iris Xe Graphics G7 (96EU)   \n",
       "3           Intel UHD Graphics Xe G4 (48EU)   \n",
       "4    NVIDIA GeForce RTX 3060 (Laptop, 105W)   \n",
       "\n",
       "                                     Display Solid-state drive Detail price   \n",
       "0     14.0″, WQHD (2560 x 1440), 120 Hz, IPS        1000GB SSD     $1559.00  \\\n",
       "1            16.0”, WUXGA (1920 x 1200), IPS         512GB SSD     $1169.95   \n",
       "2          15.6”, Full HD (1920 x 1080), IPS        1000GB SSD     $1149.00   \n",
       "3          13.3”, Full HD (1920 x 1080), IPS         128GB SSD      $419.00   \n",
       "4  15.6”, Full HD (1920 x 1080), 144 Hz, IPS        4000GB SSD     $1979.99   \n",
       "\n",
       "         RAM               OS   \n",
       "0  24GB DDR4  Windows 10 Home  \\\n",
       "1  16GB DDR4   Windows 10 Pro   \n",
       "2  32GB DDR4  Windows 10 Home   \n",
       "3   8GB DDR4        Chrome OS   \n",
       "4  16GB DDR4   Windows 10 Pro   \n",
       "\n",
       "                                          Dimensions              Weight   \n",
       "0  324 x 222 x 17.9 ~ 19.9 mm (12.76\" x 8.74\" x 0...  1.60 kg (3.5 lbs)   \\\n",
       "1  361.9 x 255.5 x 20.5 - 21.1 mm (14.25\" x 10.06...  1.65 kg (3.6 lbs)    \n",
       "2       358 x 242 x 17.9 mm (14.09\" x 9.53\" x 0.70\")  1.70 kg (3.7 lbs)    \n",
       "3      310 x 214 x 16.95 mm (12.20\" x 8.43\" x 0.67\")    1.35 kg (3 lbs)    \n",
       "4      359 x 259 x 24.9 mm (14.13\" x 10.20\" x 0.98\")    2.25 kg (5 lbs)    \n",
       "\n",
       "             Features  Rank CPU  Cinebench23  Rank GPU  3DMark Time Spy (G)  \n",
       "0  Fingerprint reader      30.0      13179.0      55.0               5970.0  \n",
       "1  Fingerprint reader      56.0       9933.0     107.0               1435.0  \n",
       "2  Fingerprint reader      99.0       5125.0     107.0               1435.0  \n",
       "3          Web camera     109.0       3056.0       NaN                  NaN  \n",
       "4  Fingerprint reader      17.0      15486.0      39.0               8290.0  "
      ]
     },
     "execution_count": 32,
     "metadata": {},
     "output_type": "execute_result"
    }
   ],
   "source": [
    "data.head()\n"
   ]
  },
  {
   "attachments": {},
   "cell_type": "markdown",
   "metadata": {},
   "source": [
    "### 4.2 Xóa dữ liệu trống và trùng lặp\n"
   ]
  },
  {
   "cell_type": "code",
   "execution_count": 33,
   "metadata": {},
   "outputs": [
    {
     "name": "stdout",
     "output_type": "stream",
     "text": [
      "<class 'pandas.core.frame.DataFrame'>\n",
      "RangeIndex: 1000 entries, 0 to 999\n",
      "Data columns (total 15 columns):\n",
      " #   Column               Non-Null Count  Dtype  \n",
      "---  ------               --------------  -----  \n",
      " 0   Product Name         1000 non-null   object \n",
      " 1   Processor            1000 non-null   object \n",
      " 2   Video card           1000 non-null   object \n",
      " 3   Display              998 non-null    object \n",
      " 4   Solid-state drive    994 non-null    object \n",
      " 5   Detail price         1000 non-null   object \n",
      " 6   RAM                  1000 non-null   object \n",
      " 7   OS                   997 non-null    object \n",
      " 8   Dimensions           996 non-null    object \n",
      " 9   Weight               1000 non-null   object \n",
      " 10  Features             1000 non-null   object \n",
      " 11  Rank CPU             889 non-null    float64\n",
      " 12  Cinebench23          889 non-null    float64\n",
      " 13  Rank GPU             823 non-null    float64\n",
      " 14  3DMark Time Spy (G)  823 non-null    float64\n",
      "dtypes: float64(4), object(11)\n",
      "memory usage: 117.3+ KB\n"
     ]
    }
   ],
   "source": [
    "data.info()"
   ]
  },
  {
   "cell_type": "code",
   "execution_count": 34,
   "metadata": {},
   "outputs": [
    {
     "name": "stdout",
     "output_type": "stream",
     "text": [
      "Number of rows that have missing values in more than 3 columns: 30\n"
     ]
    }
   ],
   "source": [
    "# print number of rows that have missing values in more than 5 columns\n",
    "print('Number of rows that have missing values in more than 3 columns:', data[data.isnull().sum(axis=1) > 3].shape[0])"
   ]
  },
  {
   "cell_type": "code",
   "execution_count": 35,
   "metadata": {},
   "outputs": [],
   "source": [
    "# delete rows that have null values in more than 3 columns\n",
    "data = data.dropna(thresh=data.shape[1] - 3)"
   ]
  },
  {
   "cell_type": "code",
   "execution_count": 36,
   "metadata": {},
   "outputs": [
    {
     "data": {
      "text/plain": [
       "(970, 15)"
      ]
     },
     "execution_count": 36,
     "metadata": {},
     "output_type": "execute_result"
    }
   ],
   "source": [
    "data.shape"
   ]
  },
  {
   "cell_type": "code",
   "execution_count": 37,
   "metadata": {},
   "outputs": [],
   "source": [
    "# data.dropna(inplace=True)\n",
    "data.drop_duplicates(inplace=True)\n",
    "data = data.reset_index(drop=True)\n"
   ]
  },
  {
   "cell_type": "code",
   "execution_count": 38,
   "metadata": {},
   "outputs": [
    {
     "name": "stdout",
     "output_type": "stream",
     "text": [
      "<class 'pandas.core.frame.DataFrame'>\n",
      "RangeIndex: 966 entries, 0 to 965\n",
      "Data columns (total 15 columns):\n",
      " #   Column               Non-Null Count  Dtype  \n",
      "---  ------               --------------  -----  \n",
      " 0   Product Name         966 non-null    object \n",
      " 1   Processor            966 non-null    object \n",
      " 2   Video card           966 non-null    object \n",
      " 3   Display              965 non-null    object \n",
      " 4   Solid-state drive    963 non-null    object \n",
      " 5   Detail price         966 non-null    object \n",
      " 6   RAM                  966 non-null    object \n",
      " 7   OS                   963 non-null    object \n",
      " 8   Dimensions           962 non-null    object \n",
      " 9   Weight               966 non-null    object \n",
      " 10  Features             966 non-null    object \n",
      " 11  Rank CPU             886 non-null    float64\n",
      " 12  Cinebench23          886 non-null    float64\n",
      " 13  Rank GPU             821 non-null    float64\n",
      " 14  3DMark Time Spy (G)  821 non-null    float64\n",
      "dtypes: float64(4), object(11)\n",
      "memory usage: 113.3+ KB\n"
     ]
    }
   ],
   "source": [
    "data.info()\n"
   ]
  },
  {
   "cell_type": "code",
   "execution_count": 39,
   "metadata": {},
   "outputs": [
    {
     "data": {
      "text/plain": [
       "Product Name           966\n",
       "Processor              966\n",
       "Video card             966\n",
       "Detail price           966\n",
       "RAM                    966\n",
       "Weight                 966\n",
       "Features               966\n",
       "Display                965\n",
       "Solid-state drive      963\n",
       "OS                     963\n",
       "Dimensions             962\n",
       "Rank CPU               886\n",
       "Cinebench23            886\n",
       "Rank GPU               821\n",
       "3DMark Time Spy (G)    821\n",
       "dtype: int64"
      ]
     },
     "execution_count": 39,
     "metadata": {},
     "output_type": "execute_result"
    }
   ],
   "source": [
    "# print the sorted number of non-null values of each column\n",
    "data.count().sort_values(ascending=False)\n"
   ]
  },
  {
   "cell_type": "code",
   "execution_count": 40,
   "metadata": {},
   "outputs": [
    {
     "data": {
      "text/html": [
       "<div>\n",
       "<style scoped>\n",
       "    .dataframe tbody tr th:only-of-type {\n",
       "        vertical-align: middle;\n",
       "    }\n",
       "\n",
       "    .dataframe tbody tr th {\n",
       "        vertical-align: top;\n",
       "    }\n",
       "\n",
       "    .dataframe thead th {\n",
       "        text-align: right;\n",
       "    }\n",
       "</style>\n",
       "<table border=\"1\" class=\"dataframe\">\n",
       "  <thead>\n",
       "    <tr style=\"text-align: right;\">\n",
       "      <th></th>\n",
       "      <th>Product Name</th>\n",
       "      <th>Processor</th>\n",
       "      <th>Video card</th>\n",
       "      <th>Display</th>\n",
       "      <th>Solid-state drive</th>\n",
       "      <th>Detail price</th>\n",
       "      <th>RAM</th>\n",
       "      <th>OS</th>\n",
       "      <th>Dimensions</th>\n",
       "      <th>Weight</th>\n",
       "      <th>Features</th>\n",
       "      <th>Rank CPU</th>\n",
       "      <th>Cinebench23</th>\n",
       "      <th>Rank GPU</th>\n",
       "      <th>3DMark Time Spy (G)</th>\n",
       "    </tr>\n",
       "  </thead>\n",
       "  <tbody>\n",
       "    <tr>\n",
       "      <th>0</th>\n",
       "      <td>ASUS ROG Zephyrus G14</td>\n",
       "      <td>AMD Ryzen 9 5900HS</td>\n",
       "      <td>NVIDIA GeForce RTX 3050 Ti (Laptop, 75W)</td>\n",
       "      <td>14.0″, WQHD (2560 x 1440), 120 Hz, IPS</td>\n",
       "      <td>1000GB SSD</td>\n",
       "      <td>$1559.00</td>\n",
       "      <td>24GB DDR4</td>\n",
       "      <td>Windows 10 Home</td>\n",
       "      <td>324 x 222 x 17.9 ~ 19.9 mm (12.76\" x 8.74\" x 0...</td>\n",
       "      <td>1.60 kg (3.5 lbs)</td>\n",
       "      <td>Fingerprint reader</td>\n",
       "      <td>30.0</td>\n",
       "      <td>13179.0</td>\n",
       "      <td>55.0</td>\n",
       "      <td>5970.0</td>\n",
       "    </tr>\n",
       "    <tr>\n",
       "      <th>1</th>\n",
       "      <td>Lenovo ThinkPad T16 Gen 1</td>\n",
       "      <td>Intel Core i7-1260P</td>\n",
       "      <td>Intel Iris Xe Graphics G7 (96EU)</td>\n",
       "      <td>16.0”, WUXGA (1920 x 1200), IPS</td>\n",
       "      <td>512GB SSD</td>\n",
       "      <td>$1169.95</td>\n",
       "      <td>16GB DDR4</td>\n",
       "      <td>Windows 10 Pro</td>\n",
       "      <td>361.9 x 255.5 x 20.5 - 21.1 mm (14.25\" x 10.06...</td>\n",
       "      <td>1.65 kg (3.6 lbs)</td>\n",
       "      <td>Fingerprint reader</td>\n",
       "      <td>56.0</td>\n",
       "      <td>9933.0</td>\n",
       "      <td>107.0</td>\n",
       "      <td>1435.0</td>\n",
       "    </tr>\n",
       "    <tr>\n",
       "      <th>2</th>\n",
       "      <td>HP 15</td>\n",
       "      <td>Intel Core i7-1165G7</td>\n",
       "      <td>Intel Iris Xe Graphics G7 (96EU)</td>\n",
       "      <td>15.6”, Full HD (1920 x 1080), IPS</td>\n",
       "      <td>1000GB SSD</td>\n",
       "      <td>$1149.00</td>\n",
       "      <td>32GB DDR4</td>\n",
       "      <td>Windows 10 Home</td>\n",
       "      <td>358 x 242 x 17.9 mm (14.09\" x 9.53\" x 0.70\")</td>\n",
       "      <td>1.70 kg (3.7 lbs)</td>\n",
       "      <td>Fingerprint reader</td>\n",
       "      <td>99.0</td>\n",
       "      <td>5125.0</td>\n",
       "      <td>107.0</td>\n",
       "      <td>1435.0</td>\n",
       "    </tr>\n",
       "    <tr>\n",
       "      <th>3</th>\n",
       "      <td>Lenovo Ideapad Flex 5 Chromebook 13</td>\n",
       "      <td>Intel Core i3-1115G4</td>\n",
       "      <td>Intel UHD Graphics Xe G4 (48EU)</td>\n",
       "      <td>13.3”, Full HD (1920 x 1080), IPS</td>\n",
       "      <td>128GB SSD</td>\n",
       "      <td>$419.00</td>\n",
       "      <td>8GB DDR4</td>\n",
       "      <td>Chrome OS</td>\n",
       "      <td>310 x 214 x 16.95 mm (12.20\" x 8.43\" x 0.67\")</td>\n",
       "      <td>1.35 kg (3 lbs)</td>\n",
       "      <td>Web camera</td>\n",
       "      <td>109.0</td>\n",
       "      <td>3056.0</td>\n",
       "      <td>NaN</td>\n",
       "      <td>NaN</td>\n",
       "    </tr>\n",
       "    <tr>\n",
       "      <th>4</th>\n",
       "      <td>MSI Katana GF66</td>\n",
       "      <td>Intel Core i7-12700H</td>\n",
       "      <td>NVIDIA GeForce RTX 3060 (Laptop, 105W)</td>\n",
       "      <td>15.6”, Full HD (1920 x 1080), 144 Hz, IPS</td>\n",
       "      <td>4000GB SSD</td>\n",
       "      <td>$1979.99</td>\n",
       "      <td>16GB DDR4</td>\n",
       "      <td>Windows 10 Pro</td>\n",
       "      <td>359 x 259 x 24.9 mm (14.13\" x 10.20\" x 0.98\")</td>\n",
       "      <td>2.25 kg (5 lbs)</td>\n",
       "      <td>Fingerprint reader</td>\n",
       "      <td>17.0</td>\n",
       "      <td>15486.0</td>\n",
       "      <td>39.0</td>\n",
       "      <td>8290.0</td>\n",
       "    </tr>\n",
       "  </tbody>\n",
       "</table>\n",
       "</div>"
      ],
      "text/plain": [
       "                          Product Name             Processor   \n",
       "0                ASUS ROG Zephyrus G14    AMD Ryzen 9 5900HS  \\\n",
       "1            Lenovo ThinkPad T16 Gen 1   Intel Core i7-1260P   \n",
       "2                                HP 15  Intel Core i7-1165G7   \n",
       "3  Lenovo Ideapad Flex 5 Chromebook 13  Intel Core i3-1115G4   \n",
       "4                      MSI Katana GF66  Intel Core i7-12700H   \n",
       "\n",
       "                                 Video card   \n",
       "0  NVIDIA GeForce RTX 3050 Ti (Laptop, 75W)  \\\n",
       "1          Intel Iris Xe Graphics G7 (96EU)   \n",
       "2          Intel Iris Xe Graphics G7 (96EU)   \n",
       "3           Intel UHD Graphics Xe G4 (48EU)   \n",
       "4    NVIDIA GeForce RTX 3060 (Laptop, 105W)   \n",
       "\n",
       "                                     Display Solid-state drive Detail price   \n",
       "0     14.0″, WQHD (2560 x 1440), 120 Hz, IPS        1000GB SSD     $1559.00  \\\n",
       "1            16.0”, WUXGA (1920 x 1200), IPS         512GB SSD     $1169.95   \n",
       "2          15.6”, Full HD (1920 x 1080), IPS        1000GB SSD     $1149.00   \n",
       "3          13.3”, Full HD (1920 x 1080), IPS         128GB SSD      $419.00   \n",
       "4  15.6”, Full HD (1920 x 1080), 144 Hz, IPS        4000GB SSD     $1979.99   \n",
       "\n",
       "         RAM               OS   \n",
       "0  24GB DDR4  Windows 10 Home  \\\n",
       "1  16GB DDR4   Windows 10 Pro   \n",
       "2  32GB DDR4  Windows 10 Home   \n",
       "3   8GB DDR4        Chrome OS   \n",
       "4  16GB DDR4   Windows 10 Pro   \n",
       "\n",
       "                                          Dimensions              Weight   \n",
       "0  324 x 222 x 17.9 ~ 19.9 mm (12.76\" x 8.74\" x 0...  1.60 kg (3.5 lbs)   \\\n",
       "1  361.9 x 255.5 x 20.5 - 21.1 mm (14.25\" x 10.06...  1.65 kg (3.6 lbs)    \n",
       "2       358 x 242 x 17.9 mm (14.09\" x 9.53\" x 0.70\")  1.70 kg (3.7 lbs)    \n",
       "3      310 x 214 x 16.95 mm (12.20\" x 8.43\" x 0.67\")    1.35 kg (3 lbs)    \n",
       "4      359 x 259 x 24.9 mm (14.13\" x 10.20\" x 0.98\")    2.25 kg (5 lbs)    \n",
       "\n",
       "             Features  Rank CPU  Cinebench23  Rank GPU  3DMark Time Spy (G)  \n",
       "0  Fingerprint reader      30.0      13179.0      55.0               5970.0  \n",
       "1  Fingerprint reader      56.0       9933.0     107.0               1435.0  \n",
       "2  Fingerprint reader      99.0       5125.0     107.0               1435.0  \n",
       "3          Web camera     109.0       3056.0       NaN                  NaN  \n",
       "4  Fingerprint reader      17.0      15486.0      39.0               8290.0  "
      ]
     },
     "execution_count": 40,
     "metadata": {},
     "output_type": "execute_result"
    }
   ],
   "source": [
    "data.head()\n"
   ]
  },
  {
   "attachments": {},
   "cell_type": "markdown",
   "metadata": {},
   "source": [
    "Chúng ta thấy có một số cột dữ liệu dạng tổng hợp mà chúng ta cần phải xử lý về sau, để tránh các vấn đề trong quá trình xử lý, chúng ta sẽ xóa các dòng dữ liệu trống trong các cột này.\n",
    "Các cột bao gồm:\n",
    "- Display"
   ]
  },
  {
   "attachments": {},
   "cell_type": "markdown",
   "metadata": {},
   "source": [
    "### 4.3 Chỉnh sửa lại các cột dữ liệu\n"
   ]
  },
  {
   "cell_type": "code",
   "execution_count": 41,
   "metadata": {},
   "outputs": [],
   "source": [
    "# create new dataframe\n",
    "clean_df = pd.DataFrame()\n"
   ]
  },
  {
   "attachments": {},
   "cell_type": "markdown",
   "metadata": {},
   "source": [
    "#### 4.3.1 Chỉnh sửa thông tin giá"
   ]
  },
  {
   "attachments": {},
   "cell_type": "markdown",
   "metadata": {},
   "source": [
    "- **Price** : giá laptop (đơn vị: USD) là thông tin được sử dụng để dự đoán."
   ]
  },
  {
   "cell_type": "code",
   "execution_count": 42,
   "metadata": {},
   "outputs": [],
   "source": [
    "clean_df['price'] = data['Detail price'].str.extract(r'\\$(\\d+.\\d+)')\n",
    "# clean_df['price'] = data['Detail price'].str.extract(r'\\$(\\d+\\.\\d+)')\n",
    "clean_df['price'] = clean_df['price'].astype('float64')\n"
   ]
  },
  {
   "attachments": {},
   "cell_type": "markdown",
   "metadata": {},
   "source": [
    "#### 4.3.2 Chỉnh sửa thông tin hãng sản xuất"
   ]
  },
  {
   "attachments": {},
   "cell_type": "markdown",
   "metadata": {},
   "source": [
    "- **Brand** : Laptop brand\n",
    "- For example: The laptop with name 'ASUS TUF Dash F15' will have 'ASUS' brand.\n"
   ]
  },
  {
   "cell_type": "code",
   "execution_count": 43,
   "metadata": {},
   "outputs": [
    {
     "data": {
      "text/plain": [
       "array(['ASUS', 'LENOVO', 'HP', 'MSI', 'DELL', 'ALIENWARE', 'ACER', 'LG',\n",
       "       'AORUS', 'DYNABOOK', 'APPLE', 'PANASONIC', 'MICROSOFT', 'GIGABYTE'],\n",
       "      dtype=object)"
      ]
     },
     "execution_count": 43,
     "metadata": {},
     "output_type": "execute_result"
    }
   ],
   "source": [
    "clean_df['brand'] = data['Product Name'].str.upper().str.split().str[0]\n",
    "clean_df['brand'].unique()\n"
   ]
  },
  {
   "attachments": {},
   "cell_type": "markdown",
   "metadata": {},
   "source": [
    "#### 4.3.3 Chỉnh sửa thông tin RAM"
   ]
  },
  {
   "attachments": {},
   "cell_type": "markdown",
   "metadata": {},
   "source": [
    "- **RAM** : Laptop RAM\n",
    "- The ram will be in the form \\\\{ram}{some whitespace}GB so we use this regex r'(\\d+)\\s\\*GB' to extract it.\n"
   ]
  },
  {
   "cell_type": "code",
   "execution_count": 44,
   "metadata": {},
   "outputs": [
    {
     "data": {
      "text/plain": [
       "array([ 24.,  16.,  32.,   8.,  64.,  36.,   4.,  20.,  40.,  48.,  12.,\n",
       "       128.])"
      ]
     },
     "execution_count": 44,
     "metadata": {},
     "output_type": "execute_result"
    }
   ],
   "source": [
    "clean_df['ram'] = data['RAM'].str.upper().str.extract(r'(\\d+)\\s*GB')\n",
    "clean_df['ram'] = clean_df['ram'].astype('float64')\n",
    "clean_df['ram'].unique()\n"
   ]
  },
  {
   "cell_type": "code",
   "execution_count": 45,
   "metadata": {},
   "outputs": [
    {
     "data": {
      "text/plain": [
       "array(['DDR4', 'DDR5', 'LPDDR4X', 'LPDDR5', 'LPDDR4', 'LPDDR3', 'RAM'],\n",
       "      dtype=object)"
      ]
     },
     "execution_count": 45,
     "metadata": {},
     "output_type": "execute_result"
    }
   ],
   "source": [
    "\n",
    "clean_df['ram_type'] = data['RAM'].str.upper().str.extract(r'(\\d+)\\s*GB')\n",
    "# get text after GB and before , (comma) or nothing\n",
    "clean_df['ram_type'] = data['RAM'].str.upper().str.extract(r'GB\\s*(\\w*)\\,?')\n",
    "# print numver of non-null value\n",
    "clean_df['ram_type'].unique()\n"
   ]
  },
  {
   "cell_type": "code",
   "execution_count": 46,
   "metadata": {},
   "outputs": [
    {
     "data": {
      "text/plain": [
       "ram_type\n",
       "DDR4       713\n",
       "DDR5       188\n",
       "LPDDR5      33\n",
       "LPDDR4X     26\n",
       "RAM          3\n",
       "LPDDR4       2\n",
       "LPDDR3       1\n",
       "Name: count, dtype: int64"
      ]
     },
     "execution_count": 46,
     "metadata": {},
     "output_type": "execute_result"
    }
   ],
   "source": [
    "clean_df['ram_type'].value_counts()"
   ]
  },
  {
   "attachments": {},
   "cell_type": "markdown",
   "metadata": {},
   "source": [
    "Ta thấy không có loại ram nào có loại là RAM, điều này có thể vì dữ liệu cào không sạch, ta thấy số record có 'ram_type' là 'RAM' là 1. Vì vậy, ta sẽ xóa các record này."
   ]
  },
  {
   "cell_type": "code",
   "execution_count": 47,
   "metadata": {},
   "outputs": [],
   "source": [
    "# delete rows with ram_type is 'RAM'\n",
    "clean_df = clean_df[clean_df['ram_type'] != 'RAM']"
   ]
  },
  {
   "attachments": {},
   "cell_type": "markdown",
   "metadata": {},
   "source": [
    "#### 4.3.4 Chỉnh sửa thông tin về màn hình laptop"
   ]
  },
  {
   "attachments": {},
   "cell_type": "markdown",
   "metadata": {},
   "source": [
    "- **Display Resolution** : Laptop display resolution\n",
    "- Từ các dòng dữ liệu: \"15.6”, Full HD (1920 x 1080), 144 Hz, IPS\" trong cột 'Display' ta trích xuất ra thêm các thuộc tính: \n",
    "    - **'display_size'** : Kích thước màn hình laptop (inch)\n",
    "    - **'display_type'** : Loại màn hình laptop (HD, Full HD, 4K, OLED, ...)\n",
    "    - **'pixels'** : Độ phân giải màn hình laptop (pixels)\n",
    "    - **'screen_rate'** : Tần số làm tươi màn hình laptop (Hz)\n",
    "    - **'screen_panel'** : Loại panel màn hình laptop (IPS, TN, OLED, ...)\n"
   ]
  },
  {
   "cell_type": "code",
   "execution_count": 48,
   "metadata": {},
   "outputs": [],
   "source": [
    "# tìm kiếm kích thước màn hình\n",
    "clean_df['display_size'] = data['Display'].str.extract(r'^(\\d+\\.?\\d+)')\n",
    "clean_df['display_size'] = clean_df['display_size'].astype('float64')\n",
    "clean_df['display_type'] = data['Display'].str.extract(r'[,](.*?)[(]')\n",
    "clean_df['resolution'] = data['Display'].str.extract(r'\\((.*?)\\)')\n",
    "\n",
    "clean_df['screen_rate'] = data['Display'].str.extract(r'[)][,](.*?)[H]')\n",
    "\n",
    "clean_df['screen_panel'] = data['Display'].str.split(',').str[-1]\n",
    "# remove space at the beginning and end of the string\n",
    "clean_df['screen_panel'] = clean_df['screen_panel'].str.strip()\n"
   ]
  },
  {
   "cell_type": "code",
   "execution_count": 49,
   "metadata": {},
   "outputs": [
    {
     "data": {
      "text/plain": [
       "screen_panel\n",
       "IPS                         786\n",
       "TN                          155\n",
       "OLED                         20\n",
       "PixelSense (2256 x 1504)      1\n",
       "Name: count, dtype: int64"
      ]
     },
     "execution_count": 49,
     "metadata": {},
     "output_type": "execute_result"
    }
   ],
   "source": [
    "# print unique value of screen_panel\n",
    "clean_df['screen_panel'].value_counts()"
   ]
  },
  {
   "cell_type": "code",
   "execution_count": 50,
   "metadata": {},
   "outputs": [
    {
     "data": {
      "text/plain": [
       "array(['IPS', 'TN', 'OLED', 'PixelSense (2256 x 1504)', nan], dtype=object)"
      ]
     },
     "execution_count": 50,
     "metadata": {},
     "output_type": "execute_result"
    }
   ],
   "source": [
    "clean_df['screen_panel'].unique()"
   ]
  },
  {
   "cell_type": "code",
   "execution_count": 51,
   "metadata": {},
   "outputs": [],
   "source": [
    "# delete rows with screen_panel is 'PixelSense (2256 x 1504)'\n",
    "clean_df = clean_df[clean_df['screen_panel'] != 'PixelSense (2256 x 1504)']\n",
    "# delete rows with screen_panel is 'Full HD (1920 x 1080)'\n",
    "clean_df = clean_df[clean_df['screen_panel'] != 'Full HD (1920 x 1080)']\n"
   ]
  },
  {
   "attachments": {},
   "cell_type": "markdown",
   "metadata": {},
   "source": [
    "Ta thấy một số record PixelSense (2256 x 1504) Full HD (1920 x 1080) ở đây, có nghĩa là những dòng này trong dữ liệu gốc không có dữ liệu về tấm nên, do đó ta xóa các record này đi"
   ]
  },
  {
   "attachments": {},
   "cell_type": "markdown",
   "metadata": {},
   "source": [
    "Đối với tần số quét của laptop, thông thường mặc định các màn hình đều có tần số quét là 60Hz, nếu tần số quét cao hơn, các nhà sản xuất sẽ đưa thông tin tần số quét vào thông tin sản phẩm. Vì vậy, ta sẽ thay dữ liệu trống với tần số quét là 60Hz."
   ]
  },
  {
   "cell_type": "code",
   "execution_count": 52,
   "metadata": {},
   "outputs": [
    {
     "data": {
      "text/plain": [
       "array([120.,  nan, 144., 165., 240., 360.,  90., 300.])"
      ]
     },
     "execution_count": 52,
     "metadata": {},
     "output_type": "execute_result"
    }
   ],
   "source": [
    "# fill na in screen_rate by 0\n",
    "# clean_df['screen_rate'].fillna('60', inplace=True)\n",
    "# trim space in screen_rate\n",
    "clean_df['screen_rate'] = clean_df['screen_rate'].str.strip()\n",
    "# convert screen_rate to float\n",
    "clean_df['screen_rate'] = clean_df['screen_rate'].astype('float64')\n",
    "clean_df['screen_rate'].unique()\n"
   ]
  },
  {
   "cell_type": "code",
   "execution_count": 53,
   "metadata": {},
   "outputs": [
    {
     "data": {
      "text/plain": [
       "array([' WQHD ', ' WUXGA ', ' Full HD ', ' HD ', ' WQXGA ', ' UHD+ ',\n",
       "       ' HD+ ', ' WUXGA+ ', ' QHD ', ' WQUXGA ', ' QHD+ ', ' 2.8K ',\n",
       "       ' 4K UHD ', ' 2.2K ', ' FHD+ ', ' 3K ', '  QHD ', ' 2.5K ',\n",
       "       ' FHD ', nan, ' 3.5K ', ' 2K '], dtype=object)"
      ]
     },
     "execution_count": 53,
     "metadata": {},
     "output_type": "execute_result"
    }
   ],
   "source": [
    "clean_df['display_type'].unique()"
   ]
  },
  {
   "attachments": {},
   "cell_type": "markdown",
   "metadata": {},
   "source": [
    "Chúng ta có thể thấy cột display_type chưa được loại bỏ khoảng trắng và ký tự đặc biệt. Vì vậy, chúng ta sẽ loại bỏ khoảng trắng và ký tự đặc biệt trong cột này. \\xa0 = space"
   ]
  },
  {
   "cell_type": "code",
   "execution_count": 54,
   "metadata": {},
   "outputs": [],
   "source": [
    "# trim space before and after string in display_type\n",
    "clean_df['display_type'] = clean_df['display_type'].str.strip()\n",
    "# change value 'Full HD' to 'FHD'\n",
    "clean_df['display_type'] = clean_df['display_type'].str.replace('Full HD', 'FHD')"
   ]
  },
  {
   "cell_type": "code",
   "execution_count": 55,
   "metadata": {},
   "outputs": [
    {
     "data": {
      "text/plain": [
       "array(['WQHD', 'WUXGA', 'FHD', 'HD', 'WQXGA', 'UHD+', 'HD+', 'WUXGA+',\n",
       "       'QHD', 'WQUXGA', 'QHD+', '2.8K', '4K UHD', '2.2K', 'FHD+', '3K',\n",
       "       '2.5K', nan, '3.5K', '2K'], dtype=object)"
      ]
     },
     "execution_count": 55,
     "metadata": {},
     "output_type": "execute_result"
    }
   ],
   "source": [
    "clean_df['display_type'].unique()"
   ]
  },
  {
   "attachments": {},
   "cell_type": "markdown",
   "metadata": {},
   "source": [
    "#### 4.3.5 Chỉnh sửa thông tin về kích thước laptop"
   ]
  },
  {
   "attachments": {},
   "cell_type": "markdown",
   "metadata": {},
   "source": [
    "- **Dimmension** : 358.9 x 228 x 18.4 mm -> kích thước của laptop bao gồm chiều dài, chiều rộng và độ dày (mm)\n"
   ]
  },
  {
   "cell_type": "code",
   "execution_count": 56,
   "metadata": {},
   "outputs": [],
   "source": [
    "dimention = data['Dimensions'].str.findall(r'(\\d+\\.?\\d+)')\n",
    "# clean_df['length'] the first number in dimention\n",
    "clean_df['length'] = dimention.str[0]\n",
    "# clean_df['width'] the second number in dimention\n",
    "clean_df['width'] = dimention.str[1]\n",
    "# clean_df['height'] the third number in dimention\n",
    "clean_df['height'] = dimention.str[2]\n"
   ]
  },
  {
   "cell_type": "code",
   "execution_count": 57,
   "metadata": {},
   "outputs": [],
   "source": [
    "# convert to float\n",
    "clean_df['length'] = clean_df['length'].astype('float64')\n",
    "clean_df['width'] = clean_df['width'].astype('float64')\n",
    "clean_df['height'] = clean_df['height'].astype('float64')\n"
   ]
  },
  {
   "attachments": {},
   "cell_type": "markdown",
   "metadata": {},
   "source": [
    "#### 4.3.6 Chỉnh sửa thông tin về hãng CPU và GPU"
   ]
  },
  {
   "attachments": {},
   "cell_type": "markdown",
   "metadata": {},
   "source": [
    "- **Processor** : CPU of laptop\n"
   ]
  },
  {
   "cell_type": "code",
   "execution_count": 58,
   "metadata": {},
   "outputs": [],
   "source": [
    "clean_df['cpu_brand'] = data['Processor'].str.split().str[0]\n"
   ]
  },
  {
   "cell_type": "code",
   "execution_count": 59,
   "metadata": {},
   "outputs": [
    {
     "data": {
      "text/plain": [
       "array(['AMD', 'Intel'], dtype=object)"
      ]
     },
     "execution_count": 59,
     "metadata": {},
     "output_type": "execute_result"
    }
   ],
   "source": [
    "clean_df['cpu_brand'].unique()\n"
   ]
  },
  {
   "attachments": {},
   "cell_type": "markdown",
   "metadata": {},
   "source": [
    "- **GPU** : Laptop graphic card\n"
   ]
  },
  {
   "cell_type": "code",
   "execution_count": 60,
   "metadata": {},
   "outputs": [],
   "source": [
    "clean_df['gpu_brand'] = data['Video card'].str.upper().str.split().str[0]\n"
   ]
  },
  {
   "cell_type": "code",
   "execution_count": 61,
   "metadata": {},
   "outputs": [
    {
     "data": {
      "text/plain": [
       "array(['NVIDIA', 'INTEL', 'AMD'], dtype=object)"
      ]
     },
     "execution_count": 61,
     "metadata": {},
     "output_type": "execute_result"
    }
   ],
   "source": [
    "clean_df['gpu_brand'].unique()\n"
   ]
  },
  {
   "attachments": {},
   "cell_type": "markdown",
   "metadata": {},
   "source": [
    "#### 4.3.7 Chỉnh sửa thông tin về bộ nhớ trong SSD và HDD"
   ]
  },
  {
   "attachments": {},
   "cell_type": "markdown",
   "metadata": {},
   "source": [
    "- **Bộ nhớ trong SSD**\n"
   ]
  },
  {
   "cell_type": "code",
   "execution_count": 62,
   "metadata": {},
   "outputs": [
    {
     "data": {
      "text/plain": [
       "array([1000.,  512.,  128., 4000., 2000.,   64., 8000.,  256.,  516.,\n",
       "         32.,   nan,  120., 7600.])"
      ]
     },
     "execution_count": 62,
     "metadata": {},
     "output_type": "execute_result"
    }
   ],
   "source": [
    "clean_df['ssd'] = data['Solid-state drive'].str.extract(r'(\\d+)\\s*GB')\n",
    "clean_df['ssd'] = clean_df['ssd'].astype('float64')\n",
    "clean_df['ssd'].unique()\n"
   ]
  },
  {
   "attachments": {},
   "cell_type": "markdown",
   "metadata": {},
   "source": [
    "#### 4.3.8 Chỉnh sửa thông tin về hệ điều hành"
   ]
  },
  {
   "attachments": {},
   "cell_type": "markdown",
   "metadata": {},
   "source": [
    "- **OS**\n"
   ]
  },
  {
   "cell_type": "code",
   "execution_count": 63,
   "metadata": {},
   "outputs": [],
   "source": [
    "clean_df['os'] = data['OS'].str.extract(\n",
    "    r'(Windows|Linux|No OS|Mac OS|Chrome OS)')"
   ]
  },
  {
   "attachments": {},
   "cell_type": "markdown",
   "metadata": {},
   "source": [
    "#### 4.3.9 Chỉnh sửa thông tin về cân nặng laptop"
   ]
  },
  {
   "attachments": {},
   "cell_type": "markdown",
   "metadata": {},
   "source": [
    "- **Weights**\n"
   ]
  },
  {
   "cell_type": "code",
   "execution_count": 64,
   "metadata": {},
   "outputs": [],
   "source": [
    "clean_df['weight'] = data['Weight'].str.extract(r'^(\\d+\\.?\\d+)')\n",
    "clean_df['weight'] = clean_df['weight'].astype('float64')"
   ]
  },
  {
   "attachments": {},
   "cell_type": "markdown",
   "metadata": {},
   "source": [
    "#### 4.3.10 Chỉnh sửa thông tin về xếp hạng và điểm hiệu năng của CPU và GPU"
   ]
  },
  {
   "attachments": {},
   "cell_type": "markdown",
   "metadata": {},
   "source": [
    "- CPU/ GPU benchmark\n"
   ]
  },
  {
   "cell_type": "code",
   "execution_count": 65,
   "metadata": {},
   "outputs": [],
   "source": [
    "clean_df['cpu_point'] = data['Cinebench23']\n",
    "clean_df['gpu_point'] = data['3DMark Time Spy (G)']\n",
    "\n",
    "# convert to float\n",
    "clean_df['cpu_point'] = clean_df['cpu_point'].astype('float64')\n",
    "clean_df['gpu_point'] = clean_df['gpu_point'].astype('float64')\n"
   ]
  },
  {
   "attachments": {},
   "cell_type": "markdown",
   "metadata": {},
   "source": [
    "#### 4.3.11 Chỉnh sửa thông tin về các chức năng khác của laptop"
   ]
  },
  {
   "attachments": {},
   "cell_type": "markdown",
   "metadata": {},
   "source": [
    "- **Features**\n"
   ]
  },
  {
   "cell_type": "code",
   "execution_count": 66,
   "metadata": {},
   "outputs": [],
   "source": [
    "clean_df['features'] = data['Features']"
   ]
  },
  {
   "cell_type": "code",
   "execution_count": 67,
   "metadata": {},
   "outputs": [
    {
     "data": {
      "text/plain": [
       "array(['Fingerprint reader', 'Web camera', 'Microphone'], dtype=object)"
      ]
     },
     "execution_count": 67,
     "metadata": {},
     "output_type": "execute_result"
    }
   ],
   "source": [
    "clean_df['features'].unique()\n"
   ]
  },
  {
   "cell_type": "code",
   "execution_count": 68,
   "metadata": {},
   "outputs": [
    {
     "data": {
      "text/plain": [
       "features\n",
       "Fingerprint reader    786\n",
       "Web camera            175\n",
       "Microphone              1\n",
       "Name: count, dtype: int64"
      ]
     },
     "execution_count": 68,
     "metadata": {},
     "output_type": "execute_result"
    }
   ],
   "source": [
    "clean_df['features'].value_counts()\n"
   ]
  },
  {
   "attachments": {},
   "cell_type": "markdown",
   "metadata": {},
   "source": [
    "#### 4.3.12 Chỉnh sửa các cột dữ liệu dạng string thành uppercase"
   ]
  },
  {
   "cell_type": "code",
   "execution_count": 69,
   "metadata": {},
   "outputs": [],
   "source": [
    "# conver brand, ram_type, display_type, screen_panel, cpu_brand, gpu_brand, OS to uppercase\n",
    "clean_df['brand'] = clean_df['brand'].str.upper()\n",
    "clean_df['ram_type'] = clean_df['ram_type'].str.upper()\n",
    "clean_df['display_type'] = clean_df['display_type'].str.upper()\n",
    "clean_df['screen_panel'] = clean_df['screen_panel'].str.upper()\n",
    "clean_df['cpu_brand'] = clean_df['cpu_brand'].str.upper()\n",
    "clean_df['gpu_brand'] = clean_df['gpu_brand'].str.upper()\n",
    "clean_df['os'] = clean_df['os'].str.upper()\n",
    "clean_df['features'] = clean_df['features'].str.upper()\n"
   ]
  },
  {
   "attachments": {},
   "cell_type": "markdown",
   "metadata": {},
   "source": [
    "#### 4.3.13 Xóa dữ liệu trống và trùng lặp một lần nữa"
   ]
  },
  {
   "attachments": {},
   "cell_type": "markdown",
   "metadata": {},
   "source": [
    "Vì chúng ta tiến hành dự đoán giá laptop, do đó, chúng ta sẽ xóa các dòng dữ liệu có giá trị 'Price' là NaN."
   ]
  },
  {
   "cell_type": "code",
   "execution_count": 70,
   "metadata": {},
   "outputs": [],
   "source": [
    "# drop missing value in Price column\n",
    "clean_df.dropna(subset=['price'], inplace=True)\n",
    "\n",
    "# clean_df.dropna(inplace=True)\n",
    "clean_df.drop_duplicates(inplace=True)\n",
    "# reset index column\n",
    "clean_df.reset_index(drop=True, inplace=True)\n"
   ]
  },
  {
   "attachments": {},
   "cell_type": "markdown",
   "metadata": {},
   "source": [
    "## 5. Kiểm tra lại và lưu dữ liệu"
   ]
  },
  {
   "cell_type": "code",
   "execution_count": 71,
   "metadata": {},
   "outputs": [
    {
     "name": "stdout",
     "output_type": "stream",
     "text": [
      "<class 'pandas.core.frame.DataFrame'>\n",
      "RangeIndex: 947 entries, 0 to 946\n",
      "Data columns (total 20 columns):\n",
      " #   Column        Non-Null Count  Dtype  \n",
      "---  ------        --------------  -----  \n",
      " 0   price         947 non-null    float64\n",
      " 1   brand         947 non-null    object \n",
      " 2   ram           947 non-null    float64\n",
      " 3   ram_type      947 non-null    object \n",
      " 4   display_size  946 non-null    float64\n",
      " 5   display_type  946 non-null    object \n",
      " 6   resolution    946 non-null    object \n",
      " 7   screen_rate   321 non-null    float64\n",
      " 8   screen_panel  946 non-null    object \n",
      " 9   length        943 non-null    float64\n",
      " 10  width         943 non-null    float64\n",
      " 11  height        943 non-null    float64\n",
      " 12  cpu_brand     947 non-null    object \n",
      " 13  gpu_brand     947 non-null    object \n",
      " 14  ssd           944 non-null    float64\n",
      " 15  os            944 non-null    object \n",
      " 16  weight        947 non-null    float64\n",
      " 17  cpu_point     869 non-null    float64\n",
      " 18  gpu_point     807 non-null    float64\n",
      " 19  features      947 non-null    object \n",
      "dtypes: float64(11), object(9)\n",
      "memory usage: 148.1+ KB\n"
     ]
    }
   ],
   "source": [
    "clean_df.info()\n"
   ]
  },
  {
   "cell_type": "code",
   "execution_count": 72,
   "metadata": {},
   "outputs": [
    {
     "data": {
      "text/html": [
       "<div>\n",
       "<style scoped>\n",
       "    .dataframe tbody tr th:only-of-type {\n",
       "        vertical-align: middle;\n",
       "    }\n",
       "\n",
       "    .dataframe tbody tr th {\n",
       "        vertical-align: top;\n",
       "    }\n",
       "\n",
       "    .dataframe thead th {\n",
       "        text-align: right;\n",
       "    }\n",
       "</style>\n",
       "<table border=\"1\" class=\"dataframe\">\n",
       "  <thead>\n",
       "    <tr style=\"text-align: right;\">\n",
       "      <th></th>\n",
       "      <th>price</th>\n",
       "      <th>brand</th>\n",
       "      <th>ram</th>\n",
       "      <th>ram_type</th>\n",
       "      <th>display_size</th>\n",
       "      <th>display_type</th>\n",
       "      <th>resolution</th>\n",
       "      <th>screen_rate</th>\n",
       "      <th>screen_panel</th>\n",
       "      <th>length</th>\n",
       "      <th>width</th>\n",
       "      <th>height</th>\n",
       "      <th>cpu_brand</th>\n",
       "      <th>gpu_brand</th>\n",
       "      <th>ssd</th>\n",
       "      <th>os</th>\n",
       "      <th>weight</th>\n",
       "      <th>cpu_point</th>\n",
       "      <th>gpu_point</th>\n",
       "      <th>features</th>\n",
       "    </tr>\n",
       "  </thead>\n",
       "  <tbody>\n",
       "    <tr>\n",
       "      <th>0</th>\n",
       "      <td>1559.00</td>\n",
       "      <td>ASUS</td>\n",
       "      <td>24.0</td>\n",
       "      <td>DDR4</td>\n",
       "      <td>14.0</td>\n",
       "      <td>WQHD</td>\n",
       "      <td>2560 x 1440</td>\n",
       "      <td>120.0</td>\n",
       "      <td>IPS</td>\n",
       "      <td>324.0</td>\n",
       "      <td>222.0</td>\n",
       "      <td>17.90</td>\n",
       "      <td>AMD</td>\n",
       "      <td>NVIDIA</td>\n",
       "      <td>1000.0</td>\n",
       "      <td>WINDOWS</td>\n",
       "      <td>1.60</td>\n",
       "      <td>13179.0</td>\n",
       "      <td>5970.0</td>\n",
       "      <td>FINGERPRINT READER</td>\n",
       "    </tr>\n",
       "    <tr>\n",
       "      <th>1</th>\n",
       "      <td>1169.95</td>\n",
       "      <td>LENOVO</td>\n",
       "      <td>16.0</td>\n",
       "      <td>DDR4</td>\n",
       "      <td>16.0</td>\n",
       "      <td>WUXGA</td>\n",
       "      <td>1920 x 1200</td>\n",
       "      <td>NaN</td>\n",
       "      <td>IPS</td>\n",
       "      <td>361.9</td>\n",
       "      <td>255.5</td>\n",
       "      <td>20.50</td>\n",
       "      <td>INTEL</td>\n",
       "      <td>INTEL</td>\n",
       "      <td>512.0</td>\n",
       "      <td>WINDOWS</td>\n",
       "      <td>1.65</td>\n",
       "      <td>9933.0</td>\n",
       "      <td>1435.0</td>\n",
       "      <td>FINGERPRINT READER</td>\n",
       "    </tr>\n",
       "    <tr>\n",
       "      <th>2</th>\n",
       "      <td>1149.00</td>\n",
       "      <td>HP</td>\n",
       "      <td>32.0</td>\n",
       "      <td>DDR4</td>\n",
       "      <td>15.6</td>\n",
       "      <td>FHD</td>\n",
       "      <td>1920 x 1080</td>\n",
       "      <td>NaN</td>\n",
       "      <td>IPS</td>\n",
       "      <td>358.0</td>\n",
       "      <td>242.0</td>\n",
       "      <td>17.90</td>\n",
       "      <td>INTEL</td>\n",
       "      <td>INTEL</td>\n",
       "      <td>1000.0</td>\n",
       "      <td>WINDOWS</td>\n",
       "      <td>1.70</td>\n",
       "      <td>5125.0</td>\n",
       "      <td>1435.0</td>\n",
       "      <td>FINGERPRINT READER</td>\n",
       "    </tr>\n",
       "    <tr>\n",
       "      <th>3</th>\n",
       "      <td>419.00</td>\n",
       "      <td>LENOVO</td>\n",
       "      <td>8.0</td>\n",
       "      <td>DDR4</td>\n",
       "      <td>13.3</td>\n",
       "      <td>FHD</td>\n",
       "      <td>1920 x 1080</td>\n",
       "      <td>NaN</td>\n",
       "      <td>IPS</td>\n",
       "      <td>310.0</td>\n",
       "      <td>214.0</td>\n",
       "      <td>16.95</td>\n",
       "      <td>INTEL</td>\n",
       "      <td>INTEL</td>\n",
       "      <td>128.0</td>\n",
       "      <td>CHROME OS</td>\n",
       "      <td>1.35</td>\n",
       "      <td>3056.0</td>\n",
       "      <td>NaN</td>\n",
       "      <td>WEB CAMERA</td>\n",
       "    </tr>\n",
       "    <tr>\n",
       "      <th>4</th>\n",
       "      <td>1979.99</td>\n",
       "      <td>MSI</td>\n",
       "      <td>16.0</td>\n",
       "      <td>DDR4</td>\n",
       "      <td>15.6</td>\n",
       "      <td>FHD</td>\n",
       "      <td>1920 x 1080</td>\n",
       "      <td>144.0</td>\n",
       "      <td>IPS</td>\n",
       "      <td>359.0</td>\n",
       "      <td>259.0</td>\n",
       "      <td>24.90</td>\n",
       "      <td>INTEL</td>\n",
       "      <td>NVIDIA</td>\n",
       "      <td>4000.0</td>\n",
       "      <td>WINDOWS</td>\n",
       "      <td>2.25</td>\n",
       "      <td>15486.0</td>\n",
       "      <td>8290.0</td>\n",
       "      <td>FINGERPRINT READER</td>\n",
       "    </tr>\n",
       "  </tbody>\n",
       "</table>\n",
       "</div>"
      ],
      "text/plain": [
       "     price   brand   ram ram_type  display_size display_type   resolution   \n",
       "0  1559.00    ASUS  24.0     DDR4          14.0         WQHD  2560 x 1440  \\\n",
       "1  1169.95  LENOVO  16.0     DDR4          16.0        WUXGA  1920 x 1200   \n",
       "2  1149.00      HP  32.0     DDR4          15.6          FHD  1920 x 1080   \n",
       "3   419.00  LENOVO   8.0     DDR4          13.3          FHD  1920 x 1080   \n",
       "4  1979.99     MSI  16.0     DDR4          15.6          FHD  1920 x 1080   \n",
       "\n",
       "   screen_rate screen_panel  length  width  height cpu_brand gpu_brand   \n",
       "0        120.0          IPS   324.0  222.0   17.90       AMD    NVIDIA  \\\n",
       "1          NaN          IPS   361.9  255.5   20.50     INTEL     INTEL   \n",
       "2          NaN          IPS   358.0  242.0   17.90     INTEL     INTEL   \n",
       "3          NaN          IPS   310.0  214.0   16.95     INTEL     INTEL   \n",
       "4        144.0          IPS   359.0  259.0   24.90     INTEL    NVIDIA   \n",
       "\n",
       "      ssd         os  weight  cpu_point  gpu_point            features  \n",
       "0  1000.0    WINDOWS    1.60    13179.0     5970.0  FINGERPRINT READER  \n",
       "1   512.0    WINDOWS    1.65     9933.0     1435.0  FINGERPRINT READER  \n",
       "2  1000.0    WINDOWS    1.70     5125.0     1435.0  FINGERPRINT READER  \n",
       "3   128.0  CHROME OS    1.35     3056.0        NaN          WEB CAMERA  \n",
       "4  4000.0    WINDOWS    2.25    15486.0     8290.0  FINGERPRINT READER  "
      ]
     },
     "execution_count": 72,
     "metadata": {},
     "output_type": "execute_result"
    }
   ],
   "source": [
    "clean_df.head()\n"
   ]
  },
  {
   "cell_type": "code",
   "execution_count": 73,
   "metadata": {},
   "outputs": [],
   "source": [
    "clean_df.to_csv('clean_data_1k.csv', index=False)\n"
   ]
  }
 ],
 "metadata": {
  "kernelspec": {
   "display_name": "Python 3 (ipykernel)",
   "language": "python",
   "name": "python3"
  },
  "language_info": {
   "codemirror_mode": {
    "name": "ipython",
    "version": 3
   },
   "file_extension": ".py",
   "mimetype": "text/x-python",
   "name": "python",
   "nbconvert_exporter": "python",
   "pygments_lexer": "ipython3",
   "version": "3.10.9"
  }
 },
 "nbformat": 4,
 "nbformat_minor": 4
}
