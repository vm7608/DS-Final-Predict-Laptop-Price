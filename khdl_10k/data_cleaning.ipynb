{
 "cells": [
  {
   "attachments": {},
   "cell_type": "markdown",
   "metadata": {},
   "source": [
    "## Giới thiệu về bộ dữ liệu sẽ xử lý\n",
    "\n",
    "- Bộ dữ liệu raw bao gồm 4 file `laptop_basic.csv`, `laptop_detail.csv`, `cpuben.csv` và `cpuben.csv`. Dữ liệu được cào từ website [LaptopMedia](https://laptopmedia.com/)\n",
    "- File `laptop_basic.csv` chứa link thông tin của 10000 laptop.\n",
    "- File `laptop_detail.csv` chứa thông tin chi tiết của 10000 laptop.\n",
    "- File `cpuben.csv` chứa thông tin benchmark và thứ hạng hiệu năng của 122 mẫu CPU.\n",
    "- File `gpuben.csv` chứa thông tin benchmark và thứ hạng hiệu năng của 140 mẫu GPU.\n",
    "- Trong notebook này, chúng em sẽ tiến hành gộp, xử lý và làm sạch dữ liệu. Kết quả cuối cùng sẽ được lưu vào file 'clean_data.csv' "
   ]
  },
  {
   "attachments": {},
   "cell_type": "markdown",
   "metadata": {},
   "source": [
    "## 1. Khai báo thư viện\n"
   ]
  },
  {
   "cell_type": "code",
   "execution_count": 70,
   "metadata": {},
   "outputs": [],
   "source": [
    "import numpy as np\n",
    "import pandas as pd\n",
    "import re\n",
    "import warnings\n",
    "import matplotlib.pyplot as plt\n",
    "warnings.filterwarnings('ignore')"
   ]
  },
  {
   "attachments": {},
   "cell_type": "markdown",
   "metadata": {},
   "source": [
    "## 2. Load và kiểm tra tập dữ liệu thô"
   ]
  },
  {
   "cell_type": "code",
   "execution_count": 71,
   "metadata": {},
   "outputs": [
    {
     "name": "stdout",
     "output_type": "stream",
     "text": [
      "Number of rows and columns: (10000, 97)\n"
     ]
    }
   ],
   "source": [
    "data_detail = pd.read_csv('raw10k\\laptop_detail.csv')\n",
    "print('Number of rows and columns:', data_detail.shape)"
   ]
  },
  {
   "cell_type": "code",
   "execution_count": 72,
   "metadata": {},
   "outputs": [
    {
     "data": {
      "text/html": [
       "<div>\n",
       "<style scoped>\n",
       "    .dataframe tbody tr th:only-of-type {\n",
       "        vertical-align: middle;\n",
       "    }\n",
       "\n",
       "    .dataframe tbody tr th {\n",
       "        vertical-align: top;\n",
       "    }\n",
       "\n",
       "    .dataframe thead th {\n",
       "        text-align: right;\n",
       "    }\n",
       "</style>\n",
       "<table border=\"1\" class=\"dataframe\">\n",
       "  <thead>\n",
       "    <tr style=\"text-align: right;\">\n",
       "      <th></th>\n",
       "      <th>Unnamed: 0.1</th>\n",
       "      <th>Unnamed: 0</th>\n",
       "      <th>Product Name</th>\n",
       "      <th>Product Link</th>\n",
       "      <th>Processor</th>\n",
       "      <th>Internal memory</th>\n",
       "      <th>Video card</th>\n",
       "      <th>Display</th>\n",
       "      <th>Solid-state drive</th>\n",
       "      <th>Price</th>\n",
       "      <th>...</th>\n",
       "      <th>Storage drive heater\\n</th>\n",
       "      <th>4G LTE multi carrier mobile broadband with satellite GPS</th>\n",
       "      <th>E-compass\\n</th>\n",
       "      <th>Accelerometer</th>\n",
       "      <th>4x RAM slots</th>\n",
       "      <th>G-sensor</th>\n",
       "      <th>Accelerometer (G-sensor)</th>\n",
       "      <th>Slot Integrated Bluetooth Earbuds</th>\n",
       "      <th>3W subwoofer</th>\n",
       "      <th>MIL-STD 810G tested</th>\n",
       "    </tr>\n",
       "  </thead>\n",
       "  <tbody>\n",
       "    <tr>\n",
       "      <th>0</th>\n",
       "      <td>0</td>\n",
       "      <td>0</td>\n",
       "      <td>ASUS TUF Dash F15</td>\n",
       "      <td>https://laptopmedia.com/laptop-specs/asus-tuf-...</td>\n",
       "      <td>Intel Core i7-12650H</td>\n",
       "      <td>64GB RAM</td>\n",
       "      <td>NVIDIA GeForce RTX 3070 (Laptop, 105W)</td>\n",
       "      <td>15.6”, Full HD (1920 x 1080), 144 Hz, IPS</td>\n",
       "      <td>2000GB SSD</td>\n",
       "      <td>$362900</td>\n",
       "      <td>...</td>\n",
       "      <td>NaN</td>\n",
       "      <td>NaN</td>\n",
       "      <td>NaN</td>\n",
       "      <td>NaN</td>\n",
       "      <td>NaN</td>\n",
       "      <td>NaN</td>\n",
       "      <td>NaN</td>\n",
       "      <td>NaN</td>\n",
       "      <td>NaN</td>\n",
       "      <td>NaN</td>\n",
       "    </tr>\n",
       "    <tr>\n",
       "      <th>1</th>\n",
       "      <td>1</td>\n",
       "      <td>1</td>\n",
       "      <td>Lenovo Legion 5i 15</td>\n",
       "      <td>https://laptopmedia.com/laptop-specs/lenovo-le...</td>\n",
       "      <td>Intel Core i7-12700H</td>\n",
       "      <td>64GB RAM</td>\n",
       "      <td>NVIDIA GeForce RTX 3060 (Laptop, 130W)</td>\n",
       "      <td>15.6”, QHD (2560 x 1440), 165 Hz, IPS</td>\n",
       "      <td>2000GB SSD</td>\n",
       "      <td>$304999</td>\n",
       "      <td>...</td>\n",
       "      <td>NaN</td>\n",
       "      <td>NaN</td>\n",
       "      <td>NaN</td>\n",
       "      <td>NaN</td>\n",
       "      <td>NaN</td>\n",
       "      <td>NaN</td>\n",
       "      <td>NaN</td>\n",
       "      <td>NaN</td>\n",
       "      <td>NaN</td>\n",
       "      <td>NaN</td>\n",
       "    </tr>\n",
       "    <tr>\n",
       "      <th>2</th>\n",
       "      <td>2</td>\n",
       "      <td>2</td>\n",
       "      <td>Acer Nitro 5</td>\n",
       "      <td>https://laptopmedia.com/laptop-specs/acer-nitr...</td>\n",
       "      <td>Intel Core i7-12700H</td>\n",
       "      <td>32GB RAM</td>\n",
       "      <td>NVIDIA GeForce RTX 3060 (Laptop, 140W)</td>\n",
       "      <td>15.6”, Full HD (1920 x 1080), 144 Hz, IPS</td>\n",
       "      <td>2000GB SSD</td>\n",
       "      <td>$181900</td>\n",
       "      <td>...</td>\n",
       "      <td>NaN</td>\n",
       "      <td>NaN</td>\n",
       "      <td>NaN</td>\n",
       "      <td>NaN</td>\n",
       "      <td>NaN</td>\n",
       "      <td>NaN</td>\n",
       "      <td>NaN</td>\n",
       "      <td>NaN</td>\n",
       "      <td>NaN</td>\n",
       "      <td>NaN</td>\n",
       "    </tr>\n",
       "  </tbody>\n",
       "</table>\n",
       "<p>3 rows × 97 columns</p>\n",
       "</div>"
      ],
      "text/plain": [
       "   Unnamed: 0.1  Unnamed: 0         Product Name   \n",
       "0             0           0    ASUS TUF Dash F15  \\\n",
       "1             1           1  Lenovo Legion 5i 15   \n",
       "2             2           2         Acer Nitro 5   \n",
       "\n",
       "                                        Product Link             Processor   \n",
       "0  https://laptopmedia.com/laptop-specs/asus-tuf-...  Intel Core i7-12650H  \\\n",
       "1  https://laptopmedia.com/laptop-specs/lenovo-le...  Intel Core i7-12700H   \n",
       "2  https://laptopmedia.com/laptop-specs/acer-nitr...  Intel Core i7-12700H   \n",
       "\n",
       "  Internal memory                              Video card   \n",
       "0        64GB RAM  NVIDIA GeForce RTX 3070 (Laptop, 105W)  \\\n",
       "1        64GB RAM  NVIDIA GeForce RTX 3060 (Laptop, 130W)   \n",
       "2        32GB RAM  NVIDIA GeForce RTX 3060 (Laptop, 140W)   \n",
       "\n",
       "                                     Display Solid-state drive    Price  ...   \n",
       "0  15.6”, Full HD (1920 x 1080), 144 Hz, IPS        2000GB SSD  $362900  ...  \\\n",
       "1      15.6”, QHD (2560 x 1440), 165 Hz, IPS        2000GB SSD  $304999  ...   \n",
       "2  15.6”, Full HD (1920 x 1080), 144 Hz, IPS        2000GB SSD  $181900  ...   \n",
       "\n",
       "  Storage drive heater\\n   \n",
       "0                    NaN  \\\n",
       "1                    NaN   \n",
       "2                    NaN   \n",
       "\n",
       "  4G LTE multi carrier mobile broadband with satellite GPS E-compass\\n   \n",
       "0                                                NaN               NaN  \\\n",
       "1                                                NaN               NaN   \n",
       "2                                                NaN               NaN   \n",
       "\n",
       "  Accelerometer 4x RAM slots G-sensor Accelerometer (G-sensor)   \n",
       "0           NaN          NaN      NaN                      NaN  \\\n",
       "1           NaN          NaN      NaN                      NaN   \n",
       "2           NaN          NaN      NaN                      NaN   \n",
       "\n",
       "  Slot Integrated Bluetooth Earbuds 3W subwoofer MIL-STD 810G tested  \n",
       "0                               NaN          NaN                 NaN  \n",
       "1                               NaN          NaN                 NaN  \n",
       "2                               NaN          NaN                 NaN  \n",
       "\n",
       "[3 rows x 97 columns]"
      ]
     },
     "execution_count": 72,
     "metadata": {},
     "output_type": "execute_result"
    }
   ],
   "source": [
    "data_detail.head(3)"
   ]
  },
  {
   "cell_type": "code",
   "execution_count": 73,
   "metadata": {},
   "outputs": [
    {
     "name": "stdout",
     "output_type": "stream",
     "text": [
      "Number of columns with missing values: 89\n"
     ]
    }
   ],
   "source": [
    "col_nan_count = data_detail.isnull().sum()\n",
    "# count number of columns with missing values\n",
    "print('Number of columns with missing values:', len(col_nan_count[col_nan_count > 0]))"
   ]
  },
  {
   "attachments": {},
   "cell_type": "markdown",
   "metadata": {},
   "source": [
    "## 3. Làm sạch dữ liệu"
   ]
  },
  {
   "attachments": {},
   "cell_type": "markdown",
   "metadata": {},
   "source": [
    "### 3.1 Xóa hai cột thông tin dư đầu tiên\n",
    "Hai cột đầu tiên không chứa thông tin liên quan nên sẽ được xóa bỏ."
   ]
  },
  {
   "cell_type": "code",
   "execution_count": 74,
   "metadata": {},
   "outputs": [],
   "source": [
    "# delete the first two column\n",
    "data_detail = data_detail.drop(['Unnamed: 0', 'Unnamed: 0.1'], axis=1)"
   ]
  },
  {
   "attachments": {},
   "cell_type": "markdown",
   "metadata": {},
   "source": [
    "### 3.2 Xóa các cột thông tin chứa quá nhiều dữ liệu trống\n"
   ]
  },
  {
   "attachments": {},
   "cell_type": "markdown",
   "metadata": {},
   "source": [
    "#### 3.2.1 Take a look at the data\n"
   ]
  },
  {
   "cell_type": "code",
   "execution_count": 75,
   "metadata": {},
   "outputs": [
    {
     "name": "stdout",
     "output_type": "stream",
     "text": [
      "Top 25 cột có nhiều giá trị non-null nhất:\n"
     ]
    },
    {
     "data": {
      "text/plain": [
       "Product Name          10000\n",
       "Processor             10000\n",
       "Internal memory       10000\n",
       "Video card            10000\n",
       "Product Link          10000\n",
       "Price                 10000\n",
       "GPU                    9999\n",
       "Features               9999\n",
       "Weight                 9999\n",
       "RAM                    9998\n",
       "Detail price           9997\n",
       "HDD/SSD                9996\n",
       "Display                9985\n",
       "OS                     9975\n",
       "Dimensions             9950\n",
       "Solid-state drive      9866\n",
       "Web camera             9237\n",
       "Speakers               8977\n",
       "Microphone             7443\n",
       "Gifts                  6504\n",
       "Body Material          4639\n",
       "M.2 Slot               4561\n",
       "Security Lock slot     2283\n",
       "Hard drive              688\n",
       "Fingerprint reader       53\n",
       "dtype: int64"
      ]
     },
     "execution_count": 75,
     "metadata": {},
     "output_type": "execute_result"
    }
   ],
   "source": [
    "print('Top 25 cột có nhiều giá trị non-null nhất:')\n",
    "data_detail.count().sort_values(ascending=False)[:25]"
   ]
  },
  {
   "cell_type": "code",
   "execution_count": 76,
   "metadata": {},
   "outputs": [
    {
     "name": "stdout",
     "output_type": "stream",
     "text": [
      "Top 25 cột có ít giá trị non-null nhất:\n"
     ]
    },
    {
     "data": {
      "text/plain": [
       "MIL-STD-810G military certification                                                           0\n",
       "NOVO hole                                                                                     0\n",
       "IR face recognition (optional), fingerprint reader (optional), backlit keyboard (optional)    0\n",
       "Gyroscope                                                                                     0\n",
       "Hall Sensor\\n                                                                                 0\n",
       "Accelerometer sensor\\n                                                                        0\n",
       "12.65\" ScreenPad Plus (1920 x 515, IPS, with stylus support)                                  0\n",
       "Optane H10 disk-acceleration                                                                  0\n",
       "HP Premium Spill-resistant Keyboard                                                           0\n",
       "MIL-STD-810G                                                                                  0\n",
       "Touch Bar\\n                                                                                   0\n",
       "3D magnetometer\\n                                                                             0\n",
       "Spill-resistant keyboard, MIL-STD-810G military certification                                 0\n",
       "Battery gauge button and indicator                                                            0\n",
       "8MP Rear camera                                                                               0\n",
       "eCompass                                                                                      0\n",
       "Gyroscope\\n                                                                                   0\n",
       "Accelerometer\\n                                                                               0\n",
       "Compartment for Wireless Earbuds                                                              0\n",
       "fingerprint reader (optional), backlit keyboard                                               0\n",
       "Spill-resistant keyboard with drain\\n                                                         0\n",
       "3D accelerometer\\n                                                                            0\n",
       "Dual Fans (+CoolBoost)                                                                        0\n",
       "IR face recognition (optional), Fingerprint reader (optional)                                 0\n",
       "MIL-STD 810G Graded (Military Durability)                                                     0\n",
       "dtype: int64"
      ]
     },
     "execution_count": 76,
     "metadata": {},
     "output_type": "execute_result"
    }
   ],
   "source": [
    "# Get top 25 columns with the less non-null values\n",
    "print('Top 25 cột có ít giá trị non-null nhất:')\n",
    "data_detail.count().sort_values(ascending=True)[:25]"
   ]
  },
  {
   "attachments": {},
   "cell_type": "markdown",
   "metadata": {},
   "source": [
    "- Với cột 'Hard drive' các dữ liệu trống sẽ được thay thế bằng '0 GB' để dễ xử lý và sử dụng sau này. Điều này khớp với thực tế vì các laptop"
   ]
  },
  {
   "cell_type": "code",
   "execution_count": 77,
   "metadata": {},
   "outputs": [],
   "source": [
    "# fill missing value in Hard drive with 0GB\n",
    "# data_detail['Hard drive'] = data_detail['Hard drive'].fillna('0GB')"
   ]
  },
  {
   "attachments": {},
   "cell_type": "markdown",
   "metadata": {},
   "source": [
    "#### 3.2.2 Xóa các cột thông tin chứa không quá 20% dữ liệu là dữ liệu không trống\n"
   ]
  },
  {
   "cell_type": "code",
   "execution_count": 78,
   "metadata": {},
   "outputs": [],
   "source": [
    "def filter_column_meaningless(df, percent=0.80):\n",
    "    filtered_column = []\n",
    "    for column in df.columns:\n",
    "        if (df[column].notnull().sum() <= percent * df.shape[0]):\n",
    "            filtered_column.append(column)\n",
    "    return filtered_column"
   ]
  },
  {
   "cell_type": "code",
   "execution_count": 79,
   "metadata": {},
   "outputs": [],
   "source": [
    "useless_column = filter_column_meaningless(data_detail)"
   ]
  },
  {
   "cell_type": "code",
   "execution_count": 80,
   "metadata": {},
   "outputs": [
    {
     "name": "stdout",
     "output_type": "stream",
     "text": [
      "Shape of Microphone column: (10000,)\n"
     ]
    }
   ],
   "source": [
    "# pritn shape of Microphone column\n",
    "print('Shape of Microphone column:', data_detail['Microphone'].shape)"
   ]
  },
  {
   "cell_type": "code",
   "execution_count": 81,
   "metadata": {},
   "outputs": [
    {
     "data": {
      "text/plain": [
       "Microphone\n",
       "Dual Array Digital Microphone                     926\n",
       "Dual Array Microphone                             835\n",
       "Dual Array Digital Microphones                    717\n",
       "Array Microphone with AI Noise Cancelling         450\n",
       "Dual-Array Microphone                             399\n",
       "                                                 ... \n",
       "Digital dual-array microphone                       1\n",
       "Dual Far Field Microphones                          1\n",
       "4x Noise reducing integrated array microphones      1\n",
       "Four Array Microphones, 360° Far Field              1\n",
       "4 Array Far-Field Digital Microphones               1\n",
       "Name: count, Length: 143, dtype: int64"
      ]
     },
     "execution_count": 81,
     "metadata": {},
     "output_type": "execute_result"
    }
   ],
   "source": [
    "data_detail['Microphone'].value_counts()"
   ]
  },
  {
   "cell_type": "code",
   "execution_count": 82,
   "metadata": {},
   "outputs": [
    {
     "name": "stdout",
     "output_type": "stream",
     "text": [
      "77\n"
     ]
    },
    {
     "data": {
      "image/png": "[encoded data removed]",
      "text/plain": [
       "<Figure size 2000x1000 with 1 Axes>"
      ]
     },
     "metadata": {},
     "output_type": "display_data"
    }
   ],
   "source": [
    "# print the name and number of non-null values of useless columns\n",
    "print(len(useless_column))\n",
    "useless_column_count = []\n",
    "for column in useless_column:\n",
    "    useless_column_count.append(data_detail[column].notnull().sum())\n",
    "\n",
    "# sort the number of non-null values of useless columns\n",
    "useless_column_count, useless_column = zip(*sorted(zip(useless_column_count, useless_column), reverse=True))\n",
    "\n",
    "\n",
    "# plot on bar chart\n",
    "plt.figure(figsize=(20, 10))\n",
    "plt.bar(useless_column, useless_column_count)\n",
    "plt.xticks(rotation=90)\n",
    "# # rotate the plot 90 degree\n",
    "plt.show()"
   ]
  },
  {
   "cell_type": "code",
   "execution_count": null,
   "metadata": {},
   "outputs": [],
   "source": []
  },
  {
   "cell_type": "code",
   "execution_count": 83,
   "metadata": {},
   "outputs": [
    {
     "name": "stdout",
     "output_type": "stream",
     "text": [
      "<class 'pandas.core.frame.DataFrame'>\n",
      "RangeIndex: 10000 entries, 0 to 9999\n",
      "Data columns (total 18 columns):\n",
      " #   Column             Non-Null Count  Dtype \n",
      "---  ------             --------------  ----- \n",
      " 0   Product Name       10000 non-null  object\n",
      " 1   Product Link       10000 non-null  object\n",
      " 2   Processor          10000 non-null  object\n",
      " 3   Internal memory    10000 non-null  object\n",
      " 4   Video card         10000 non-null  object\n",
      " 5   Display            9985 non-null   object\n",
      " 6   Solid-state drive  9866 non-null   object\n",
      " 7   Price              10000 non-null  object\n",
      " 8   Detail price       9997 non-null   object\n",
      " 9   GPU                9999 non-null   object\n",
      " 10  HDD/SSD            9996 non-null   object\n",
      " 11  RAM                9998 non-null   object\n",
      " 12  OS                 9975 non-null   object\n",
      " 13  Dimensions         9950 non-null   object\n",
      " 14  Weight             9999 non-null   object\n",
      " 15  Features           9999 non-null   object\n",
      " 16  Web camera         9237 non-null   object\n",
      " 17  Speakers           8977 non-null   object\n",
      "dtypes: object(18)\n",
      "memory usage: 1.4+ MB\n"
     ]
    }
   ],
   "source": [
    "\n",
    "data = data_detail.drop(columns=filter_column_meaningless(data_detail))\n",
    "data.info()"
   ]
  },
  {
   "cell_type": "code",
   "execution_count": 84,
   "metadata": {},
   "outputs": [
    {
     "data": {
      "image/png": "[encoded data removed]",
      "text/plain": [
       "<Figure size 2000x1000 with 1 Axes>"
      ]
     },
     "metadata": {},
     "output_type": "display_data"
    }
   ],
   "source": [
    "# plot the number of non-null values of each column\n",
    "plt.figure(figsize=(20, 10))\n",
    "plt.bar(data.columns, data.count())\n",
    "plt.xticks(rotation=90)\n",
    "plt.show()"
   ]
  },
  {
   "attachments": {},
   "cell_type": "markdown",
   "metadata": {},
   "source": [
    "#### 3.2.3 Chỉnh sửa thông tin và xóa đi các cột thông tin không cần thiết/ trùng lặp"
   ]
  },
  {
   "attachments": {},
   "cell_type": "markdown",
   "metadata": {},
   "source": [
    "- Giữ lại cột 'Solid-state-drive' và 'Hard drive' vì dữ liệu dễ xử lý và sạch hơn cột 'HDD/SSD'. Cột 'HDD/SSD' có nhiều dữ liệu không đồng nhất."
   ]
  },
  {
   "cell_type": "code",
   "execution_count": 85,
   "metadata": {},
   "outputs": [
    {
     "data": {
      "text/plain": [
       "array(['2TB SSD RAID 0', '2TB SSD RAID 1', '2TB SSD', '1TB SSD',\n",
       "       '1TB SSD ', '8TB SSD', '4TB SSD', '512GB SSD',\n",
       "       '512GB SSD + 1TB HDD', '256GB SSD + 1TB HDD', '2TB SSD + 2TB HDD',\n",
       "       '256GB SSD', '2TB SSD ', '1TB SSD RAID 1', '128GB SSD',\n",
       "       '32GB eMMC', '512GB PCIe NVMe SSD', '500GB HDD', '8TB SSD ',\n",
       "       '128GB SSD + 1TB HDD', '1TB HDD', '64GB eMMC', '1TB SSD RAID 0',\n",
       "       '128GB eMMC', '1TB SSD  + 2TB HDD'], dtype=object)"
      ]
     },
     "execution_count": 85,
     "metadata": {},
     "output_type": "execute_result"
    }
   ],
   "source": [
    "data['HDD/SSD'].unique()[:25]"
   ]
  },
  {
   "cell_type": "code",
   "execution_count": 86,
   "metadata": {},
   "outputs": [],
   "source": [
    "data = data.drop(columns='HDD/SSD')"
   ]
  },
  {
   "attachments": {},
   "cell_type": "markdown",
   "metadata": {},
   "source": [
    "- Đối với giá sản phẩm sẽ chỉ giữ lại cột 'Detail price' vì cột này có định dạng giá đúng.\n"
   ]
  },
  {
   "cell_type": "code",
   "execution_count": 87,
   "metadata": {},
   "outputs": [],
   "source": [
    "data = data.drop(columns='Price')\n"
   ]
  },
  {
   "attachments": {},
   "cell_type": "markdown",
   "metadata": {},
   "source": [
    "- Đối với 'RAM' và 'Internal memory' sẽ giữ lại cột 'RAM' vì định dạng dữ liệu đơn giản hơn.\n"
   ]
  },
  {
   "cell_type": "code",
   "execution_count": 88,
   "metadata": {},
   "outputs": [],
   "source": [
    "data = data.drop(columns='Internal memory')\n"
   ]
  },
  {
   "attachments": {},
   "cell_type": "markdown",
   "metadata": {},
   "source": [
    "- Giữ lại cột 'Video card' vì định dạng dữ liệu đơn giản hơn cột 'GPU'."
   ]
  },
  {
   "cell_type": "code",
   "execution_count": 89,
   "metadata": {},
   "outputs": [],
   "source": [
    "data = data.drop(columns='GPU')"
   ]
  },
  {
   "attachments": {},
   "cell_type": "markdown",
   "metadata": {},
   "source": [
    "- Cột 'Web camera' và 'Speakers' không có nhiều thông tin (chỉ có thông tin về tên của camera và loa) nên sẽ xóa.\n"
   ]
  },
  {
   "cell_type": "code",
   "execution_count": 90,
   "metadata": {},
   "outputs": [
    {
     "data": {
      "text/plain": [
       "array(['HD with camera shutter, temporal noise reduction', 'HD or FHD',\n",
       "       'HD / FHD / IR with privacy shutter, fixed focus', 'HD 720p',\n",
       "       '5MP with IR', 'FHD with privacy shutter, fixed focus', '5MP',\n",
       "       'HD TrueVision with temporal noise reduction', 'FHD & IR', 'HD IR',\n",
       "       'FHD IR with Windows Hello', 'HD with privacy shutter',\n",
       "       'FHD IR Camera for Windows Hello', 'HD + FHD', '2MP Full HD'],\n",
       "      dtype=object)"
      ]
     },
     "execution_count": 90,
     "metadata": {},
     "output_type": "execute_result"
    }
   ],
   "source": [
    "# Some web camera values\n",
    "data['Web camera'].unique()[10:25]\n"
   ]
  },
  {
   "cell_type": "code",
   "execution_count": 91,
   "metadata": {},
   "outputs": [
    {
     "data": {
      "text/plain": [
       "array(['2x 1.5W Stereo Speakers, Dolby Audio', '2 Speakers',\n",
       "       '2x 2.5W Stereo Speakers', '4x Speakers, Smart Amp, Dolby Atmos',\n",
       "       '2x 2W, DTS: X Ultra', 'Stereo Speakers',\n",
       "       '2x 2W Speaker, Dynaudio', '2x Stereo Speakers, Acer TrueHarmony',\n",
       "       '2x Speakers',\n",
       "       ' 2x 2W Dual-Force Woofer + 2x 2W Tweeter, Smart Amp, Dolby Atmos',\n",
       "       'Stereo Speakers, Bang & Olufsen, DTS:X Ultra',\n",
       "       'Speaker System optimized by DTS Audio', '2x 2W, Dolby Audio',\n",
       "       '2x 2W Speakers + 4x 2W Woofers, Dynaudio, Nahimic 3',\n",
       "       '2x 1.5W, Dolby Atmos'], dtype=object)"
      ]
     },
     "execution_count": 91,
     "metadata": {},
     "output_type": "execute_result"
    }
   ],
   "source": [
    "# Some speaker values\n",
    "data['Speakers'].unique()[10:25]\n"
   ]
  },
  {
   "cell_type": "code",
   "execution_count": 92,
   "metadata": {},
   "outputs": [],
   "source": [
    "data = data.drop(columns=['Web camera', 'Speakers'])\n"
   ]
  },
  {
   "attachments": {},
   "cell_type": "markdown",
   "metadata": {},
   "source": [
    "- Cuối cùng, xóa cột 'Product Link' vì không cần thiết.\n"
   ]
  },
  {
   "cell_type": "code",
   "execution_count": 93,
   "metadata": {},
   "outputs": [],
   "source": [
    "data = data.drop(columns='Product Link')\n"
   ]
  },
  {
   "attachments": {},
   "cell_type": "markdown",
   "metadata": {},
   "source": [
    "### 3.3 Kiểm tra lại tập dữ liệu\n"
   ]
  },
  {
   "cell_type": "code",
   "execution_count": 94,
   "metadata": {},
   "outputs": [
    {
     "data": {
      "text/html": [
       "<div>\n",
       "<style scoped>\n",
       "    .dataframe tbody tr th:only-of-type {\n",
       "        vertical-align: middle;\n",
       "    }\n",
       "\n",
       "    .dataframe tbody tr th {\n",
       "        vertical-align: top;\n",
       "    }\n",
       "\n",
       "    .dataframe thead th {\n",
       "        text-align: right;\n",
       "    }\n",
       "</style>\n",
       "<table border=\"1\" class=\"dataframe\">\n",
       "  <thead>\n",
       "    <tr style=\"text-align: right;\">\n",
       "      <th></th>\n",
       "      <th>Product Name</th>\n",
       "      <th>Processor</th>\n",
       "      <th>Video card</th>\n",
       "      <th>Display</th>\n",
       "      <th>Solid-state drive</th>\n",
       "      <th>Detail price</th>\n",
       "      <th>RAM</th>\n",
       "      <th>OS</th>\n",
       "      <th>Dimensions</th>\n",
       "      <th>Weight</th>\n",
       "      <th>Features</th>\n",
       "    </tr>\n",
       "  </thead>\n",
       "  <tbody>\n",
       "    <tr>\n",
       "      <th>0</th>\n",
       "      <td>ASUS TUF Dash F15</td>\n",
       "      <td>Intel Core i7-12650H</td>\n",
       "      <td>NVIDIA GeForce RTX 3070 (Laptop, 105W)</td>\n",
       "      <td>15.6”, Full HD (1920 x 1080), 144 Hz, IPS</td>\n",
       "      <td>2000GB SSD</td>\n",
       "      <td>$3629.00.None</td>\n",
       "      <td>64GB DDR5</td>\n",
       "      <td>Windows 11 Pro</td>\n",
       "      <td>354 x 251 x 19.9 - 20.7 mm (13.94\" x 9.88\" x 0...</td>\n",
       "      <td>2.00 kg (4.4 lbs)</td>\n",
       "      <td>Fingerprint reader</td>\n",
       "    </tr>\n",
       "    <tr>\n",
       "      <th>1</th>\n",
       "      <td>Lenovo Legion 5i 15</td>\n",
       "      <td>Intel Core i7-12700H</td>\n",
       "      <td>NVIDIA GeForce RTX 3060 (Laptop, 130W)</td>\n",
       "      <td>15.6”, QHD (2560 x 1440), 165 Hz, IPS</td>\n",
       "      <td>2000GB SSD</td>\n",
       "      <td>$3049.99.None</td>\n",
       "      <td>64GB DDR5</td>\n",
       "      <td>Windows 11 Pro</td>\n",
       "      <td>358.8 x 262.35 x 19.99 - 24.05 mm (14.13\" x 10...</td>\n",
       "      <td>2.40 kg (5.3 lbs)</td>\n",
       "      <td>Fingerprint reader</td>\n",
       "    </tr>\n",
       "    <tr>\n",
       "      <th>2</th>\n",
       "      <td>Acer Nitro 5</td>\n",
       "      <td>Intel Core i7-12700H</td>\n",
       "      <td>NVIDIA GeForce RTX 3060 (Laptop, 140W)</td>\n",
       "      <td>15.6”, Full HD (1920 x 1080), 144 Hz, IPS</td>\n",
       "      <td>2000GB SSD</td>\n",
       "      <td>$1819.00.None</td>\n",
       "      <td>32GB DDR5</td>\n",
       "      <td>Windows 11 Home</td>\n",
       "      <td>360.4 x 271.1 x 25.9 - 26.9 mm (14.19\" x 10.67...</td>\n",
       "      <td>2.50 kg (5.5 lbs)</td>\n",
       "      <td>Fingerprint reader</td>\n",
       "    </tr>\n",
       "    <tr>\n",
       "      <th>3</th>\n",
       "      <td>Acer Predator Triton 500 SE</td>\n",
       "      <td>Intel Core i7-11800H</td>\n",
       "      <td>NVIDIA GeForce RTX 3060 (Laptop, 105W)</td>\n",
       "      <td>16.0\", WQXGA (2560 x 1600), 165 Hz, IPS</td>\n",
       "      <td>1000GB SSD</td>\n",
       "      <td>$2359.99.None</td>\n",
       "      <td>32GB DDR4</td>\n",
       "      <td>Windows 10 Pro</td>\n",
       "      <td>358.14 x 261.62 x 19.81 mm (14.10\" x 10.30\" x ...</td>\n",
       "      <td>2.44 kg (5.4 lbs)</td>\n",
       "      <td>Fingerprint reader</td>\n",
       "    </tr>\n",
       "    <tr>\n",
       "      <th>4</th>\n",
       "      <td>HP 15</td>\n",
       "      <td>Intel Core i5-1155G7</td>\n",
       "      <td>Intel Iris Xe Graphics G7 (80EU)</td>\n",
       "      <td>15.6”, HD (1366 x 768), TN</td>\n",
       "      <td>2000GB SSD</td>\n",
       "      <td>$1309.99.None</td>\n",
       "      <td>64GB DDR4</td>\n",
       "      <td>Windows 11 Home</td>\n",
       "      <td>358 x 242 x 17.9 mm (14.09\" x 9.53\" x 0.70\")</td>\n",
       "      <td>1.70 kg (3.7 lbs)</td>\n",
       "      <td>Web camera</td>\n",
       "    </tr>\n",
       "    <tr>\n",
       "      <th>5</th>\n",
       "      <td>Dell Inspiron 5425</td>\n",
       "      <td>AMD Ryzen 7 5825U</td>\n",
       "      <td>AMD Radeon RX Vega 8 (R4000/5000, 15W)</td>\n",
       "      <td>14.0\", FHD+ (1920 x 1200), IPS</td>\n",
       "      <td>1000GB SSD</td>\n",
       "      <td>$1099.99.None</td>\n",
       "      <td>16GB DDR4</td>\n",
       "      <td>Windows 11 Pro</td>\n",
       "      <td>314 x 227.50 x 15.70 - 18.37 mm (12.36\" x 8.96...</td>\n",
       "      <td>1.55 kg (3.4 lbs)</td>\n",
       "      <td>Fingerprint reader</td>\n",
       "    </tr>\n",
       "    <tr>\n",
       "      <th>6</th>\n",
       "      <td>Lenovo V15 Gen 2</td>\n",
       "      <td>Intel Core i7-1165G7</td>\n",
       "      <td>Intel Iris Xe Graphics G7 (96EU)</td>\n",
       "      <td>15.6”, Full HD (1920 x 1080), IPS</td>\n",
       "      <td>1000GB SSD</td>\n",
       "      <td>$719.99.None</td>\n",
       "      <td>16GB DDR4</td>\n",
       "      <td>Windows 11 Pro</td>\n",
       "      <td>359.2 x 235.8 x 19.9 mm (14.14\" x 9.28\" x 0.78\")</td>\n",
       "      <td>1.70 kg (3.7 lbs)</td>\n",
       "      <td>Fingerprint reader</td>\n",
       "    </tr>\n",
       "    <tr>\n",
       "      <th>7</th>\n",
       "      <td>HP EliteBook 840 G8</td>\n",
       "      <td>Intel Core i5-1135G7</td>\n",
       "      <td>Intel Iris Xe Graphics G7 (80EU)</td>\n",
       "      <td>14.0”, Full HD (1920 x 1080), IPS</td>\n",
       "      <td>1000GB SSD</td>\n",
       "      <td>$1789.00.None</td>\n",
       "      <td>64GB DDR4</td>\n",
       "      <td>Windows 11 Pro</td>\n",
       "      <td>323.3 x 214.6 x 17.9 mm (12.73\" x 8.45\" x 0.70\")</td>\n",
       "      <td>1.32 kg (2.9 lbs)</td>\n",
       "      <td>Fingerprint reader</td>\n",
       "    </tr>\n",
       "    <tr>\n",
       "      <th>8</th>\n",
       "      <td>HP ENVY x360 15</td>\n",
       "      <td>Intel Core i5-1135G7</td>\n",
       "      <td>Intel Iris Xe Graphics G7 (80EU)</td>\n",
       "      <td>15.6”, Full HD (1920 x 1080), IPS</td>\n",
       "      <td>8000GB SSD</td>\n",
       "      <td>$4649.00.None</td>\n",
       "      <td>64GB DDR4</td>\n",
       "      <td>Windows 10 Pro</td>\n",
       "      <td>358.9 x 228 x 18.4 mm (14.13\" x 8.98\" x 0.72\")</td>\n",
       "      <td>1.82 kg (4 lbs)</td>\n",
       "      <td>Fingerprint reader</td>\n",
       "    </tr>\n",
       "    <tr>\n",
       "      <th>9</th>\n",
       "      <td>HP 15</td>\n",
       "      <td>Intel Core i7-1260P</td>\n",
       "      <td>Intel Iris Xe Graphics G7 (96EU)</td>\n",
       "      <td>15.6”, Full HD (1920 x 1080), IPS</td>\n",
       "      <td>1000GB SSD</td>\n",
       "      <td>$989.00.None</td>\n",
       "      <td>32GB DDR4</td>\n",
       "      <td>Windows 11 Pro</td>\n",
       "      <td>358 x 242 x 17.9 mm (14.09\" x 9.53\" x 0.70\")</td>\n",
       "      <td>1.70 kg (3.7 lbs)</td>\n",
       "      <td>Fingerprint reader</td>\n",
       "    </tr>\n",
       "  </tbody>\n",
       "</table>\n",
       "</div>"
      ],
      "text/plain": [
       "                  Product Name             Processor   \n",
       "0            ASUS TUF Dash F15  Intel Core i7-12650H  \\\n",
       "1          Lenovo Legion 5i 15  Intel Core i7-12700H   \n",
       "2                 Acer Nitro 5  Intel Core i7-12700H   \n",
       "3  Acer Predator Triton 500 SE  Intel Core i7-11800H   \n",
       "4                        HP 15  Intel Core i5-1155G7   \n",
       "5           Dell Inspiron 5425     AMD Ryzen 7 5825U   \n",
       "6             Lenovo V15 Gen 2  Intel Core i7-1165G7   \n",
       "7          HP EliteBook 840 G8  Intel Core i5-1135G7   \n",
       "8              HP ENVY x360 15  Intel Core i5-1135G7   \n",
       "9                        HP 15   Intel Core i7-1260P   \n",
       "\n",
       "                               Video card   \n",
       "0  NVIDIA GeForce RTX 3070 (Laptop, 105W)  \\\n",
       "1  NVIDIA GeForce RTX 3060 (Laptop, 130W)   \n",
       "2  NVIDIA GeForce RTX 3060 (Laptop, 140W)   \n",
       "3  NVIDIA GeForce RTX 3060 (Laptop, 105W)   \n",
       "4        Intel Iris Xe Graphics G7 (80EU)   \n",
       "5  AMD Radeon RX Vega 8 (R4000/5000, 15W)   \n",
       "6        Intel Iris Xe Graphics G7 (96EU)   \n",
       "7        Intel Iris Xe Graphics G7 (80EU)   \n",
       "8        Intel Iris Xe Graphics G7 (80EU)   \n",
       "9        Intel Iris Xe Graphics G7 (96EU)   \n",
       "\n",
       "                                     Display Solid-state drive   Detail price   \n",
       "0  15.6”, Full HD (1920 x 1080), 144 Hz, IPS        2000GB SSD  $3629.00.None  \\\n",
       "1      15.6”, QHD (2560 x 1440), 165 Hz, IPS        2000GB SSD  $3049.99.None   \n",
       "2  15.6”, Full HD (1920 x 1080), 144 Hz, IPS        2000GB SSD  $1819.00.None   \n",
       "3    16.0\", WQXGA (2560 x 1600), 165 Hz, IPS        1000GB SSD  $2359.99.None   \n",
       "4                 15.6”, HD (1366 x 768), TN        2000GB SSD  $1309.99.None   \n",
       "5             14.0\", FHD+ (1920 x 1200), IPS        1000GB SSD  $1099.99.None   \n",
       "6          15.6”, Full HD (1920 x 1080), IPS        1000GB SSD   $719.99.None   \n",
       "7          14.0”, Full HD (1920 x 1080), IPS        1000GB SSD  $1789.00.None   \n",
       "8          15.6”, Full HD (1920 x 1080), IPS        8000GB SSD  $4649.00.None   \n",
       "9          15.6”, Full HD (1920 x 1080), IPS        1000GB SSD   $989.00.None   \n",
       "\n",
       "         RAM               OS   \n",
       "0  64GB DDR5   Windows 11 Pro  \\\n",
       "1  64GB DDR5   Windows 11 Pro   \n",
       "2  32GB DDR5  Windows 11 Home   \n",
       "3  32GB DDR4   Windows 10 Pro   \n",
       "4  64GB DDR4  Windows 11 Home   \n",
       "5  16GB DDR4   Windows 11 Pro   \n",
       "6  16GB DDR4   Windows 11 Pro   \n",
       "7  64GB DDR4   Windows 11 Pro   \n",
       "8  64GB DDR4   Windows 10 Pro   \n",
       "9  32GB DDR4   Windows 11 Pro   \n",
       "\n",
       "                                          Dimensions              Weight   \n",
       "0  354 x 251 x 19.9 - 20.7 mm (13.94\" x 9.88\" x 0...  2.00 kg (4.4 lbs)   \\\n",
       "1  358.8 x 262.35 x 19.99 - 24.05 mm (14.13\" x 10...  2.40 kg (5.3 lbs)    \n",
       "2  360.4 x 271.1 x 25.9 - 26.9 mm (14.19\" x 10.67...  2.50 kg (5.5 lbs)    \n",
       "3  358.14 x 261.62 x 19.81 mm (14.10\" x 10.30\" x ...  2.44 kg (5.4 lbs)    \n",
       "4       358 x 242 x 17.9 mm (14.09\" x 9.53\" x 0.70\")  1.70 kg (3.7 lbs)    \n",
       "5  314 x 227.50 x 15.70 - 18.37 mm (12.36\" x 8.96...  1.55 kg (3.4 lbs)    \n",
       "6   359.2 x 235.8 x 19.9 mm (14.14\" x 9.28\" x 0.78\")  1.70 kg (3.7 lbs)    \n",
       "7   323.3 x 214.6 x 17.9 mm (12.73\" x 8.45\" x 0.70\")  1.32 kg (2.9 lbs)    \n",
       "8     358.9 x 228 x 18.4 mm (14.13\" x 8.98\" x 0.72\")    1.82 kg (4 lbs)    \n",
       "9       358 x 242 x 17.9 mm (14.09\" x 9.53\" x 0.70\")  1.70 kg (3.7 lbs)    \n",
       "\n",
       "             Features  \n",
       "0  Fingerprint reader  \n",
       "1  Fingerprint reader  \n",
       "2  Fingerprint reader  \n",
       "3  Fingerprint reader  \n",
       "4          Web camera  \n",
       "5  Fingerprint reader  \n",
       "6  Fingerprint reader  \n",
       "7  Fingerprint reader  \n",
       "8  Fingerprint reader  \n",
       "9  Fingerprint reader  "
      ]
     },
     "execution_count": 94,
     "metadata": {},
     "output_type": "execute_result"
    }
   ],
   "source": [
    "data.head(10)"
   ]
  },
  {
   "cell_type": "code",
   "execution_count": 95,
   "metadata": {},
   "outputs": [
    {
     "name": "stdout",
     "output_type": "stream",
     "text": [
      "<class 'pandas.core.frame.DataFrame'>\n",
      "RangeIndex: 10000 entries, 0 to 9999\n",
      "Data columns (total 11 columns):\n",
      " #   Column             Non-Null Count  Dtype \n",
      "---  ------             --------------  ----- \n",
      " 0   Product Name       10000 non-null  object\n",
      " 1   Processor          10000 non-null  object\n",
      " 2   Video card         10000 non-null  object\n",
      " 3   Display            9985 non-null   object\n",
      " 4   Solid-state drive  9866 non-null   object\n",
      " 5   Detail price       9997 non-null   object\n",
      " 6   RAM                9998 non-null   object\n",
      " 7   OS                 9975 non-null   object\n",
      " 8   Dimensions         9950 non-null   object\n",
      " 9   Weight             9999 non-null   object\n",
      " 10  Features           9999 non-null   object\n",
      "dtypes: object(11)\n",
      "memory usage: 859.5+ KB\n"
     ]
    }
   ],
   "source": [
    "data.info()\n"
   ]
  },
  {
   "attachments": {},
   "cell_type": "markdown",
   "metadata": {
    "tags": []
   },
   "source": [
    "## 4. Gộp và chỉnh sửa lại dữ liệu (imputation, remove duplicates,...)\n"
   ]
  },
  {
   "attachments": {},
   "cell_type": "markdown",
   "metadata": {},
   "source": [
    "### 4.1 Gộp thông tin benchmark của CPU và GPU vào data\n"
   ]
  },
  {
   "cell_type": "code",
   "execution_count": 96,
   "metadata": {},
   "outputs": [],
   "source": [
    "data_cpu = pd.read_csv('raw10k\\cpuben.csv')\n",
    "data_gpu = pd.read_csv('raw10k\\gpuben.csv')"
   ]
  },
  {
   "cell_type": "code",
   "execution_count": 97,
   "metadata": {},
   "outputs": [],
   "source": [
    "# Merge CPU data\n",
    "data = pd.merge(data, data_cpu, left_on='Processor',\n",
    "                right_on='CPU', how='left')\n",
    "data.rename(columns={'Rank': 'Rank CPU'}, inplace=True)\n"
   ]
  },
  {
   "cell_type": "code",
   "execution_count": 98,
   "metadata": {},
   "outputs": [],
   "source": [
    "data = pd.merge(data, data_gpu, left_on='Video card',\n",
    "                right_on='GPU', how='left')\n",
    "data.rename(columns={'Rank': 'Rank GPU'}, inplace=True)\n"
   ]
  },
  {
   "cell_type": "code",
   "execution_count": 99,
   "metadata": {},
   "outputs": [
    {
     "data": {
      "text/html": [
       "<div>\n",
       "<style scoped>\n",
       "    .dataframe tbody tr th:only-of-type {\n",
       "        vertical-align: middle;\n",
       "    }\n",
       "\n",
       "    .dataframe tbody tr th {\n",
       "        vertical-align: top;\n",
       "    }\n",
       "\n",
       "    .dataframe thead th {\n",
       "        text-align: right;\n",
       "    }\n",
       "</style>\n",
       "<table border=\"1\" class=\"dataframe\">\n",
       "  <thead>\n",
       "    <tr style=\"text-align: right;\">\n",
       "      <th></th>\n",
       "      <th>Product Name</th>\n",
       "      <th>Processor</th>\n",
       "      <th>Video card</th>\n",
       "      <th>Display</th>\n",
       "      <th>Solid-state drive</th>\n",
       "      <th>Detail price</th>\n",
       "      <th>RAM</th>\n",
       "      <th>OS</th>\n",
       "      <th>Dimensions</th>\n",
       "      <th>Weight</th>\n",
       "      <th>Features</th>\n",
       "      <th>Rank CPU</th>\n",
       "      <th>CPU</th>\n",
       "      <th>Cinebench23</th>\n",
       "      <th>Rank GPU</th>\n",
       "      <th>GPU</th>\n",
       "      <th>3DMark Time Spy (G)</th>\n",
       "    </tr>\n",
       "  </thead>\n",
       "  <tbody>\n",
       "    <tr>\n",
       "      <th>0</th>\n",
       "      <td>ASUS TUF Dash F15</td>\n",
       "      <td>Intel Core i7-12650H</td>\n",
       "      <td>NVIDIA GeForce RTX 3070 (Laptop, 105W)</td>\n",
       "      <td>15.6”, Full HD (1920 x 1080), 144 Hz, IPS</td>\n",
       "      <td>2000GB SSD</td>\n",
       "      <td>$3629.00.None</td>\n",
       "      <td>64GB DDR5</td>\n",
       "      <td>Windows 11 Pro</td>\n",
       "      <td>354 x 251 x 19.9 - 20.7 mm (13.94\" x 9.88\" x 0...</td>\n",
       "      <td>2.00 kg (4.4 lbs)</td>\n",
       "      <td>Fingerprint reader</td>\n",
       "      <td>33.0</td>\n",
       "      <td>Intel Core i7-12650H</td>\n",
       "      <td>13001.0</td>\n",
       "      <td>NaN</td>\n",
       "      <td>NaN</td>\n",
       "      <td>NaN</td>\n",
       "    </tr>\n",
       "    <tr>\n",
       "      <th>1</th>\n",
       "      <td>Lenovo Legion 5i 15</td>\n",
       "      <td>Intel Core i7-12700H</td>\n",
       "      <td>NVIDIA GeForce RTX 3060 (Laptop, 130W)</td>\n",
       "      <td>15.6”, QHD (2560 x 1440), 165 Hz, IPS</td>\n",
       "      <td>2000GB SSD</td>\n",
       "      <td>$3049.99.None</td>\n",
       "      <td>64GB DDR5</td>\n",
       "      <td>Windows 11 Pro</td>\n",
       "      <td>358.8 x 262.35 x 19.99 - 24.05 mm (14.13\" x 10...</td>\n",
       "      <td>2.40 kg (5.3 lbs)</td>\n",
       "      <td>Fingerprint reader</td>\n",
       "      <td>17.0</td>\n",
       "      <td>Intel Core i7-12700H</td>\n",
       "      <td>15486.0</td>\n",
       "      <td>35.0</td>\n",
       "      <td>NVIDIA GeForce RTX 3060 (Laptop, 130W)</td>\n",
       "      <td>8841.0</td>\n",
       "    </tr>\n",
       "    <tr>\n",
       "      <th>2</th>\n",
       "      <td>Acer Nitro 5</td>\n",
       "      <td>Intel Core i7-12700H</td>\n",
       "      <td>NVIDIA GeForce RTX 3060 (Laptop, 140W)</td>\n",
       "      <td>15.6”, Full HD (1920 x 1080), 144 Hz, IPS</td>\n",
       "      <td>2000GB SSD</td>\n",
       "      <td>$1819.00.None</td>\n",
       "      <td>32GB DDR5</td>\n",
       "      <td>Windows 11 Home</td>\n",
       "      <td>360.4 x 271.1 x 25.9 - 26.9 mm (14.19\" x 10.67...</td>\n",
       "      <td>2.50 kg (5.5 lbs)</td>\n",
       "      <td>Fingerprint reader</td>\n",
       "      <td>17.0</td>\n",
       "      <td>Intel Core i7-12700H</td>\n",
       "      <td>15486.0</td>\n",
       "      <td>34.0</td>\n",
       "      <td>NVIDIA GeForce RTX 3060 (Laptop, 140W)</td>\n",
       "      <td>8864.0</td>\n",
       "    </tr>\n",
       "    <tr>\n",
       "      <th>3</th>\n",
       "      <td>Acer Predator Triton 500 SE</td>\n",
       "      <td>Intel Core i7-11800H</td>\n",
       "      <td>NVIDIA GeForce RTX 3060 (Laptop, 105W)</td>\n",
       "      <td>16.0\", WQXGA (2560 x 1600), 165 Hz, IPS</td>\n",
       "      <td>1000GB SSD</td>\n",
       "      <td>$2359.99.None</td>\n",
       "      <td>32GB DDR4</td>\n",
       "      <td>Windows 10 Pro</td>\n",
       "      <td>358.14 x 261.62 x 19.81 mm (14.10\" x 10.30\" x ...</td>\n",
       "      <td>2.44 kg (5.4 lbs)</td>\n",
       "      <td>Fingerprint reader</td>\n",
       "      <td>37.0</td>\n",
       "      <td>Intel Core i7-11800H</td>\n",
       "      <td>12390.0</td>\n",
       "      <td>39.0</td>\n",
       "      <td>NVIDIA GeForce RTX 3060 (Laptop, 105W)</td>\n",
       "      <td>8290.0</td>\n",
       "    </tr>\n",
       "    <tr>\n",
       "      <th>4</th>\n",
       "      <td>HP 15</td>\n",
       "      <td>Intel Core i5-1155G7</td>\n",
       "      <td>Intel Iris Xe Graphics G7 (80EU)</td>\n",
       "      <td>15.6”, HD (1366 x 768), TN</td>\n",
       "      <td>2000GB SSD</td>\n",
       "      <td>$1309.99.None</td>\n",
       "      <td>64GB DDR4</td>\n",
       "      <td>Windows 11 Home</td>\n",
       "      <td>358 x 242 x 17.9 mm (14.09\" x 9.53\" x 0.70\")</td>\n",
       "      <td>1.70 kg (3.7 lbs)</td>\n",
       "      <td>Web camera</td>\n",
       "      <td>NaN</td>\n",
       "      <td>NaN</td>\n",
       "      <td>NaN</td>\n",
       "      <td>115.0</td>\n",
       "      <td>Intel Iris Xe Graphics G7 (80EU)</td>\n",
       "      <td>1097.0</td>\n",
       "    </tr>\n",
       "  </tbody>\n",
       "</table>\n",
       "</div>"
      ],
      "text/plain": [
       "                  Product Name             Processor   \n",
       "0            ASUS TUF Dash F15  Intel Core i7-12650H  \\\n",
       "1          Lenovo Legion 5i 15  Intel Core i7-12700H   \n",
       "2                 Acer Nitro 5  Intel Core i7-12700H   \n",
       "3  Acer Predator Triton 500 SE  Intel Core i7-11800H   \n",
       "4                        HP 15  Intel Core i5-1155G7   \n",
       "\n",
       "                               Video card   \n",
       "0  NVIDIA GeForce RTX 3070 (Laptop, 105W)  \\\n",
       "1  NVIDIA GeForce RTX 3060 (Laptop, 130W)   \n",
       "2  NVIDIA GeForce RTX 3060 (Laptop, 140W)   \n",
       "3  NVIDIA GeForce RTX 3060 (Laptop, 105W)   \n",
       "4        Intel Iris Xe Graphics G7 (80EU)   \n",
       "\n",
       "                                     Display Solid-state drive   Detail price   \n",
       "0  15.6”, Full HD (1920 x 1080), 144 Hz, IPS        2000GB SSD  $3629.00.None  \\\n",
       "1      15.6”, QHD (2560 x 1440), 165 Hz, IPS        2000GB SSD  $3049.99.None   \n",
       "2  15.6”, Full HD (1920 x 1080), 144 Hz, IPS        2000GB SSD  $1819.00.None   \n",
       "3    16.0\", WQXGA (2560 x 1600), 165 Hz, IPS        1000GB SSD  $2359.99.None   \n",
       "4                 15.6”, HD (1366 x 768), TN        2000GB SSD  $1309.99.None   \n",
       "\n",
       "         RAM               OS   \n",
       "0  64GB DDR5   Windows 11 Pro  \\\n",
       "1  64GB DDR5   Windows 11 Pro   \n",
       "2  32GB DDR5  Windows 11 Home   \n",
       "3  32GB DDR4   Windows 10 Pro   \n",
       "4  64GB DDR4  Windows 11 Home   \n",
       "\n",
       "                                          Dimensions              Weight   \n",
       "0  354 x 251 x 19.9 - 20.7 mm (13.94\" x 9.88\" x 0...  2.00 kg (4.4 lbs)   \\\n",
       "1  358.8 x 262.35 x 19.99 - 24.05 mm (14.13\" x 10...  2.40 kg (5.3 lbs)    \n",
       "2  360.4 x 271.1 x 25.9 - 26.9 mm (14.19\" x 10.67...  2.50 kg (5.5 lbs)    \n",
       "3  358.14 x 261.62 x 19.81 mm (14.10\" x 10.30\" x ...  2.44 kg (5.4 lbs)    \n",
       "4       358 x 242 x 17.9 mm (14.09\" x 9.53\" x 0.70\")  1.70 kg (3.7 lbs)    \n",
       "\n",
       "             Features  Rank CPU                   CPU  Cinebench23  Rank GPU   \n",
       "0  Fingerprint reader      33.0  Intel Core i7-12650H      13001.0       NaN  \\\n",
       "1  Fingerprint reader      17.0  Intel Core i7-12700H      15486.0      35.0   \n",
       "2  Fingerprint reader      17.0  Intel Core i7-12700H      15486.0      34.0   \n",
       "3  Fingerprint reader      37.0  Intel Core i7-11800H      12390.0      39.0   \n",
       "4          Web camera       NaN                   NaN          NaN     115.0   \n",
       "\n",
       "                                      GPU  3DMark Time Spy (G)  \n",
       "0                                     NaN                  NaN  \n",
       "1  NVIDIA GeForce RTX 3060 (Laptop, 130W)               8841.0  \n",
       "2  NVIDIA GeForce RTX 3060 (Laptop, 140W)               8864.0  \n",
       "3  NVIDIA GeForce RTX 3060 (Laptop, 105W)               8290.0  \n",
       "4        Intel Iris Xe Graphics G7 (80EU)               1097.0  "
      ]
     },
     "execution_count": 99,
     "metadata": {},
     "output_type": "execute_result"
    }
   ],
   "source": [
    "data.head()\n"
   ]
  },
  {
   "attachments": {},
   "cell_type": "markdown",
   "metadata": {},
   "source": [
    "Chúng ta có thể thấy rằng có một số CPU và GPU trong data không có dữ liệu. Vì vậy, chúng ta sẽ loại bỏ hai cột này khỏi data.\n"
   ]
  },
  {
   "cell_type": "code",
   "execution_count": 100,
   "metadata": {},
   "outputs": [],
   "source": [
    "# Delete Processor and Video card columns\n",
    "# data = data.drop(columns=['Processor', 'Video card'])\n",
    "data = data.drop(columns=['CPU', 'GPU'])\n",
    "\n"
   ]
  },
  {
   "cell_type": "code",
   "execution_count": 101,
   "metadata": {},
   "outputs": [
    {
     "data": {
      "text/html": [
       "<div>\n",
       "<style scoped>\n",
       "    .dataframe tbody tr th:only-of-type {\n",
       "        vertical-align: middle;\n",
       "    }\n",
       "\n",
       "    .dataframe tbody tr th {\n",
       "        vertical-align: top;\n",
       "    }\n",
       "\n",
       "    .dataframe thead th {\n",
       "        text-align: right;\n",
       "    }\n",
       "</style>\n",
       "<table border=\"1\" class=\"dataframe\">\n",
       "  <thead>\n",
       "    <tr style=\"text-align: right;\">\n",
       "      <th></th>\n",
       "      <th>Product Name</th>\n",
       "      <th>Processor</th>\n",
       "      <th>Video card</th>\n",
       "      <th>Display</th>\n",
       "      <th>Solid-state drive</th>\n",
       "      <th>Detail price</th>\n",
       "      <th>RAM</th>\n",
       "      <th>OS</th>\n",
       "      <th>Dimensions</th>\n",
       "      <th>Weight</th>\n",
       "      <th>Features</th>\n",
       "      <th>Rank CPU</th>\n",
       "      <th>Cinebench23</th>\n",
       "      <th>Rank GPU</th>\n",
       "      <th>3DMark Time Spy (G)</th>\n",
       "    </tr>\n",
       "  </thead>\n",
       "  <tbody>\n",
       "    <tr>\n",
       "      <th>0</th>\n",
       "      <td>ASUS TUF Dash F15</td>\n",
       "      <td>Intel Core i7-12650H</td>\n",
       "      <td>NVIDIA GeForce RTX 3070 (Laptop, 105W)</td>\n",
       "      <td>15.6”, Full HD (1920 x 1080), 144 Hz, IPS</td>\n",
       "      <td>2000GB SSD</td>\n",
       "      <td>$3629.00.None</td>\n",
       "      <td>64GB DDR5</td>\n",
       "      <td>Windows 11 Pro</td>\n",
       "      <td>354 x 251 x 19.9 - 20.7 mm (13.94\" x 9.88\" x 0...</td>\n",
       "      <td>2.00 kg (4.4 lbs)</td>\n",
       "      <td>Fingerprint reader</td>\n",
       "      <td>33.0</td>\n",
       "      <td>13001.0</td>\n",
       "      <td>NaN</td>\n",
       "      <td>NaN</td>\n",
       "    </tr>\n",
       "    <tr>\n",
       "      <th>1</th>\n",
       "      <td>Lenovo Legion 5i 15</td>\n",
       "      <td>Intel Core i7-12700H</td>\n",
       "      <td>NVIDIA GeForce RTX 3060 (Laptop, 130W)</td>\n",
       "      <td>15.6”, QHD (2560 x 1440), 165 Hz, IPS</td>\n",
       "      <td>2000GB SSD</td>\n",
       "      <td>$3049.99.None</td>\n",
       "      <td>64GB DDR5</td>\n",
       "      <td>Windows 11 Pro</td>\n",
       "      <td>358.8 x 262.35 x 19.99 - 24.05 mm (14.13\" x 10...</td>\n",
       "      <td>2.40 kg (5.3 lbs)</td>\n",
       "      <td>Fingerprint reader</td>\n",
       "      <td>17.0</td>\n",
       "      <td>15486.0</td>\n",
       "      <td>35.0</td>\n",
       "      <td>8841.0</td>\n",
       "    </tr>\n",
       "    <tr>\n",
       "      <th>2</th>\n",
       "      <td>Acer Nitro 5</td>\n",
       "      <td>Intel Core i7-12700H</td>\n",
       "      <td>NVIDIA GeForce RTX 3060 (Laptop, 140W)</td>\n",
       "      <td>15.6”, Full HD (1920 x 1080), 144 Hz, IPS</td>\n",
       "      <td>2000GB SSD</td>\n",
       "      <td>$1819.00.None</td>\n",
       "      <td>32GB DDR5</td>\n",
       "      <td>Windows 11 Home</td>\n",
       "      <td>360.4 x 271.1 x 25.9 - 26.9 mm (14.19\" x 10.67...</td>\n",
       "      <td>2.50 kg (5.5 lbs)</td>\n",
       "      <td>Fingerprint reader</td>\n",
       "      <td>17.0</td>\n",
       "      <td>15486.0</td>\n",
       "      <td>34.0</td>\n",
       "      <td>8864.0</td>\n",
       "    </tr>\n",
       "    <tr>\n",
       "      <th>3</th>\n",
       "      <td>Acer Predator Triton 500 SE</td>\n",
       "      <td>Intel Core i7-11800H</td>\n",
       "      <td>NVIDIA GeForce RTX 3060 (Laptop, 105W)</td>\n",
       "      <td>16.0\", WQXGA (2560 x 1600), 165 Hz, IPS</td>\n",
       "      <td>1000GB SSD</td>\n",
       "      <td>$2359.99.None</td>\n",
       "      <td>32GB DDR4</td>\n",
       "      <td>Windows 10 Pro</td>\n",
       "      <td>358.14 x 261.62 x 19.81 mm (14.10\" x 10.30\" x ...</td>\n",
       "      <td>2.44 kg (5.4 lbs)</td>\n",
       "      <td>Fingerprint reader</td>\n",
       "      <td>37.0</td>\n",
       "      <td>12390.0</td>\n",
       "      <td>39.0</td>\n",
       "      <td>8290.0</td>\n",
       "    </tr>\n",
       "    <tr>\n",
       "      <th>4</th>\n",
       "      <td>HP 15</td>\n",
       "      <td>Intel Core i5-1155G7</td>\n",
       "      <td>Intel Iris Xe Graphics G7 (80EU)</td>\n",
       "      <td>15.6”, HD (1366 x 768), TN</td>\n",
       "      <td>2000GB SSD</td>\n",
       "      <td>$1309.99.None</td>\n",
       "      <td>64GB DDR4</td>\n",
       "      <td>Windows 11 Home</td>\n",
       "      <td>358 x 242 x 17.9 mm (14.09\" x 9.53\" x 0.70\")</td>\n",
       "      <td>1.70 kg (3.7 lbs)</td>\n",
       "      <td>Web camera</td>\n",
       "      <td>NaN</td>\n",
       "      <td>NaN</td>\n",
       "      <td>115.0</td>\n",
       "      <td>1097.0</td>\n",
       "    </tr>\n",
       "  </tbody>\n",
       "</table>\n",
       "</div>"
      ],
      "text/plain": [
       "                  Product Name             Processor   \n",
       "0            ASUS TUF Dash F15  Intel Core i7-12650H  \\\n",
       "1          Lenovo Legion 5i 15  Intel Core i7-12700H   \n",
       "2                 Acer Nitro 5  Intel Core i7-12700H   \n",
       "3  Acer Predator Triton 500 SE  Intel Core i7-11800H   \n",
       "4                        HP 15  Intel Core i5-1155G7   \n",
       "\n",
       "                               Video card   \n",
       "0  NVIDIA GeForce RTX 3070 (Laptop, 105W)  \\\n",
       "1  NVIDIA GeForce RTX 3060 (Laptop, 130W)   \n",
       "2  NVIDIA GeForce RTX 3060 (Laptop, 140W)   \n",
       "3  NVIDIA GeForce RTX 3060 (Laptop, 105W)   \n",
       "4        Intel Iris Xe Graphics G7 (80EU)   \n",
       "\n",
       "                                     Display Solid-state drive   Detail price   \n",
       "0  15.6”, Full HD (1920 x 1080), 144 Hz, IPS        2000GB SSD  $3629.00.None  \\\n",
       "1      15.6”, QHD (2560 x 1440), 165 Hz, IPS        2000GB SSD  $3049.99.None   \n",
       "2  15.6”, Full HD (1920 x 1080), 144 Hz, IPS        2000GB SSD  $1819.00.None   \n",
       "3    16.0\", WQXGA (2560 x 1600), 165 Hz, IPS        1000GB SSD  $2359.99.None   \n",
       "4                 15.6”, HD (1366 x 768), TN        2000GB SSD  $1309.99.None   \n",
       "\n",
       "         RAM               OS   \n",
       "0  64GB DDR5   Windows 11 Pro  \\\n",
       "1  64GB DDR5   Windows 11 Pro   \n",
       "2  32GB DDR5  Windows 11 Home   \n",
       "3  32GB DDR4   Windows 10 Pro   \n",
       "4  64GB DDR4  Windows 11 Home   \n",
       "\n",
       "                                          Dimensions              Weight   \n",
       "0  354 x 251 x 19.9 - 20.7 mm (13.94\" x 9.88\" x 0...  2.00 kg (4.4 lbs)   \\\n",
       "1  358.8 x 262.35 x 19.99 - 24.05 mm (14.13\" x 10...  2.40 kg (5.3 lbs)    \n",
       "2  360.4 x 271.1 x 25.9 - 26.9 mm (14.19\" x 10.67...  2.50 kg (5.5 lbs)    \n",
       "3  358.14 x 261.62 x 19.81 mm (14.10\" x 10.30\" x ...  2.44 kg (5.4 lbs)    \n",
       "4       358 x 242 x 17.9 mm (14.09\" x 9.53\" x 0.70\")  1.70 kg (3.7 lbs)    \n",
       "\n",
       "             Features  Rank CPU  Cinebench23  Rank GPU  3DMark Time Spy (G)  \n",
       "0  Fingerprint reader      33.0      13001.0       NaN                  NaN  \n",
       "1  Fingerprint reader      17.0      15486.0      35.0               8841.0  \n",
       "2  Fingerprint reader      17.0      15486.0      34.0               8864.0  \n",
       "3  Fingerprint reader      37.0      12390.0      39.0               8290.0  \n",
       "4          Web camera       NaN          NaN     115.0               1097.0  "
      ]
     },
     "execution_count": 101,
     "metadata": {},
     "output_type": "execute_result"
    }
   ],
   "source": [
    "data.head()\n"
   ]
  },
  {
   "attachments": {},
   "cell_type": "markdown",
   "metadata": {},
   "source": [
    "### 4.2 Xóa dữ liệu trống và trùng lặp\n"
   ]
  },
  {
   "cell_type": "code",
   "execution_count": 102,
   "metadata": {},
   "outputs": [
    {
     "name": "stdout",
     "output_type": "stream",
     "text": [
      "<class 'pandas.core.frame.DataFrame'>\n",
      "RangeIndex: 10000 entries, 0 to 9999\n",
      "Data columns (total 15 columns):\n",
      " #   Column               Non-Null Count  Dtype  \n",
      "---  ------               --------------  -----  \n",
      " 0   Product Name         10000 non-null  object \n",
      " 1   Processor            10000 non-null  object \n",
      " 2   Video card           10000 non-null  object \n",
      " 3   Display              9985 non-null   object \n",
      " 4   Solid-state drive    9866 non-null   object \n",
      " 5   Detail price         9997 non-null   object \n",
      " 6   RAM                  9998 non-null   object \n",
      " 7   OS                   9975 non-null   object \n",
      " 8   Dimensions           9950 non-null   object \n",
      " 9   Weight               9999 non-null   object \n",
      " 10  Features             9999 non-null   object \n",
      " 11  Rank CPU             8699 non-null   float64\n",
      " 12  Cinebench23          8699 non-null   float64\n",
      " 13  Rank GPU             8159 non-null   float64\n",
      " 14  3DMark Time Spy (G)  8159 non-null   float64\n",
      "dtypes: float64(4), object(11)\n",
      "memory usage: 1.1+ MB\n"
     ]
    }
   ],
   "source": [
    "data.info()"
   ]
  },
  {
   "cell_type": "code",
   "execution_count": 103,
   "metadata": {},
   "outputs": [
    {
     "name": "stdout",
     "output_type": "stream",
     "text": [
      "Number of rows that have missing values in more than 3 columns: 512\n"
     ]
    }
   ],
   "source": [
    "# print number of rows that have missing values in more than 5 columns\n",
    "print('Number of rows that have missing values in more than 3 columns:', data[data.isnull().sum(axis=1) > 3].shape[0])"
   ]
  },
  {
   "cell_type": "code",
   "execution_count": 104,
   "metadata": {},
   "outputs": [],
   "source": [
    "# delete rows that have null values in more than 3 columns\n",
    "data = data.dropna(thresh=data.shape[1] - 3)"
   ]
  },
  {
   "cell_type": "code",
   "execution_count": 105,
   "metadata": {},
   "outputs": [
    {
     "data": {
      "text/plain": [
       "(9488, 15)"
      ]
     },
     "execution_count": 105,
     "metadata": {},
     "output_type": "execute_result"
    }
   ],
   "source": [
    "data.shape"
   ]
  },
  {
   "cell_type": "code",
   "execution_count": 106,
   "metadata": {},
   "outputs": [],
   "source": [
    "# data.dropna(inplace=True)\n",
    "data.drop_duplicates(inplace=True)\n",
    "data = data.reset_index(drop=True)\n"
   ]
  },
  {
   "cell_type": "code",
   "execution_count": 107,
   "metadata": {},
   "outputs": [
    {
     "name": "stdout",
     "output_type": "stream",
     "text": [
      "<class 'pandas.core.frame.DataFrame'>\n",
      "RangeIndex: 9327 entries, 0 to 9326\n",
      "Data columns (total 15 columns):\n",
      " #   Column               Non-Null Count  Dtype  \n",
      "---  ------               --------------  -----  \n",
      " 0   Product Name         9327 non-null   object \n",
      " 1   Processor            9327 non-null   object \n",
      " 2   Video card           9327 non-null   object \n",
      " 3   Display              9313 non-null   object \n",
      " 4   Solid-state drive    9270 non-null   object \n",
      " 5   Detail price         9325 non-null   object \n",
      " 6   RAM                  9327 non-null   object \n",
      " 7   OS                   9308 non-null   object \n",
      " 8   Dimensions           9283 non-null   object \n",
      " 9   Weight               9327 non-null   object \n",
      " 10  Features             9327 non-null   object \n",
      " 11  Rank CPU             8551 non-null   float64\n",
      " 12  Cinebench23          8551 non-null   float64\n",
      " 13  Rank GPU             8019 non-null   float64\n",
      " 14  3DMark Time Spy (G)  8019 non-null   float64\n",
      "dtypes: float64(4), object(11)\n",
      "memory usage: 1.1+ MB\n"
     ]
    }
   ],
   "source": [
    "data.info()\n"
   ]
  },
  {
   "cell_type": "code",
   "execution_count": 108,
   "metadata": {},
   "outputs": [
    {
     "data": {
      "text/plain": [
       "Product Name           9327\n",
       "Processor              9327\n",
       "Video card             9327\n",
       "RAM                    9327\n",
       "Weight                 9327\n",
       "Features               9327\n",
       "Detail price           9325\n",
       "Display                9313\n",
       "OS                     9308\n",
       "Dimensions             9283\n",
       "Solid-state drive      9270\n",
       "Rank CPU               8551\n",
       "Cinebench23            8551\n",
       "Rank GPU               8019\n",
       "3DMark Time Spy (G)    8019\n",
       "dtype: int64"
      ]
     },
     "execution_count": 108,
     "metadata": {},
     "output_type": "execute_result"
    }
   ],
   "source": [
    "# print the sorted number of non-null values of each column\n",
    "data.count().sort_values(ascending=False)\n"
   ]
  },
  {
   "cell_type": "code",
   "execution_count": 109,
   "metadata": {},
   "outputs": [
    {
     "data": {
      "text/html": [
       "<div>\n",
       "<style scoped>\n",
       "    .dataframe tbody tr th:only-of-type {\n",
       "        vertical-align: middle;\n",
       "    }\n",
       "\n",
       "    .dataframe tbody tr th {\n",
       "        vertical-align: top;\n",
       "    }\n",
       "\n",
       "    .dataframe thead th {\n",
       "        text-align: right;\n",
       "    }\n",
       "</style>\n",
       "<table border=\"1\" class=\"dataframe\">\n",
       "  <thead>\n",
       "    <tr style=\"text-align: right;\">\n",
       "      <th></th>\n",
       "      <th>Product Name</th>\n",
       "      <th>Processor</th>\n",
       "      <th>Video card</th>\n",
       "      <th>Display</th>\n",
       "      <th>Solid-state drive</th>\n",
       "      <th>Detail price</th>\n",
       "      <th>RAM</th>\n",
       "      <th>OS</th>\n",
       "      <th>Dimensions</th>\n",
       "      <th>Weight</th>\n",
       "      <th>Features</th>\n",
       "      <th>Rank CPU</th>\n",
       "      <th>Cinebench23</th>\n",
       "      <th>Rank GPU</th>\n",
       "      <th>3DMark Time Spy (G)</th>\n",
       "    </tr>\n",
       "  </thead>\n",
       "  <tbody>\n",
       "    <tr>\n",
       "      <th>0</th>\n",
       "      <td>ASUS TUF Dash F15</td>\n",
       "      <td>Intel Core i7-12650H</td>\n",
       "      <td>NVIDIA GeForce RTX 3070 (Laptop, 105W)</td>\n",
       "      <td>15.6”, Full HD (1920 x 1080), 144 Hz, IPS</td>\n",
       "      <td>2000GB SSD</td>\n",
       "      <td>$3629.00.None</td>\n",
       "      <td>64GB DDR5</td>\n",
       "      <td>Windows 11 Pro</td>\n",
       "      <td>354 x 251 x 19.9 - 20.7 mm (13.94\" x 9.88\" x 0...</td>\n",
       "      <td>2.00 kg (4.4 lbs)</td>\n",
       "      <td>Fingerprint reader</td>\n",
       "      <td>33.0</td>\n",
       "      <td>13001.0</td>\n",
       "      <td>NaN</td>\n",
       "      <td>NaN</td>\n",
       "    </tr>\n",
       "    <tr>\n",
       "      <th>1</th>\n",
       "      <td>Lenovo Legion 5i 15</td>\n",
       "      <td>Intel Core i7-12700H</td>\n",
       "      <td>NVIDIA GeForce RTX 3060 (Laptop, 130W)</td>\n",
       "      <td>15.6”, QHD (2560 x 1440), 165 Hz, IPS</td>\n",
       "      <td>2000GB SSD</td>\n",
       "      <td>$3049.99.None</td>\n",
       "      <td>64GB DDR5</td>\n",
       "      <td>Windows 11 Pro</td>\n",
       "      <td>358.8 x 262.35 x 19.99 - 24.05 mm (14.13\" x 10...</td>\n",
       "      <td>2.40 kg (5.3 lbs)</td>\n",
       "      <td>Fingerprint reader</td>\n",
       "      <td>17.0</td>\n",
       "      <td>15486.0</td>\n",
       "      <td>35.0</td>\n",
       "      <td>8841.0</td>\n",
       "    </tr>\n",
       "    <tr>\n",
       "      <th>2</th>\n",
       "      <td>Acer Nitro 5</td>\n",
       "      <td>Intel Core i7-12700H</td>\n",
       "      <td>NVIDIA GeForce RTX 3060 (Laptop, 140W)</td>\n",
       "      <td>15.6”, Full HD (1920 x 1080), 144 Hz, IPS</td>\n",
       "      <td>2000GB SSD</td>\n",
       "      <td>$1819.00.None</td>\n",
       "      <td>32GB DDR5</td>\n",
       "      <td>Windows 11 Home</td>\n",
       "      <td>360.4 x 271.1 x 25.9 - 26.9 mm (14.19\" x 10.67...</td>\n",
       "      <td>2.50 kg (5.5 lbs)</td>\n",
       "      <td>Fingerprint reader</td>\n",
       "      <td>17.0</td>\n",
       "      <td>15486.0</td>\n",
       "      <td>34.0</td>\n",
       "      <td>8864.0</td>\n",
       "    </tr>\n",
       "    <tr>\n",
       "      <th>3</th>\n",
       "      <td>Acer Predator Triton 500 SE</td>\n",
       "      <td>Intel Core i7-11800H</td>\n",
       "      <td>NVIDIA GeForce RTX 3060 (Laptop, 105W)</td>\n",
       "      <td>16.0\", WQXGA (2560 x 1600), 165 Hz, IPS</td>\n",
       "      <td>1000GB SSD</td>\n",
       "      <td>$2359.99.None</td>\n",
       "      <td>32GB DDR4</td>\n",
       "      <td>Windows 10 Pro</td>\n",
       "      <td>358.14 x 261.62 x 19.81 mm (14.10\" x 10.30\" x ...</td>\n",
       "      <td>2.44 kg (5.4 lbs)</td>\n",
       "      <td>Fingerprint reader</td>\n",
       "      <td>37.0</td>\n",
       "      <td>12390.0</td>\n",
       "      <td>39.0</td>\n",
       "      <td>8290.0</td>\n",
       "    </tr>\n",
       "    <tr>\n",
       "      <th>4</th>\n",
       "      <td>HP 15</td>\n",
       "      <td>Intel Core i5-1155G7</td>\n",
       "      <td>Intel Iris Xe Graphics G7 (80EU)</td>\n",
       "      <td>15.6”, HD (1366 x 768), TN</td>\n",
       "      <td>2000GB SSD</td>\n",
       "      <td>$1309.99.None</td>\n",
       "      <td>64GB DDR4</td>\n",
       "      <td>Windows 11 Home</td>\n",
       "      <td>358 x 242 x 17.9 mm (14.09\" x 9.53\" x 0.70\")</td>\n",
       "      <td>1.70 kg (3.7 lbs)</td>\n",
       "      <td>Web camera</td>\n",
       "      <td>NaN</td>\n",
       "      <td>NaN</td>\n",
       "      <td>115.0</td>\n",
       "      <td>1097.0</td>\n",
       "    </tr>\n",
       "  </tbody>\n",
       "</table>\n",
       "</div>"
      ],
      "text/plain": [
       "                  Product Name             Processor   \n",
       "0            ASUS TUF Dash F15  Intel Core i7-12650H  \\\n",
       "1          Lenovo Legion 5i 15  Intel Core i7-12700H   \n",
       "2                 Acer Nitro 5  Intel Core i7-12700H   \n",
       "3  Acer Predator Triton 500 SE  Intel Core i7-11800H   \n",
       "4                        HP 15  Intel Core i5-1155G7   \n",
       "\n",
       "                               Video card   \n",
       "0  NVIDIA GeForce RTX 3070 (Laptop, 105W)  \\\n",
       "1  NVIDIA GeForce RTX 3060 (Laptop, 130W)   \n",
       "2  NVIDIA GeForce RTX 3060 (Laptop, 140W)   \n",
       "3  NVIDIA GeForce RTX 3060 (Laptop, 105W)   \n",
       "4        Intel Iris Xe Graphics G7 (80EU)   \n",
       "\n",
       "                                     Display Solid-state drive   Detail price   \n",
       "0  15.6”, Full HD (1920 x 1080), 144 Hz, IPS        2000GB SSD  $3629.00.None  \\\n",
       "1      15.6”, QHD (2560 x 1440), 165 Hz, IPS        2000GB SSD  $3049.99.None   \n",
       "2  15.6”, Full HD (1920 x 1080), 144 Hz, IPS        2000GB SSD  $1819.00.None   \n",
       "3    16.0\", WQXGA (2560 x 1600), 165 Hz, IPS        1000GB SSD  $2359.99.None   \n",
       "4                 15.6”, HD (1366 x 768), TN        2000GB SSD  $1309.99.None   \n",
       "\n",
       "         RAM               OS   \n",
       "0  64GB DDR5   Windows 11 Pro  \\\n",
       "1  64GB DDR5   Windows 11 Pro   \n",
       "2  32GB DDR5  Windows 11 Home   \n",
       "3  32GB DDR4   Windows 10 Pro   \n",
       "4  64GB DDR4  Windows 11 Home   \n",
       "\n",
       "                                          Dimensions              Weight   \n",
       "0  354 x 251 x 19.9 - 20.7 mm (13.94\" x 9.88\" x 0...  2.00 kg (4.4 lbs)   \\\n",
       "1  358.8 x 262.35 x 19.99 - 24.05 mm (14.13\" x 10...  2.40 kg (5.3 lbs)    \n",
       "2  360.4 x 271.1 x 25.9 - 26.9 mm (14.19\" x 10.67...  2.50 kg (5.5 lbs)    \n",
       "3  358.14 x 261.62 x 19.81 mm (14.10\" x 10.30\" x ...  2.44 kg (5.4 lbs)    \n",
       "4       358 x 242 x 17.9 mm (14.09\" x 9.53\" x 0.70\")  1.70 kg (3.7 lbs)    \n",
       "\n",
       "             Features  Rank CPU  Cinebench23  Rank GPU  3DMark Time Spy (G)  \n",
       "0  Fingerprint reader      33.0      13001.0       NaN                  NaN  \n",
       "1  Fingerprint reader      17.0      15486.0      35.0               8841.0  \n",
       "2  Fingerprint reader      17.0      15486.0      34.0               8864.0  \n",
       "3  Fingerprint reader      37.0      12390.0      39.0               8290.0  \n",
       "4          Web camera       NaN          NaN     115.0               1097.0  "
      ]
     },
     "execution_count": 109,
     "metadata": {},
     "output_type": "execute_result"
    }
   ],
   "source": [
    "data.head()\n"
   ]
  },
  {
   "attachments": {},
   "cell_type": "markdown",
   "metadata": {},
   "source": [
    "Chúng ta thấy có một số cột dữ liệu dạng tổng hợp mà chúng ta cần phải xử lý về sau, để tránh các vấn đề trong quá trình xử lý, chúng ta sẽ xóa các dòng dữ liệu trống trong các cột này.\n",
    "Các cột bao gồm:\n",
    "- Display"
   ]
  },
  {
   "attachments": {},
   "cell_type": "markdown",
   "metadata": {},
   "source": [
    "### 4.3 Chỉnh sửa lại các cột dữ liệu\n"
   ]
  },
  {
   "cell_type": "code",
   "execution_count": 110,
   "metadata": {},
   "outputs": [],
   "source": [
    "# create new dataframe\n",
    "clean_df = pd.DataFrame()\n"
   ]
  },
  {
   "attachments": {},
   "cell_type": "markdown",
   "metadata": {},
   "source": [
    "#### 4.3.1 Chỉnh sửa thông tin giá"
   ]
  },
  {
   "attachments": {},
   "cell_type": "markdown",
   "metadata": {},
   "source": [
    "- **Price** : giá laptop (đơn vị: USD) là thông tin được sử dụng để dự đoán."
   ]
  },
  {
   "cell_type": "code",
   "execution_count": 111,
   "metadata": {},
   "outputs": [],
   "source": [
    "clean_df['price'] = data['Detail price'].str.extract(r'\\$(\\d+.\\d+)')\n",
    "# clean_df['price'] = data['Detail price'].str.extract(r'\\$(\\d+\\.\\d+)')\n",
    "clean_df['price'] = clean_df['price'].astype('float64')\n"
   ]
  },
  {
   "attachments": {},
   "cell_type": "markdown",
   "metadata": {},
   "source": [
    "#### 4.3.2 Chỉnh sửa thông tin hãng sản xuất"
   ]
  },
  {
   "attachments": {},
   "cell_type": "markdown",
   "metadata": {},
   "source": [
    "- **Brand** : Laptop brand\n",
    "- For example: The laptop with name 'ASUS TUF Dash F15' will have 'ASUS' brand.\n"
   ]
  },
  {
   "cell_type": "code",
   "execution_count": 112,
   "metadata": {},
   "outputs": [
    {
     "data": {
      "text/plain": [
       "array(['ASUS', 'LENOVO', 'ACER', 'HP', 'DELL', 'MSI', 'ALIENWARE', 'LG',\n",
       "       'APPLE', 'SAMSUNG', 'MICROSOFT', 'AORUS', 'GIGABYTE', 'RAZER',\n",
       "       'PANASONIC', 'DYNABOOK', 'ENVY'], dtype=object)"
      ]
     },
     "execution_count": 112,
     "metadata": {},
     "output_type": "execute_result"
    }
   ],
   "source": [
    "clean_df['brand'] = data['Product Name'].str.upper().str.split().str[0]\n",
    "clean_df['brand'].unique()\n"
   ]
  },
  {
   "attachments": {},
   "cell_type": "markdown",
   "metadata": {},
   "source": [
    "#### 4.3.3 Chỉnh sửa thông tin RAM"
   ]
  },
  {
   "attachments": {},
   "cell_type": "markdown",
   "metadata": {},
   "source": [
    "- **RAM** : Laptop RAM\n",
    "- The ram will be in the form \\\\{ram}{some whitespace}GB so we use this regex r'(\\d+)\\s\\*GB' to extract it.\n"
   ]
  },
  {
   "cell_type": "code",
   "execution_count": 113,
   "metadata": {},
   "outputs": [
    {
     "data": {
      "text/plain": [
       "array([ 64.,  32.,  16.,  12.,   8.,  24.,  40.,   4.,  20.,  36.,  48.,\n",
       "       128.,  96.,  18.,   2.])"
      ]
     },
     "execution_count": 113,
     "metadata": {},
     "output_type": "execute_result"
    }
   ],
   "source": [
    "clean_df['ram'] = data['RAM'].str.upper().str.extract(r'(\\d+)\\s*GB')\n",
    "clean_df['ram'] = clean_df['ram'].astype('float64')\n",
    "clean_df['ram'].unique()\n"
   ]
  },
  {
   "cell_type": "code",
   "execution_count": 114,
   "metadata": {},
   "outputs": [
    {
     "data": {
      "text/plain": [
       "array(['DDR5', 'DDR4', 'LPDDR4X', 'LPDDR5', 'LPDDR4', 'RAM', 'LPDDR3',\n",
       "       'DDR3', 'LPDDR2', ''], dtype=object)"
      ]
     },
     "execution_count": 114,
     "metadata": {},
     "output_type": "execute_result"
    }
   ],
   "source": [
    "\n",
    "clean_df['ram_type'] = data['RAM'].str.upper().str.extract(r'(\\d+)\\s*GB')\n",
    "# get text after GB and before , (comma) or nothing\n",
    "clean_df['ram_type'] = data['RAM'].str.upper().str.extract(r'GB\\s*(\\w*)\\,?')\n",
    "# print numver of non-null value\n",
    "clean_df['ram_type'].unique()\n"
   ]
  },
  {
   "cell_type": "code",
   "execution_count": 115,
   "metadata": {},
   "outputs": [
    {
     "data": {
      "text/plain": [
       "ram_type\n",
       "DDR4       6984\n",
       "DDR5       1480\n",
       "LPDDR5      388\n",
       "LPDDR4X     363\n",
       "LPDDR4       62\n",
       "RAM          35\n",
       "LPDDR3       10\n",
       "DDR3          3\n",
       "LPDDR2        1\n",
       "              1\n",
       "Name: count, dtype: int64"
      ]
     },
     "execution_count": 115,
     "metadata": {},
     "output_type": "execute_result"
    }
   ],
   "source": [
    "clean_df['ram_type'].value_counts()"
   ]
  },
  {
   "attachments": {},
   "cell_type": "markdown",
   "metadata": {},
   "source": [
    "Ta thấy không có loại ram nào có loại là RAM, điều này có thể vì dữ liệu cào không sạch, ta thấy số record có 'ram_type' là 'RAM' là 1. Vì vậy, ta sẽ xóa các record này."
   ]
  },
  {
   "cell_type": "code",
   "execution_count": 116,
   "metadata": {},
   "outputs": [],
   "source": [
    "# delete rows with ram_type is 'RAM'\n",
    "clean_df = clean_df[clean_df['ram_type'] != 'RAM']"
   ]
  },
  {
   "attachments": {},
   "cell_type": "markdown",
   "metadata": {},
   "source": [
    "#### 4.3.4 Chỉnh sửa thông tin về màn hình laptop"
   ]
  },
  {
   "attachments": {},
   "cell_type": "markdown",
   "metadata": {},
   "source": [
    "- **Display Resolution** : Laptop display resolution\n",
    "- Từ các dòng dữ liệu: \"15.6”, Full HD (1920 x 1080), 144 Hz, IPS\" trong cột 'Display' ta trích xuất ra thêm các thuộc tính: \n",
    "    - **'display_size'** : Kích thước màn hình laptop (inch)\n",
    "    - **'display_type'** : Loại màn hình laptop (HD, Full HD, 4K, OLED, ...)\n",
    "    - **'pixels'** : Độ phân giải màn hình laptop (pixels)\n",
    "    - **'screen_rate'** : Tần số làm tươi màn hình laptop (Hz)\n",
    "    - **'screen_panel'** : Loại panel màn hình laptop (IPS, TN, OLED, ...)\n"
   ]
  },
  {
   "cell_type": "code",
   "execution_count": 117,
   "metadata": {},
   "outputs": [],
   "source": [
    "# tìm kiếm kích thước màn hình\n",
    "clean_df['display_size'] = data['Display'].str.extract(r'^(\\d+\\.?\\d+)')\n",
    "clean_df['display_size'] = clean_df['display_size'].astype('float64')\n",
    "clean_df['display_type'] = data['Display'].str.extract(r'[,](.*?)[(]')\n",
    "clean_df['resolution'] = data['Display'].str.extract(r'\\((.*?)\\)')\n",
    "\n",
    "clean_df['screen_rate'] = data['Display'].str.extract(r'[)][,](.*?)[H]')\n",
    "\n",
    "clean_df['screen_panel'] = data['Display'].str.split(',').str[-1]\n",
    "# remove space at the beginning and end of the string\n",
    "clean_df['screen_panel'] = clean_df['screen_panel'].str.strip()\n"
   ]
  },
  {
   "cell_type": "code",
   "execution_count": 118,
   "metadata": {},
   "outputs": [
    {
     "data": {
      "text/plain": [
       "screen_panel\n",
       "IPS                         7472\n",
       "TN                          1566\n",
       "OLED                         235\n",
       "PixelSense (2256 x 1504)       3\n",
       "Full HD (1920 x 1080)          2\n",
       "Name: count, dtype: int64"
      ]
     },
     "execution_count": 118,
     "metadata": {},
     "output_type": "execute_result"
    }
   ],
   "source": [
    "# print unique value of screen_panel\n",
    "clean_df['screen_panel'].value_counts()"
   ]
  },
  {
   "cell_type": "code",
   "execution_count": 119,
   "metadata": {},
   "outputs": [
    {
     "data": {
      "text/plain": [
       "array(['IPS', 'TN', 'OLED', 'PixelSense (2256 x 1504)', nan,\n",
       "       'Full HD (1920 x 1080)'], dtype=object)"
      ]
     },
     "execution_count": 119,
     "metadata": {},
     "output_type": "execute_result"
    }
   ],
   "source": [
    "clean_df['screen_panel'].unique()"
   ]
  },
  {
   "cell_type": "code",
   "execution_count": 120,
   "metadata": {},
   "outputs": [],
   "source": [
    "# delete rows with screen_panel is 'PixelSense (2256 x 1504)'\n",
    "clean_df = clean_df[clean_df['screen_panel'] != 'PixelSense (2256 x 1504)']\n",
    "# delete rows with screen_panel is 'Full HD (1920 x 1080)'\n",
    "clean_df = clean_df[clean_df['screen_panel'] != 'Full HD (1920 x 1080)']\n"
   ]
  },
  {
   "attachments": {},
   "cell_type": "markdown",
   "metadata": {},
   "source": [
    "Ta thấy một số record PixelSense (2256 x 1504) Full HD (1920 x 1080) ở đây, có nghĩa là những dòng này trong dữ liệu gốc không có dữ liệu về tấm nên, do đó ta xóa các record này đi"
   ]
  },
  {
   "attachments": {},
   "cell_type": "markdown",
   "metadata": {},
   "source": [
    "Đối với tần số quét của laptop, thông thường mặc định các màn hình đều có tần số quét là 60Hz, nếu tần số quét cao hơn, các nhà sản xuất sẽ đưa thông tin tần số quét vào thông tin sản phẩm. Vì vậy, ta sẽ thay dữ liệu trống với tần số quét là 60Hz."
   ]
  },
  {
   "cell_type": "code",
   "execution_count": 121,
   "metadata": {},
   "outputs": [
    {
     "data": {
      "text/plain": [
       "array([144., 165.,  nan, 240., 120., 360., 300.,  90., 480.])"
      ]
     },
     "execution_count": 121,
     "metadata": {},
     "output_type": "execute_result"
    }
   ],
   "source": [
    "# fill na in screen_rate by 0\n",
    "# clean_df['screen_rate'].fillna('60', inplace=True)\n",
    "# trim space in screen_rate\n",
    "clean_df['screen_rate'] = clean_df['screen_rate'].str.strip()\n",
    "# convert screen_rate to float\n",
    "clean_df['screen_rate'] = clean_df['screen_rate'].astype('float64')\n",
    "clean_df['screen_rate'].unique()\n"
   ]
  },
  {
   "cell_type": "code",
   "execution_count": 122,
   "metadata": {},
   "outputs": [
    {
     "data": {
      "text/plain": [
       "array([' Full HD ', ' QHD ', ' WQXGA ', ' HD ', ' FHD+ ', ' HD+ ',\n",
       "       '  QHD ', ' WQHD ', ' WQUXGA ', ' QHD+ ', ' WUXGA ', ' WQXGA\\xa0',\n",
       "       ' 4K UHD ', ' WQUXGA\\xa0', ' 2.5K ', ' FHD ', ' 2.2K ', ' 2.8K ',\n",
       "       ' PixelSense ', ' 3.2K ', ' 3.5K ', ' UHD+ ', nan, ' 3K ',\n",
       "       ' 3K2K ', ' 2K ', ' ', ' WUXGA+ ', ' WQHD+ ', ' 4K UHD+ '],\n",
       "      dtype=object)"
      ]
     },
     "execution_count": 122,
     "metadata": {},
     "output_type": "execute_result"
    }
   ],
   "source": [
    "clean_df['display_type'].unique()"
   ]
  },
  {
   "attachments": {},
   "cell_type": "markdown",
   "metadata": {},
   "source": [
    "Chúng ta có thể thấy cột display_type chưa được loại bỏ khoảng trắng và ký tự đặc biệt. Vì vậy, chúng ta sẽ loại bỏ khoảng trắng và ký tự đặc biệt trong cột này. \\xa0 = space"
   ]
  },
  {
   "cell_type": "code",
   "execution_count": 123,
   "metadata": {},
   "outputs": [],
   "source": [
    "# trim space before and after string in display_type\n",
    "clean_df['display_type'] = clean_df['display_type'].str.strip()\n",
    "# change value 'Full HD' to 'FHD'\n",
    "clean_df['display_type'] = clean_df['display_type'].str.replace('Full HD', 'FHD')"
   ]
  },
  {
   "cell_type": "code",
   "execution_count": 124,
   "metadata": {},
   "outputs": [
    {
     "data": {
      "text/plain": [
       "array(['FHD', 'QHD', 'WQXGA', 'HD', 'FHD+', 'HD+', 'WQHD', 'WQUXGA',\n",
       "       'QHD+', 'WUXGA', '4K UHD', '2.5K', '2.2K', '2.8K', 'PixelSense',\n",
       "       '3.2K', '3.5K', 'UHD+', nan, '3K', '3K2K', '2K', '', 'WUXGA+',\n",
       "       'WQHD+', '4K UHD+'], dtype=object)"
      ]
     },
     "execution_count": 124,
     "metadata": {},
     "output_type": "execute_result"
    }
   ],
   "source": [
    "clean_df['display_type'].unique()"
   ]
  },
  {
   "attachments": {},
   "cell_type": "markdown",
   "metadata": {},
   "source": [
    "#### 4.3.5 Chỉnh sửa thông tin về kích thước laptop"
   ]
  },
  {
   "attachments": {},
   "cell_type": "markdown",
   "metadata": {},
   "source": [
    "- **Dimmension** : 358.9 x 228 x 18.4 mm -> kích thước của laptop bao gồm chiều dài, chiều rộng và độ dày (mm)\n"
   ]
  },
  {
   "cell_type": "code",
   "execution_count": 125,
   "metadata": {},
   "outputs": [],
   "source": [
    "dimention = data['Dimensions'].str.findall(r'(\\d+\\.?\\d+)')\n",
    "# clean_df['length'] the first number in dimention\n",
    "clean_df['length'] = dimention.str[0]\n",
    "# clean_df['width'] the second number in dimention\n",
    "clean_df['width'] = dimention.str[1]\n",
    "# clean_df['height'] the third number in dimention\n",
    "clean_df['height'] = dimention.str[2]\n"
   ]
  },
  {
   "cell_type": "code",
   "execution_count": 126,
   "metadata": {},
   "outputs": [],
   "source": [
    "# convert to float\n",
    "clean_df['length'] = clean_df['length'].astype('float64')\n",
    "clean_df['width'] = clean_df['width'].astype('float64')\n",
    "clean_df['height'] = clean_df['height'].astype('float64')\n"
   ]
  },
  {
   "attachments": {},
   "cell_type": "markdown",
   "metadata": {},
   "source": [
    "#### 4.3.6 Chỉnh sửa thông tin về hãng CPU và GPU"
   ]
  },
  {
   "attachments": {},
   "cell_type": "markdown",
   "metadata": {},
   "source": [
    "- **Processor** : CPU of laptop\n"
   ]
  },
  {
   "cell_type": "code",
   "execution_count": 127,
   "metadata": {},
   "outputs": [],
   "source": [
    "clean_df['cpu_brand'] = data['Processor'].str.split().str[0]\n"
   ]
  },
  {
   "cell_type": "code",
   "execution_count": 128,
   "metadata": {},
   "outputs": [
    {
     "data": {
      "text/plain": [
       "array(['Intel', 'AMD', 'Apple', 'Snapdragon'], dtype=object)"
      ]
     },
     "execution_count": 128,
     "metadata": {},
     "output_type": "execute_result"
    }
   ],
   "source": [
    "clean_df['cpu_brand'].unique()\n"
   ]
  },
  {
   "attachments": {},
   "cell_type": "markdown",
   "metadata": {},
   "source": [
    "- **GPU** : Laptop graphic card\n"
   ]
  },
  {
   "cell_type": "code",
   "execution_count": 129,
   "metadata": {},
   "outputs": [],
   "source": [
    "clean_df['gpu_brand'] = data['Video card'].str.upper().str.split().str[0]\n"
   ]
  },
  {
   "cell_type": "code",
   "execution_count": 130,
   "metadata": {},
   "outputs": [
    {
     "data": {
      "text/plain": [
       "array(['NVIDIA', 'INTEL', 'AMD', 'APPLE', 'QUALCOMM'], dtype=object)"
      ]
     },
     "execution_count": 130,
     "metadata": {},
     "output_type": "execute_result"
    }
   ],
   "source": [
    "clean_df['gpu_brand'].unique()\n"
   ]
  },
  {
   "attachments": {},
   "cell_type": "markdown",
   "metadata": {},
   "source": [
    "#### 4.3.7 Chỉnh sửa thông tin về bộ nhớ trong SSD và HDD"
   ]
  },
  {
   "attachments": {},
   "cell_type": "markdown",
   "metadata": {},
   "source": [
    "- **Bộ nhớ trong SSD**\n"
   ]
  },
  {
   "cell_type": "code",
   "execution_count": 131,
   "metadata": {},
   "outputs": [
    {
     "data": {
      "text/plain": [
       "array([ 2000.,  1000.,  8000.,  4000.,   512.,   256.,   128.,    32.,\n",
       "          nan,    64.,   516.,  7600.,    24.,  3000.,   120.,   250.,\n",
       "       10000.,    16.,  1500., 16000., 12000.,   500.])"
      ]
     },
     "execution_count": 131,
     "metadata": {},
     "output_type": "execute_result"
    }
   ],
   "source": [
    "clean_df['ssd'] = data['Solid-state drive'].str.extract(r'(\\d+)\\s*GB')\n",
    "clean_df['ssd'] = clean_df['ssd'].astype('float64')\n",
    "clean_df['ssd'].unique()\n"
   ]
  },
  {
   "attachments": {},
   "cell_type": "markdown",
   "metadata": {},
   "source": [
    "#### 4.3.8 Chỉnh sửa thông tin về hệ điều hành"
   ]
  },
  {
   "attachments": {},
   "cell_type": "markdown",
   "metadata": {},
   "source": [
    "- **OS**\n"
   ]
  },
  {
   "cell_type": "code",
   "execution_count": 132,
   "metadata": {},
   "outputs": [],
   "source": [
    "clean_df['os'] = data['OS'].str.extract(\n",
    "    r'(Windows|Linux|No OS|Mac OS|Chrome OS)')"
   ]
  },
  {
   "attachments": {},
   "cell_type": "markdown",
   "metadata": {},
   "source": [
    "#### 4.3.9 Chỉnh sửa thông tin về cân nặng laptop"
   ]
  },
  {
   "attachments": {},
   "cell_type": "markdown",
   "metadata": {},
   "source": [
    "- **Weights**\n"
   ]
  },
  {
   "cell_type": "code",
   "execution_count": 133,
   "metadata": {},
   "outputs": [],
   "source": [
    "clean_df['weight'] = data['Weight'].str.extract(r'^(\\d+\\.?\\d+)')\n",
    "clean_df['weight'] = clean_df['weight'].astype('float64')"
   ]
  },
  {
   "attachments": {},
   "cell_type": "markdown",
   "metadata": {},
   "source": [
    "#### 4.3.10 Chỉnh sửa thông tin về xếp hạng và điểm hiệu năng của CPU và GPU"
   ]
  },
  {
   "attachments": {},
   "cell_type": "markdown",
   "metadata": {},
   "source": [
    "- CPU/ GPU benchmark\n"
   ]
  },
  {
   "cell_type": "code",
   "execution_count": 134,
   "metadata": {},
   "outputs": [],
   "source": [
    "clean_df['cpu_point'] = data['Cinebench23']\n",
    "clean_df['gpu_point'] = data['3DMark Time Spy (G)']\n",
    "\n",
    "# convert to float\n",
    "clean_df['cpu_point'] = clean_df['cpu_point'].astype('float64')\n",
    "clean_df['gpu_point'] = clean_df['gpu_point'].astype('float64')\n"
   ]
  },
  {
   "attachments": {},
   "cell_type": "markdown",
   "metadata": {},
   "source": [
    "#### 4.3.11 Chỉnh sửa thông tin về các chức năng khác của laptop"
   ]
  },
  {
   "attachments": {},
   "cell_type": "markdown",
   "metadata": {},
   "source": [
    "- **Features**\n"
   ]
  },
  {
   "cell_type": "code",
   "execution_count": 135,
   "metadata": {},
   "outputs": [],
   "source": [
    "clean_df['features'] = data['Features']"
   ]
  },
  {
   "cell_type": "code",
   "execution_count": 136,
   "metadata": {},
   "outputs": [
    {
     "data": {
      "text/plain": [
       "array(['Fingerprint reader', 'Web camera', 'Backlit keyboard',\n",
       "       'Microphone'], dtype=object)"
      ]
     },
     "execution_count": 136,
     "metadata": {},
     "output_type": "execute_result"
    }
   ],
   "source": [
    "clean_df['features'].unique()\n"
   ]
  },
  {
   "cell_type": "code",
   "execution_count": 137,
   "metadata": {},
   "outputs": [
    {
     "data": {
      "text/plain": [
       "features\n",
       "Fingerprint reader    7320\n",
       "Web camera            1945\n",
       "Microphone              12\n",
       "Backlit keyboard        10\n",
       "Name: count, dtype: int64"
      ]
     },
     "execution_count": 137,
     "metadata": {},
     "output_type": "execute_result"
    }
   ],
   "source": [
    "clean_df['features'].value_counts()\n"
   ]
  },
  {
   "attachments": {},
   "cell_type": "markdown",
   "metadata": {},
   "source": [
    "#### 4.3.12 Chỉnh sửa các cột dữ liệu dạng string thành uppercase"
   ]
  },
  {
   "cell_type": "code",
   "execution_count": 138,
   "metadata": {},
   "outputs": [],
   "source": [
    "# conver brand, ram_type, display_type, screen_panel, cpu_brand, gpu_brand, OS to uppercase\n",
    "clean_df['brand'] = clean_df['brand'].str.upper()\n",
    "clean_df['ram_type'] = clean_df['ram_type'].str.upper()\n",
    "clean_df['display_type'] = clean_df['display_type'].str.upper()\n",
    "clean_df['screen_panel'] = clean_df['screen_panel'].str.upper()\n",
    "clean_df['cpu_brand'] = clean_df['cpu_brand'].str.upper()\n",
    "clean_df['gpu_brand'] = clean_df['gpu_brand'].str.upper()\n",
    "clean_df['os'] = clean_df['os'].str.upper()\n",
    "clean_df['features'] = clean_df['features'].str.upper()\n"
   ]
  },
  {
   "attachments": {},
   "cell_type": "markdown",
   "metadata": {},
   "source": [
    "#### 4.3.13 Xóa dữ liệu trống và trùng lặp một lần nữa"
   ]
  },
  {
   "attachments": {},
   "cell_type": "markdown",
   "metadata": {},
   "source": [
    "Vì chúng ta tiến hành dự đoán giá laptop, do đó, chúng ta sẽ xóa các dòng dữ liệu có giá trị 'Price' là NaN."
   ]
  },
  {
   "cell_type": "code",
   "execution_count": 139,
   "metadata": {},
   "outputs": [],
   "source": [
    "# drop missing value in Price column\n",
    "clean_df.dropna(subset=['price'], inplace=True)\n",
    "\n",
    "# clean_df.dropna(inplace=True)\n",
    "clean_df.drop_duplicates(inplace=True)\n",
    "# reset index column\n",
    "clean_df.reset_index(drop=True, inplace=True)\n"
   ]
  },
  {
   "attachments": {},
   "cell_type": "markdown",
   "metadata": {},
   "source": [
    "## 5. Kiểm tra lại và lưu dữ liệu"
   ]
  },
  {
   "cell_type": "code",
   "execution_count": 140,
   "metadata": {},
   "outputs": [
    {
     "name": "stdout",
     "output_type": "stream",
     "text": [
      "<class 'pandas.core.frame.DataFrame'>\n",
      "RangeIndex: 8636 entries, 0 to 8635\n",
      "Data columns (total 20 columns):\n",
      " #   Column        Non-Null Count  Dtype  \n",
      "---  ------        --------------  -----  \n",
      " 0   price         8636 non-null   float64\n",
      " 1   brand         8636 non-null   object \n",
      " 2   ram           8636 non-null   float64\n",
      " 3   ram_type      8636 non-null   object \n",
      " 4   display_size  8622 non-null   float64\n",
      " 5   display_type  8622 non-null   object \n",
      " 6   resolution    8622 non-null   object \n",
      " 7   screen_rate   2667 non-null   float64\n",
      " 8   screen_panel  8622 non-null   object \n",
      " 9   length        8592 non-null   float64\n",
      " 10  width         8588 non-null   float64\n",
      " 11  height        8588 non-null   float64\n",
      " 12  cpu_brand     8636 non-null   object \n",
      " 13  gpu_brand     8636 non-null   object \n",
      " 14  ssd           8579 non-null   float64\n",
      " 15  os            8617 non-null   object \n",
      " 16  weight        8636 non-null   float64\n",
      " 17  cpu_point     7900 non-null   float64\n",
      " 18  gpu_point     7462 non-null   float64\n",
      " 19  features      8636 non-null   object \n",
      "dtypes: float64(11), object(9)\n",
      "memory usage: 1.3+ MB\n"
     ]
    }
   ],
   "source": [
    "clean_df.info()\n"
   ]
  },
  {
   "cell_type": "code",
   "execution_count": 141,
   "metadata": {},
   "outputs": [
    {
     "data": {
      "text/html": [
       "<div>\n",
       "<style scoped>\n",
       "    .dataframe tbody tr th:only-of-type {\n",
       "        vertical-align: middle;\n",
       "    }\n",
       "\n",
       "    .dataframe tbody tr th {\n",
       "        vertical-align: top;\n",
       "    }\n",
       "\n",
       "    .dataframe thead th {\n",
       "        text-align: right;\n",
       "    }\n",
       "</style>\n",
       "<table border=\"1\" class=\"dataframe\">\n",
       "  <thead>\n",
       "    <tr style=\"text-align: right;\">\n",
       "      <th></th>\n",
       "      <th>price</th>\n",
       "      <th>brand</th>\n",
       "      <th>ram</th>\n",
       "      <th>ram_type</th>\n",
       "      <th>display_size</th>\n",
       "      <th>display_type</th>\n",
       "      <th>resolution</th>\n",
       "      <th>screen_rate</th>\n",
       "      <th>screen_panel</th>\n",
       "      <th>length</th>\n",
       "      <th>width</th>\n",
       "      <th>height</th>\n",
       "      <th>cpu_brand</th>\n",
       "      <th>gpu_brand</th>\n",
       "      <th>ssd</th>\n",
       "      <th>os</th>\n",
       "      <th>weight</th>\n",
       "      <th>cpu_point</th>\n",
       "      <th>gpu_point</th>\n",
       "      <th>features</th>\n",
       "    </tr>\n",
       "  </thead>\n",
       "  <tbody>\n",
       "    <tr>\n",
       "      <th>0</th>\n",
       "      <td>3629.00</td>\n",
       "      <td>ASUS</td>\n",
       "      <td>64.0</td>\n",
       "      <td>DDR5</td>\n",
       "      <td>15.6</td>\n",
       "      <td>FHD</td>\n",
       "      <td>1920 x 1080</td>\n",
       "      <td>144.0</td>\n",
       "      <td>IPS</td>\n",
       "      <td>354.00</td>\n",
       "      <td>251.00</td>\n",
       "      <td>19.90</td>\n",
       "      <td>INTEL</td>\n",
       "      <td>NVIDIA</td>\n",
       "      <td>2000.0</td>\n",
       "      <td>WINDOWS</td>\n",
       "      <td>2.00</td>\n",
       "      <td>13001.0</td>\n",
       "      <td>NaN</td>\n",
       "      <td>FINGERPRINT READER</td>\n",
       "    </tr>\n",
       "    <tr>\n",
       "      <th>1</th>\n",
       "      <td>3049.99</td>\n",
       "      <td>LENOVO</td>\n",
       "      <td>64.0</td>\n",
       "      <td>DDR5</td>\n",
       "      <td>15.6</td>\n",
       "      <td>QHD</td>\n",
       "      <td>2560 x 1440</td>\n",
       "      <td>165.0</td>\n",
       "      <td>IPS</td>\n",
       "      <td>358.80</td>\n",
       "      <td>262.35</td>\n",
       "      <td>19.99</td>\n",
       "      <td>INTEL</td>\n",
       "      <td>NVIDIA</td>\n",
       "      <td>2000.0</td>\n",
       "      <td>WINDOWS</td>\n",
       "      <td>2.40</td>\n",
       "      <td>15486.0</td>\n",
       "      <td>8841.0</td>\n",
       "      <td>FINGERPRINT READER</td>\n",
       "    </tr>\n",
       "    <tr>\n",
       "      <th>2</th>\n",
       "      <td>1819.00</td>\n",
       "      <td>ACER</td>\n",
       "      <td>32.0</td>\n",
       "      <td>DDR5</td>\n",
       "      <td>15.6</td>\n",
       "      <td>FHD</td>\n",
       "      <td>1920 x 1080</td>\n",
       "      <td>144.0</td>\n",
       "      <td>IPS</td>\n",
       "      <td>360.40</td>\n",
       "      <td>271.10</td>\n",
       "      <td>25.90</td>\n",
       "      <td>INTEL</td>\n",
       "      <td>NVIDIA</td>\n",
       "      <td>2000.0</td>\n",
       "      <td>WINDOWS</td>\n",
       "      <td>2.50</td>\n",
       "      <td>15486.0</td>\n",
       "      <td>8864.0</td>\n",
       "      <td>FINGERPRINT READER</td>\n",
       "    </tr>\n",
       "    <tr>\n",
       "      <th>3</th>\n",
       "      <td>2359.99</td>\n",
       "      <td>ACER</td>\n",
       "      <td>32.0</td>\n",
       "      <td>DDR4</td>\n",
       "      <td>16.0</td>\n",
       "      <td>WQXGA</td>\n",
       "      <td>2560 x 1600</td>\n",
       "      <td>165.0</td>\n",
       "      <td>IPS</td>\n",
       "      <td>358.14</td>\n",
       "      <td>261.62</td>\n",
       "      <td>19.81</td>\n",
       "      <td>INTEL</td>\n",
       "      <td>NVIDIA</td>\n",
       "      <td>1000.0</td>\n",
       "      <td>WINDOWS</td>\n",
       "      <td>2.44</td>\n",
       "      <td>12390.0</td>\n",
       "      <td>8290.0</td>\n",
       "      <td>FINGERPRINT READER</td>\n",
       "    </tr>\n",
       "    <tr>\n",
       "      <th>4</th>\n",
       "      <td>1309.99</td>\n",
       "      <td>HP</td>\n",
       "      <td>64.0</td>\n",
       "      <td>DDR4</td>\n",
       "      <td>15.6</td>\n",
       "      <td>HD</td>\n",
       "      <td>1366 x 768</td>\n",
       "      <td>NaN</td>\n",
       "      <td>TN</td>\n",
       "      <td>358.00</td>\n",
       "      <td>242.00</td>\n",
       "      <td>17.90</td>\n",
       "      <td>INTEL</td>\n",
       "      <td>INTEL</td>\n",
       "      <td>2000.0</td>\n",
       "      <td>WINDOWS</td>\n",
       "      <td>1.70</td>\n",
       "      <td>NaN</td>\n",
       "      <td>1097.0</td>\n",
       "      <td>WEB CAMERA</td>\n",
       "    </tr>\n",
       "  </tbody>\n",
       "</table>\n",
       "</div>"
      ],
      "text/plain": [
       "     price   brand   ram ram_type  display_size display_type   resolution   \n",
       "0  3629.00    ASUS  64.0     DDR5          15.6          FHD  1920 x 1080  \\\n",
       "1  3049.99  LENOVO  64.0     DDR5          15.6          QHD  2560 x 1440   \n",
       "2  1819.00    ACER  32.0     DDR5          15.6          FHD  1920 x 1080   \n",
       "3  2359.99    ACER  32.0     DDR4          16.0        WQXGA  2560 x 1600   \n",
       "4  1309.99      HP  64.0     DDR4          15.6           HD   1366 x 768   \n",
       "\n",
       "   screen_rate screen_panel  length   width  height cpu_brand gpu_brand   \n",
       "0        144.0          IPS  354.00  251.00   19.90     INTEL    NVIDIA  \\\n",
       "1        165.0          IPS  358.80  262.35   19.99     INTEL    NVIDIA   \n",
       "2        144.0          IPS  360.40  271.10   25.90     INTEL    NVIDIA   \n",
       "3        165.0          IPS  358.14  261.62   19.81     INTEL    NVIDIA   \n",
       "4          NaN           TN  358.00  242.00   17.90     INTEL     INTEL   \n",
       "\n",
       "      ssd       os  weight  cpu_point  gpu_point            features  \n",
       "0  2000.0  WINDOWS    2.00    13001.0        NaN  FINGERPRINT READER  \n",
       "1  2000.0  WINDOWS    2.40    15486.0     8841.0  FINGERPRINT READER  \n",
       "2  2000.0  WINDOWS    2.50    15486.0     8864.0  FINGERPRINT READER  \n",
       "3  1000.0  WINDOWS    2.44    12390.0     8290.0  FINGERPRINT READER  \n",
       "4  2000.0  WINDOWS    1.70        NaN     1097.0          WEB CAMERA  "
      ]
     },
     "execution_count": 141,
     "metadata": {},
     "output_type": "execute_result"
    }
   ],
   "source": [
    "clean_df.head()\n"
   ]
  },
  {
   "cell_type": "code",
   "execution_count": 142,
   "metadata": {},
   "outputs": [],
   "source": [
    "clean_df.to_csv('clean_data_10k.csv', index=False)\n"
   ]
  }
 ],
 "metadata": {
  "kernelspec": {
   "display_name": "Python 3 (ipykernel)",
   "language": "python",
   "name": "python3"
  },
  "language_info": {
   "codemirror_mode": {
    "name": "ipython",
    "version": 3
   },
   "file_extension": ".py",
   "mimetype": "text/x-python",
   "name": "python",
   "nbconvert_exporter": "python",
   "pygments_lexer": "ipython3",
   "version": "3.10.9"
  }
 },
 "nbformat": 4,
 "nbformat_minor": 4
}
