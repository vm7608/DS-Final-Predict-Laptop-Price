{
 "cells": [
  {
   "attachments": {},
   "cell_type": "markdown",
   "metadata": {},
   "source": [
    "## Giới thiệu về bộ dữ liệu sẽ xử lý\n",
    "\n",
    "- Bộ dữ liệu raw bao gồm 4 file `laptop_basic.csv`, `laptop_detail.csv`, `cpuben.csv` và `cpuben.csv`. Dữ liệu được cào từ website [LaptopMedia](https://laptopmedia.com/)\n",
    "- File `laptop_basic.csv` chứa link thông tin của 10000 laptop.\n",
    "- File `laptop_detail.csv` chứa thông tin chi tiết của 10000 laptop.\n",
    "- File `cpuben.csv` chứa thông tin benchmark và thứ hạng hiệu năng của 122 mẫu CPU.\n",
    "- File `gpuben.csv` chứa thông tin benchmark và thứ hạng hiệu năng của 140 mẫu GPU.\n",
    "- Trong notebook này, chúng em sẽ tiến hành gộp, xử lý và làm sạch dữ liệu. Kết quả cuối cùng sẽ được lưu vào file 'clean_data.csv' "
   ]
  },
  {
   "attachments": {},
   "cell_type": "markdown",
   "metadata": {},
   "source": [
    "## 1. Khai báo thư viện\n"
   ]
  },
  {
   "cell_type": "code",
   "execution_count": 68,
   "metadata": {},
   "outputs": [],
   "source": [
    "import numpy as np\n",
    "import pandas as pd\n",
    "import re\n",
    "import warnings\n",
    "warnings.filterwarnings('ignore')"
   ]
  },
  {
   "attachments": {},
   "cell_type": "markdown",
   "metadata": {},
   "source": [
    "## 2. Load dữ liệu"
   ]
  },
  {
   "cell_type": "code",
   "execution_count": 69,
   "metadata": {},
   "outputs": [
    {
     "name": "stdout",
     "output_type": "stream",
     "text": [
      "Number of rows and columns: (10000, 97)\n"
     ]
    }
   ],
   "source": [
    "data_detail = pd.read_csv('raw\\laptop_detail.csv')\n",
    "print('Number of rows and columns:', data_detail.shape)"
   ]
  },
  {
   "cell_type": "code",
   "execution_count": 70,
   "metadata": {},
   "outputs": [
    {
     "data": {
      "text/html": [
       "<div>\n",
       "<style scoped>\n",
       "    .dataframe tbody tr th:only-of-type {\n",
       "        vertical-align: middle;\n",
       "    }\n",
       "\n",
       "    .dataframe tbody tr th {\n",
       "        vertical-align: top;\n",
       "    }\n",
       "\n",
       "    .dataframe thead th {\n",
       "        text-align: right;\n",
       "    }\n",
       "</style>\n",
       "<table border=\"1\" class=\"dataframe\">\n",
       "  <thead>\n",
       "    <tr style=\"text-align: right;\">\n",
       "      <th></th>\n",
       "      <th>Unnamed: 0.1</th>\n",
       "      <th>Unnamed: 0</th>\n",
       "      <th>Product Name</th>\n",
       "      <th>Product Link</th>\n",
       "      <th>Processor</th>\n",
       "      <th>Internal memory</th>\n",
       "      <th>Video card</th>\n",
       "      <th>Display</th>\n",
       "      <th>Solid-state drive</th>\n",
       "      <th>Price</th>\n",
       "      <th>...</th>\n",
       "      <th>Storage drive heater\\n</th>\n",
       "      <th>4G LTE multi carrier mobile broadband with satellite GPS</th>\n",
       "      <th>E-compass\\n</th>\n",
       "      <th>Accelerometer</th>\n",
       "      <th>4x RAM slots</th>\n",
       "      <th>G-sensor</th>\n",
       "      <th>Accelerometer (G-sensor)</th>\n",
       "      <th>Slot Integrated Bluetooth Earbuds</th>\n",
       "      <th>3W subwoofer</th>\n",
       "      <th>MIL-STD 810G tested</th>\n",
       "    </tr>\n",
       "  </thead>\n",
       "  <tbody>\n",
       "    <tr>\n",
       "      <th>0</th>\n",
       "      <td>0</td>\n",
       "      <td>0</td>\n",
       "      <td>ASUS TUF Dash F15</td>\n",
       "      <td>https://laptopmedia.com/laptop-specs/asus-tuf-...</td>\n",
       "      <td>Intel Core i7-12650H</td>\n",
       "      <td>64GB RAM</td>\n",
       "      <td>NVIDIA GeForce RTX 3070 (Laptop, 105W)</td>\n",
       "      <td>15.6”, Full HD (1920 x 1080), 144 Hz, IPS</td>\n",
       "      <td>2000GB SSD</td>\n",
       "      <td>$362900</td>\n",
       "      <td>...</td>\n",
       "      <td>NaN</td>\n",
       "      <td>NaN</td>\n",
       "      <td>NaN</td>\n",
       "      <td>NaN</td>\n",
       "      <td>NaN</td>\n",
       "      <td>NaN</td>\n",
       "      <td>NaN</td>\n",
       "      <td>NaN</td>\n",
       "      <td>NaN</td>\n",
       "      <td>NaN</td>\n",
       "    </tr>\n",
       "    <tr>\n",
       "      <th>1</th>\n",
       "      <td>1</td>\n",
       "      <td>1</td>\n",
       "      <td>Lenovo Legion 5i 15</td>\n",
       "      <td>https://laptopmedia.com/laptop-specs/lenovo-le...</td>\n",
       "      <td>Intel Core i7-12700H</td>\n",
       "      <td>64GB RAM</td>\n",
       "      <td>NVIDIA GeForce RTX 3060 (Laptop, 130W)</td>\n",
       "      <td>15.6”, QHD (2560 x 1440), 165 Hz, IPS</td>\n",
       "      <td>2000GB SSD</td>\n",
       "      <td>$304999</td>\n",
       "      <td>...</td>\n",
       "      <td>NaN</td>\n",
       "      <td>NaN</td>\n",
       "      <td>NaN</td>\n",
       "      <td>NaN</td>\n",
       "      <td>NaN</td>\n",
       "      <td>NaN</td>\n",
       "      <td>NaN</td>\n",
       "      <td>NaN</td>\n",
       "      <td>NaN</td>\n",
       "      <td>NaN</td>\n",
       "    </tr>\n",
       "    <tr>\n",
       "      <th>2</th>\n",
       "      <td>2</td>\n",
       "      <td>2</td>\n",
       "      <td>Acer Nitro 5</td>\n",
       "      <td>https://laptopmedia.com/laptop-specs/acer-nitr...</td>\n",
       "      <td>Intel Core i7-12700H</td>\n",
       "      <td>32GB RAM</td>\n",
       "      <td>NVIDIA GeForce RTX 3060 (Laptop, 140W)</td>\n",
       "      <td>15.6”, Full HD (1920 x 1080), 144 Hz, IPS</td>\n",
       "      <td>2000GB SSD</td>\n",
       "      <td>$181900</td>\n",
       "      <td>...</td>\n",
       "      <td>NaN</td>\n",
       "      <td>NaN</td>\n",
       "      <td>NaN</td>\n",
       "      <td>NaN</td>\n",
       "      <td>NaN</td>\n",
       "      <td>NaN</td>\n",
       "      <td>NaN</td>\n",
       "      <td>NaN</td>\n",
       "      <td>NaN</td>\n",
       "      <td>NaN</td>\n",
       "    </tr>\n",
       "  </tbody>\n",
       "</table>\n",
       "<p>3 rows × 97 columns</p>\n",
       "</div>"
      ],
      "text/plain": [
       "   Unnamed: 0.1  Unnamed: 0         Product Name   \n",
       "0             0           0    ASUS TUF Dash F15  \\\n",
       "1             1           1  Lenovo Legion 5i 15   \n",
       "2             2           2         Acer Nitro 5   \n",
       "\n",
       "                                        Product Link             Processor   \n",
       "0  https://laptopmedia.com/laptop-specs/asus-tuf-...  Intel Core i7-12650H  \\\n",
       "1  https://laptopmedia.com/laptop-specs/lenovo-le...  Intel Core i7-12700H   \n",
       "2  https://laptopmedia.com/laptop-specs/acer-nitr...  Intel Core i7-12700H   \n",
       "\n",
       "  Internal memory                              Video card   \n",
       "0        64GB RAM  NVIDIA GeForce RTX 3070 (Laptop, 105W)  \\\n",
       "1        64GB RAM  NVIDIA GeForce RTX 3060 (Laptop, 130W)   \n",
       "2        32GB RAM  NVIDIA GeForce RTX 3060 (Laptop, 140W)   \n",
       "\n",
       "                                     Display Solid-state drive    Price  ...   \n",
       "0  15.6”, Full HD (1920 x 1080), 144 Hz, IPS        2000GB SSD  $362900  ...  \\\n",
       "1      15.6”, QHD (2560 x 1440), 165 Hz, IPS        2000GB SSD  $304999  ...   \n",
       "2  15.6”, Full HD (1920 x 1080), 144 Hz, IPS        2000GB SSD  $181900  ...   \n",
       "\n",
       "  Storage drive heater\\n   \n",
       "0                    NaN  \\\n",
       "1                    NaN   \n",
       "2                    NaN   \n",
       "\n",
       "  4G LTE multi carrier mobile broadband with satellite GPS E-compass\\n   \n",
       "0                                                NaN               NaN  \\\n",
       "1                                                NaN               NaN   \n",
       "2                                                NaN               NaN   \n",
       "\n",
       "  Accelerometer 4x RAM slots G-sensor Accelerometer (G-sensor)   \n",
       "0           NaN          NaN      NaN                      NaN  \\\n",
       "1           NaN          NaN      NaN                      NaN   \n",
       "2           NaN          NaN      NaN                      NaN   \n",
       "\n",
       "  Slot Integrated Bluetooth Earbuds 3W subwoofer MIL-STD 810G tested  \n",
       "0                               NaN          NaN                 NaN  \n",
       "1                               NaN          NaN                 NaN  \n",
       "2                               NaN          NaN                 NaN  \n",
       "\n",
       "[3 rows x 97 columns]"
      ]
     },
     "execution_count": 70,
     "metadata": {},
     "output_type": "execute_result"
    }
   ],
   "source": [
    "data_detail.head(3)"
   ]
  },
  {
   "attachments": {},
   "cell_type": "markdown",
   "metadata": {},
   "source": [
    "## 3. Làm sạch dữ liệu"
   ]
  },
  {
   "attachments": {},
   "cell_type": "markdown",
   "metadata": {},
   "source": [
    "### 3.1 Xóa hai cột thông tin dư đầu tiên\n"
   ]
  },
  {
   "cell_type": "code",
   "execution_count": 71,
   "metadata": {},
   "outputs": [],
   "source": [
    "# delete the first two column\n",
    "data_detail = data_detail.drop(['Unnamed: 0', 'Unnamed: 0.1'], axis=1)\n"
   ]
  },
  {
   "attachments": {},
   "cell_type": "markdown",
   "metadata": {},
   "source": [
    "### 3.2 Xóa các cột thông tin chứa quá nhiều dữ liệu trống\n"
   ]
  },
  {
   "attachments": {},
   "cell_type": "markdown",
   "metadata": {},
   "source": [
    "#### 3.2.1 Take a look at the data\n"
   ]
  },
  {
   "cell_type": "code",
   "execution_count": 72,
   "metadata": {},
   "outputs": [
    {
     "name": "stdout",
     "output_type": "stream",
     "text": [
      "Top 25 cột có nhiều giá trị non-null nhất:\n"
     ]
    },
    {
     "data": {
      "text/plain": [
       "Product Name          10000\n",
       "Processor             10000\n",
       "Internal memory       10000\n",
       "Video card            10000\n",
       "Product Link          10000\n",
       "Price                 10000\n",
       "GPU                    9999\n",
       "Features               9999\n",
       "Weight                 9999\n",
       "RAM                    9998\n",
       "Detail price           9997\n",
       "HDD/SSD                9996\n",
       "Display                9985\n",
       "OS                     9975\n",
       "Dimensions             9950\n",
       "Solid-state drive      9866\n",
       "Web camera             9237\n",
       "Speakers               8977\n",
       "Microphone             7443\n",
       "Gifts                  6504\n",
       "Body Material          4639\n",
       "M.2 Slot               4561\n",
       "Security Lock slot     2283\n",
       "Hard drive              688\n",
       "Fingerprint reader       53\n",
       "dtype: int64"
      ]
     },
     "execution_count": 72,
     "metadata": {},
     "output_type": "execute_result"
    }
   ],
   "source": [
    "print('Top 25 cột có nhiều giá trị non-null nhất:')\n",
    "data_detail.count().sort_values(ascending=False)[:25]"
   ]
  },
  {
   "attachments": {},
   "cell_type": "markdown",
   "metadata": {},
   "source": [
    "- Với cột 'Hard drive' các dữ liệu trống sẽ được thay thế bằng '0 GB' để dễ xử lý sau này."
   ]
  },
  {
   "cell_type": "code",
   "execution_count": 73,
   "metadata": {},
   "outputs": [],
   "source": [
    "# fill missing value in Hard drive with 0GB\n",
    "data_detail['Hard drive'] = data_detail['Hard drive'].fillna('0GB')"
   ]
  },
  {
   "attachments": {},
   "cell_type": "markdown",
   "metadata": {},
   "source": [
    "#### 3.2.2 Xóa các cột thông tin chứa không quá 15% dữ liệu non-null trong tập dữ liệu\n"
   ]
  },
  {
   "cell_type": "code",
   "execution_count": 74,
   "metadata": {},
   "outputs": [
    {
     "name": "stdout",
     "output_type": "stream",
     "text": [
      "<class 'pandas.core.frame.DataFrame'>\n",
      "RangeIndex: 10000 entries, 0 to 9999\n",
      "Data columns (total 19 columns):\n",
      " #   Column             Non-Null Count  Dtype \n",
      "---  ------             --------------  ----- \n",
      " 0   Product Name       10000 non-null  object\n",
      " 1   Product Link       10000 non-null  object\n",
      " 2   Processor          10000 non-null  object\n",
      " 3   Internal memory    10000 non-null  object\n",
      " 4   Video card         10000 non-null  object\n",
      " 5   Display            9985 non-null   object\n",
      " 6   Solid-state drive  9866 non-null   object\n",
      " 7   Price              10000 non-null  object\n",
      " 8   Hard drive         10000 non-null  object\n",
      " 9   Detail price       9997 non-null   object\n",
      " 10  GPU                9999 non-null   object\n",
      " 11  HDD/SSD            9996 non-null   object\n",
      " 12  RAM                9998 non-null   object\n",
      " 13  OS                 9975 non-null   object\n",
      " 14  Dimensions         9950 non-null   object\n",
      " 15  Weight             9999 non-null   object\n",
      " 16  Features           9999 non-null   object\n",
      " 17  Web camera         9237 non-null   object\n",
      " 18  Speakers           8977 non-null   object\n",
      "dtypes: object(19)\n",
      "memory usage: 1.4+ MB\n"
     ]
    }
   ],
   "source": [
    "def filter_column_meaningless(df, percent=0.85):\n",
    "    filtered_column = []\n",
    "    for column in df.columns:\n",
    "        if (df[column].notnull().sum() <= percent * df.shape[0]):\n",
    "            filtered_column.append(column)\n",
    "    return filtered_column\n",
    "\n",
    "\n",
    "data = data_detail.drop(columns=filter_column_meaningless(data_detail))\n",
    "data.info()\n"
   ]
  },
  {
   "attachments": {},
   "cell_type": "markdown",
   "metadata": {},
   "source": [
    "#### 3.2.3 Chỉnh sửa thông tin và xóa đi các cột thông tin không cần thiết/ trùng lặp"
   ]
  },
  {
   "attachments": {},
   "cell_type": "markdown",
   "metadata": {},
   "source": [
    "- Giữ lại cột 'Solid-state-drive' và 'Hard drive' vì dữ liệu dễ xử lý và sạch hơn cột 'HDD/SSD'. Cột 'HDD/SSD' có nhiều dữ liệu không đồng nhất."
   ]
  },
  {
   "cell_type": "code",
   "execution_count": 75,
   "metadata": {},
   "outputs": [
    {
     "data": {
      "text/plain": [
       "array(['2TB SSD RAID 0', '2TB SSD RAID 1', '2TB SSD', '1TB SSD',\n",
       "       '1TB SSD ', '8TB SSD', '4TB SSD', '512GB SSD',\n",
       "       '512GB SSD + 1TB HDD', '256GB SSD + 1TB HDD', '2TB SSD + 2TB HDD',\n",
       "       '256GB SSD', '2TB SSD ', '1TB SSD RAID 1', '128GB SSD',\n",
       "       '32GB eMMC', '512GB PCIe NVMe SSD', '500GB HDD', '8TB SSD ',\n",
       "       '128GB SSD + 1TB HDD', '1TB HDD', '64GB eMMC', '1TB SSD RAID 0',\n",
       "       '128GB eMMC', '1TB SSD  + 2TB HDD'], dtype=object)"
      ]
     },
     "execution_count": 75,
     "metadata": {},
     "output_type": "execute_result"
    }
   ],
   "source": [
    "data['HDD/SSD'].unique()[:25]\n"
   ]
  },
  {
   "cell_type": "code",
   "execution_count": 76,
   "metadata": {},
   "outputs": [],
   "source": [
    "data = data.drop(columns='HDD/SSD')"
   ]
  },
  {
   "attachments": {},
   "cell_type": "markdown",
   "metadata": {},
   "source": [
    "- Đối với giá sản phẩm sẽ chỉ giữ lại cột 'Detail price' vì cột này có định dạng giá đúng.\n"
   ]
  },
  {
   "cell_type": "code",
   "execution_count": 77,
   "metadata": {},
   "outputs": [],
   "source": [
    "data = data.drop(columns='Price')\n"
   ]
  },
  {
   "attachments": {},
   "cell_type": "markdown",
   "metadata": {},
   "source": [
    "- Đối với 'RAM' và 'Internal memory' sẽ giữ lại cột 'RAM' vì định dạng dữ liệu đơn giản hơn.\n"
   ]
  },
  {
   "cell_type": "code",
   "execution_count": 78,
   "metadata": {},
   "outputs": [],
   "source": [
    "data = data.drop(columns='Internal memory')\n"
   ]
  },
  {
   "attachments": {},
   "cell_type": "markdown",
   "metadata": {},
   "source": [
    "- Giữ lại cột 'Video card' vì định dạng dữ liệu đơn giản hơn cột 'GPU'."
   ]
  },
  {
   "cell_type": "code",
   "execution_count": 79,
   "metadata": {},
   "outputs": [],
   "source": [
    "data = data.drop(columns='GPU')"
   ]
  },
  {
   "attachments": {},
   "cell_type": "markdown",
   "metadata": {},
   "source": [
    "- Cột 'Web camera' và 'Speakers' không có nhiều thông tin (chỉ có thông tin về tên của camera và loa) nên sẽ xóa.\n"
   ]
  },
  {
   "cell_type": "code",
   "execution_count": 80,
   "metadata": {},
   "outputs": [
    {
     "data": {
      "text/plain": [
       "array(['HD with camera shutter, temporal noise reduction', 'HD or FHD',\n",
       "       'HD / FHD / IR with privacy shutter, fixed focus', 'HD 720p',\n",
       "       '5MP with IR', 'FHD with privacy shutter, fixed focus', '5MP',\n",
       "       'HD TrueVision with temporal noise reduction', 'FHD & IR', 'HD IR',\n",
       "       'FHD IR with Windows Hello', 'HD with privacy shutter',\n",
       "       'FHD IR Camera for Windows Hello', 'HD + FHD', '2MP Full HD'],\n",
       "      dtype=object)"
      ]
     },
     "execution_count": 80,
     "metadata": {},
     "output_type": "execute_result"
    }
   ],
   "source": [
    "# Some web camera values\n",
    "data['Web camera'].unique()[10:25]\n"
   ]
  },
  {
   "cell_type": "code",
   "execution_count": 81,
   "metadata": {},
   "outputs": [
    {
     "data": {
      "text/plain": [
       "array(['2x 1.5W Stereo Speakers, Dolby Audio', '2 Speakers',\n",
       "       '2x 2.5W Stereo Speakers', '4x Speakers, Smart Amp, Dolby Atmos',\n",
       "       '2x 2W, DTS: X Ultra', 'Stereo Speakers',\n",
       "       '2x 2W Speaker, Dynaudio', '2x Stereo Speakers, Acer TrueHarmony',\n",
       "       '2x Speakers',\n",
       "       ' 2x 2W Dual-Force Woofer + 2x 2W Tweeter, Smart Amp, Dolby Atmos',\n",
       "       'Stereo Speakers, Bang & Olufsen, DTS:X Ultra',\n",
       "       'Speaker System optimized by DTS Audio', '2x 2W, Dolby Audio',\n",
       "       '2x 2W Speakers + 4x 2W Woofers, Dynaudio, Nahimic 3',\n",
       "       '2x 1.5W, Dolby Atmos'], dtype=object)"
      ]
     },
     "execution_count": 81,
     "metadata": {},
     "output_type": "execute_result"
    }
   ],
   "source": [
    "# Some speaker values\n",
    "data['Speakers'].unique()[10:25]\n"
   ]
  },
  {
   "cell_type": "code",
   "execution_count": 82,
   "metadata": {},
   "outputs": [],
   "source": [
    "data = data.drop(columns=['Web camera', 'Speakers'])\n"
   ]
  },
  {
   "attachments": {},
   "cell_type": "markdown",
   "metadata": {},
   "source": [
    "- Cuối cùng, xóa cột 'Product Link' vì không cần thiết.\n"
   ]
  },
  {
   "cell_type": "code",
   "execution_count": 83,
   "metadata": {},
   "outputs": [],
   "source": [
    "data = data.drop(columns='Product Link')\n"
   ]
  },
  {
   "attachments": {},
   "cell_type": "markdown",
   "metadata": {},
   "source": [
    "### 3.3 Kiểm tra lại tập dữ liệu\n"
   ]
  },
  {
   "cell_type": "code",
   "execution_count": 84,
   "metadata": {},
   "outputs": [
    {
     "data": {
      "text/html": [
       "<div>\n",
       "<style scoped>\n",
       "    .dataframe tbody tr th:only-of-type {\n",
       "        vertical-align: middle;\n",
       "    }\n",
       "\n",
       "    .dataframe tbody tr th {\n",
       "        vertical-align: top;\n",
       "    }\n",
       "\n",
       "    .dataframe thead th {\n",
       "        text-align: right;\n",
       "    }\n",
       "</style>\n",
       "<table border=\"1\" class=\"dataframe\">\n",
       "  <thead>\n",
       "    <tr style=\"text-align: right;\">\n",
       "      <th></th>\n",
       "      <th>Product Name</th>\n",
       "      <th>Processor</th>\n",
       "      <th>Video card</th>\n",
       "      <th>Display</th>\n",
       "      <th>Solid-state drive</th>\n",
       "      <th>Hard drive</th>\n",
       "      <th>Detail price</th>\n",
       "      <th>RAM</th>\n",
       "      <th>OS</th>\n",
       "      <th>Dimensions</th>\n",
       "      <th>Weight</th>\n",
       "      <th>Features</th>\n",
       "    </tr>\n",
       "  </thead>\n",
       "  <tbody>\n",
       "    <tr>\n",
       "      <th>0</th>\n",
       "      <td>ASUS TUF Dash F15</td>\n",
       "      <td>Intel Core i7-12650H</td>\n",
       "      <td>NVIDIA GeForce RTX 3070 (Laptop, 105W)</td>\n",
       "      <td>15.6”, Full HD (1920 x 1080), 144 Hz, IPS</td>\n",
       "      <td>2000GB SSD</td>\n",
       "      <td>0GB</td>\n",
       "      <td>$3629.00.None</td>\n",
       "      <td>64GB DDR5</td>\n",
       "      <td>Windows 11 Pro</td>\n",
       "      <td>354 x 251 x 19.9 - 20.7 mm (13.94\" x 9.88\" x 0...</td>\n",
       "      <td>2.00 kg (4.4 lbs)</td>\n",
       "      <td>Fingerprint reader</td>\n",
       "    </tr>\n",
       "    <tr>\n",
       "      <th>1</th>\n",
       "      <td>Lenovo Legion 5i 15</td>\n",
       "      <td>Intel Core i7-12700H</td>\n",
       "      <td>NVIDIA GeForce RTX 3060 (Laptop, 130W)</td>\n",
       "      <td>15.6”, QHD (2560 x 1440), 165 Hz, IPS</td>\n",
       "      <td>2000GB SSD</td>\n",
       "      <td>0GB</td>\n",
       "      <td>$3049.99.None</td>\n",
       "      <td>64GB DDR5</td>\n",
       "      <td>Windows 11 Pro</td>\n",
       "      <td>358.8 x 262.35 x 19.99 - 24.05 mm (14.13\" x 10...</td>\n",
       "      <td>2.40 kg (5.3 lbs)</td>\n",
       "      <td>Fingerprint reader</td>\n",
       "    </tr>\n",
       "    <tr>\n",
       "      <th>2</th>\n",
       "      <td>Acer Nitro 5</td>\n",
       "      <td>Intel Core i7-12700H</td>\n",
       "      <td>NVIDIA GeForce RTX 3060 (Laptop, 140W)</td>\n",
       "      <td>15.6”, Full HD (1920 x 1080), 144 Hz, IPS</td>\n",
       "      <td>2000GB SSD</td>\n",
       "      <td>0GB</td>\n",
       "      <td>$1819.00.None</td>\n",
       "      <td>32GB DDR5</td>\n",
       "      <td>Windows 11 Home</td>\n",
       "      <td>360.4 x 271.1 x 25.9 - 26.9 mm (14.19\" x 10.67...</td>\n",
       "      <td>2.50 kg (5.5 lbs)</td>\n",
       "      <td>Fingerprint reader</td>\n",
       "    </tr>\n",
       "    <tr>\n",
       "      <th>3</th>\n",
       "      <td>Acer Predator Triton 500 SE</td>\n",
       "      <td>Intel Core i7-11800H</td>\n",
       "      <td>NVIDIA GeForce RTX 3060 (Laptop, 105W)</td>\n",
       "      <td>16.0\", WQXGA (2560 x 1600), 165 Hz, IPS</td>\n",
       "      <td>1000GB SSD</td>\n",
       "      <td>0GB</td>\n",
       "      <td>$2359.99.None</td>\n",
       "      <td>32GB DDR4</td>\n",
       "      <td>Windows 10 Pro</td>\n",
       "      <td>358.14 x 261.62 x 19.81 mm (14.10\" x 10.30\" x ...</td>\n",
       "      <td>2.44 kg (5.4 lbs)</td>\n",
       "      <td>Fingerprint reader</td>\n",
       "    </tr>\n",
       "    <tr>\n",
       "      <th>4</th>\n",
       "      <td>HP 15</td>\n",
       "      <td>Intel Core i5-1155G7</td>\n",
       "      <td>Intel Iris Xe Graphics G7 (80EU)</td>\n",
       "      <td>15.6”, HD (1366 x 768), TN</td>\n",
       "      <td>2000GB SSD</td>\n",
       "      <td>0GB</td>\n",
       "      <td>$1309.99.None</td>\n",
       "      <td>64GB DDR4</td>\n",
       "      <td>Windows 11 Home</td>\n",
       "      <td>358 x 242 x 17.9 mm (14.09\" x 9.53\" x 0.70\")</td>\n",
       "      <td>1.70 kg (3.7 lbs)</td>\n",
       "      <td>Web camera</td>\n",
       "    </tr>\n",
       "    <tr>\n",
       "      <th>5</th>\n",
       "      <td>Dell Inspiron 5425</td>\n",
       "      <td>AMD Ryzen 7 5825U</td>\n",
       "      <td>AMD Radeon RX Vega 8 (R4000/5000, 15W)</td>\n",
       "      <td>14.0\", FHD+ (1920 x 1200), IPS</td>\n",
       "      <td>1000GB SSD</td>\n",
       "      <td>0GB</td>\n",
       "      <td>$1099.99.None</td>\n",
       "      <td>16GB DDR4</td>\n",
       "      <td>Windows 11 Pro</td>\n",
       "      <td>314 x 227.50 x 15.70 - 18.37 mm (12.36\" x 8.96...</td>\n",
       "      <td>1.55 kg (3.4 lbs)</td>\n",
       "      <td>Fingerprint reader</td>\n",
       "    </tr>\n",
       "    <tr>\n",
       "      <th>6</th>\n",
       "      <td>Lenovo V15 Gen 2</td>\n",
       "      <td>Intel Core i7-1165G7</td>\n",
       "      <td>Intel Iris Xe Graphics G7 (96EU)</td>\n",
       "      <td>15.6”, Full HD (1920 x 1080), IPS</td>\n",
       "      <td>1000GB SSD</td>\n",
       "      <td>0GB</td>\n",
       "      <td>$719.99.None</td>\n",
       "      <td>16GB DDR4</td>\n",
       "      <td>Windows 11 Pro</td>\n",
       "      <td>359.2 x 235.8 x 19.9 mm (14.14\" x 9.28\" x 0.78\")</td>\n",
       "      <td>1.70 kg (3.7 lbs)</td>\n",
       "      <td>Fingerprint reader</td>\n",
       "    </tr>\n",
       "    <tr>\n",
       "      <th>7</th>\n",
       "      <td>HP EliteBook 840 G8</td>\n",
       "      <td>Intel Core i5-1135G7</td>\n",
       "      <td>Intel Iris Xe Graphics G7 (80EU)</td>\n",
       "      <td>14.0”, Full HD (1920 x 1080), IPS</td>\n",
       "      <td>1000GB SSD</td>\n",
       "      <td>0GB</td>\n",
       "      <td>$1789.00.None</td>\n",
       "      <td>64GB DDR4</td>\n",
       "      <td>Windows 11 Pro</td>\n",
       "      <td>323.3 x 214.6 x 17.9 mm (12.73\" x 8.45\" x 0.70\")</td>\n",
       "      <td>1.32 kg (2.9 lbs)</td>\n",
       "      <td>Fingerprint reader</td>\n",
       "    </tr>\n",
       "    <tr>\n",
       "      <th>8</th>\n",
       "      <td>HP ENVY x360 15</td>\n",
       "      <td>Intel Core i5-1135G7</td>\n",
       "      <td>Intel Iris Xe Graphics G7 (80EU)</td>\n",
       "      <td>15.6”, Full HD (1920 x 1080), IPS</td>\n",
       "      <td>8000GB SSD</td>\n",
       "      <td>0GB</td>\n",
       "      <td>$4649.00.None</td>\n",
       "      <td>64GB DDR4</td>\n",
       "      <td>Windows 10 Pro</td>\n",
       "      <td>358.9 x 228 x 18.4 mm (14.13\" x 8.98\" x 0.72\")</td>\n",
       "      <td>1.82 kg (4 lbs)</td>\n",
       "      <td>Fingerprint reader</td>\n",
       "    </tr>\n",
       "    <tr>\n",
       "      <th>9</th>\n",
       "      <td>HP 15</td>\n",
       "      <td>Intel Core i7-1260P</td>\n",
       "      <td>Intel Iris Xe Graphics G7 (96EU)</td>\n",
       "      <td>15.6”, Full HD (1920 x 1080), IPS</td>\n",
       "      <td>1000GB SSD</td>\n",
       "      <td>0GB</td>\n",
       "      <td>$989.00.None</td>\n",
       "      <td>32GB DDR4</td>\n",
       "      <td>Windows 11 Pro</td>\n",
       "      <td>358 x 242 x 17.9 mm (14.09\" x 9.53\" x 0.70\")</td>\n",
       "      <td>1.70 kg (3.7 lbs)</td>\n",
       "      <td>Fingerprint reader</td>\n",
       "    </tr>\n",
       "  </tbody>\n",
       "</table>\n",
       "</div>"
      ],
      "text/plain": [
       "                  Product Name             Processor   \n",
       "0            ASUS TUF Dash F15  Intel Core i7-12650H  \\\n",
       "1          Lenovo Legion 5i 15  Intel Core i7-12700H   \n",
       "2                 Acer Nitro 5  Intel Core i7-12700H   \n",
       "3  Acer Predator Triton 500 SE  Intel Core i7-11800H   \n",
       "4                        HP 15  Intel Core i5-1155G7   \n",
       "5           Dell Inspiron 5425     AMD Ryzen 7 5825U   \n",
       "6             Lenovo V15 Gen 2  Intel Core i7-1165G7   \n",
       "7          HP EliteBook 840 G8  Intel Core i5-1135G7   \n",
       "8              HP ENVY x360 15  Intel Core i5-1135G7   \n",
       "9                        HP 15   Intel Core i7-1260P   \n",
       "\n",
       "                               Video card   \n",
       "0  NVIDIA GeForce RTX 3070 (Laptop, 105W)  \\\n",
       "1  NVIDIA GeForce RTX 3060 (Laptop, 130W)   \n",
       "2  NVIDIA GeForce RTX 3060 (Laptop, 140W)   \n",
       "3  NVIDIA GeForce RTX 3060 (Laptop, 105W)   \n",
       "4        Intel Iris Xe Graphics G7 (80EU)   \n",
       "5  AMD Radeon RX Vega 8 (R4000/5000, 15W)   \n",
       "6        Intel Iris Xe Graphics G7 (96EU)   \n",
       "7        Intel Iris Xe Graphics G7 (80EU)   \n",
       "8        Intel Iris Xe Graphics G7 (80EU)   \n",
       "9        Intel Iris Xe Graphics G7 (96EU)   \n",
       "\n",
       "                                     Display Solid-state drive Hard drive   \n",
       "0  15.6”, Full HD (1920 x 1080), 144 Hz, IPS        2000GB SSD        0GB  \\\n",
       "1      15.6”, QHD (2560 x 1440), 165 Hz, IPS        2000GB SSD        0GB   \n",
       "2  15.6”, Full HD (1920 x 1080), 144 Hz, IPS        2000GB SSD        0GB   \n",
       "3    16.0\", WQXGA (2560 x 1600), 165 Hz, IPS        1000GB SSD        0GB   \n",
       "4                 15.6”, HD (1366 x 768), TN        2000GB SSD        0GB   \n",
       "5             14.0\", FHD+ (1920 x 1200), IPS        1000GB SSD        0GB   \n",
       "6          15.6”, Full HD (1920 x 1080), IPS        1000GB SSD        0GB   \n",
       "7          14.0”, Full HD (1920 x 1080), IPS        1000GB SSD        0GB   \n",
       "8          15.6”, Full HD (1920 x 1080), IPS        8000GB SSD        0GB   \n",
       "9          15.6”, Full HD (1920 x 1080), IPS        1000GB SSD        0GB   \n",
       "\n",
       "    Detail price        RAM               OS   \n",
       "0  $3629.00.None  64GB DDR5   Windows 11 Pro  \\\n",
       "1  $3049.99.None  64GB DDR5   Windows 11 Pro   \n",
       "2  $1819.00.None  32GB DDR5  Windows 11 Home   \n",
       "3  $2359.99.None  32GB DDR4   Windows 10 Pro   \n",
       "4  $1309.99.None  64GB DDR4  Windows 11 Home   \n",
       "5  $1099.99.None  16GB DDR4   Windows 11 Pro   \n",
       "6   $719.99.None  16GB DDR4   Windows 11 Pro   \n",
       "7  $1789.00.None  64GB DDR4   Windows 11 Pro   \n",
       "8  $4649.00.None  64GB DDR4   Windows 10 Pro   \n",
       "9   $989.00.None  32GB DDR4   Windows 11 Pro   \n",
       "\n",
       "                                          Dimensions              Weight   \n",
       "0  354 x 251 x 19.9 - 20.7 mm (13.94\" x 9.88\" x 0...  2.00 kg (4.4 lbs)   \\\n",
       "1  358.8 x 262.35 x 19.99 - 24.05 mm (14.13\" x 10...  2.40 kg (5.3 lbs)    \n",
       "2  360.4 x 271.1 x 25.9 - 26.9 mm (14.19\" x 10.67...  2.50 kg (5.5 lbs)    \n",
       "3  358.14 x 261.62 x 19.81 mm (14.10\" x 10.30\" x ...  2.44 kg (5.4 lbs)    \n",
       "4       358 x 242 x 17.9 mm (14.09\" x 9.53\" x 0.70\")  1.70 kg (3.7 lbs)    \n",
       "5  314 x 227.50 x 15.70 - 18.37 mm (12.36\" x 8.96...  1.55 kg (3.4 lbs)    \n",
       "6   359.2 x 235.8 x 19.9 mm (14.14\" x 9.28\" x 0.78\")  1.70 kg (3.7 lbs)    \n",
       "7   323.3 x 214.6 x 17.9 mm (12.73\" x 8.45\" x 0.70\")  1.32 kg (2.9 lbs)    \n",
       "8     358.9 x 228 x 18.4 mm (14.13\" x 8.98\" x 0.72\")    1.82 kg (4 lbs)    \n",
       "9       358 x 242 x 17.9 mm (14.09\" x 9.53\" x 0.70\")  1.70 kg (3.7 lbs)    \n",
       "\n",
       "             Features  \n",
       "0  Fingerprint reader  \n",
       "1  Fingerprint reader  \n",
       "2  Fingerprint reader  \n",
       "3  Fingerprint reader  \n",
       "4          Web camera  \n",
       "5  Fingerprint reader  \n",
       "6  Fingerprint reader  \n",
       "7  Fingerprint reader  \n",
       "8  Fingerprint reader  \n",
       "9  Fingerprint reader  "
      ]
     },
     "execution_count": 84,
     "metadata": {},
     "output_type": "execute_result"
    }
   ],
   "source": [
    "data.head(10)"
   ]
  },
  {
   "cell_type": "code",
   "execution_count": 85,
   "metadata": {},
   "outputs": [
    {
     "name": "stdout",
     "output_type": "stream",
     "text": [
      "<class 'pandas.core.frame.DataFrame'>\n",
      "RangeIndex: 10000 entries, 0 to 9999\n",
      "Data columns (total 12 columns):\n",
      " #   Column             Non-Null Count  Dtype \n",
      "---  ------             --------------  ----- \n",
      " 0   Product Name       10000 non-null  object\n",
      " 1   Processor          10000 non-null  object\n",
      " 2   Video card         10000 non-null  object\n",
      " 3   Display            9985 non-null   object\n",
      " 4   Solid-state drive  9866 non-null   object\n",
      " 5   Hard drive         10000 non-null  object\n",
      " 6   Detail price       9997 non-null   object\n",
      " 7   RAM                9998 non-null   object\n",
      " 8   OS                 9975 non-null   object\n",
      " 9   Dimensions         9950 non-null   object\n",
      " 10  Weight             9999 non-null   object\n",
      " 11  Features           9999 non-null   object\n",
      "dtypes: object(12)\n",
      "memory usage: 937.6+ KB\n"
     ]
    }
   ],
   "source": [
    "data.info()\n"
   ]
  },
  {
   "attachments": {},
   "cell_type": "markdown",
   "metadata": {
    "tags": []
   },
   "source": [
    "## 4. Gộp và chỉnh sửa lại dữ liệu (imputation, remove duplicates,...)\n"
   ]
  },
  {
   "attachments": {},
   "cell_type": "markdown",
   "metadata": {},
   "source": [
    "### 4.1 Gộp thông tin benchmark của CPU và GPU vào data\n"
   ]
  },
  {
   "cell_type": "code",
   "execution_count": 86,
   "metadata": {},
   "outputs": [],
   "source": [
    "data_cpu = pd.read_csv('raw\\cpuben.csv')\n",
    "data_gpu = pd.read_csv('raw\\gpuben.csv')\n"
   ]
  },
  {
   "cell_type": "code",
   "execution_count": 87,
   "metadata": {},
   "outputs": [],
   "source": [
    "# Merge CPU data\n",
    "data = pd.merge(data, data_cpu, left_on='Processor',\n",
    "                right_on='CPU', how='left')\n",
    "data.rename(columns={'Rank': 'Rank CPU'}, inplace=True)\n"
   ]
  },
  {
   "cell_type": "code",
   "execution_count": 88,
   "metadata": {},
   "outputs": [],
   "source": [
    "data = pd.merge(data, data_gpu, left_on='Video card',\n",
    "                right_on='GPU', how='left')\n",
    "data.rename(columns={'Rank': 'Rank GPU'}, inplace=True)\n"
   ]
  },
  {
   "cell_type": "code",
   "execution_count": 89,
   "metadata": {},
   "outputs": [
    {
     "data": {
      "text/html": [
       "<div>\n",
       "<style scoped>\n",
       "    .dataframe tbody tr th:only-of-type {\n",
       "        vertical-align: middle;\n",
       "    }\n",
       "\n",
       "    .dataframe tbody tr th {\n",
       "        vertical-align: top;\n",
       "    }\n",
       "\n",
       "    .dataframe thead th {\n",
       "        text-align: right;\n",
       "    }\n",
       "</style>\n",
       "<table border=\"1\" class=\"dataframe\">\n",
       "  <thead>\n",
       "    <tr style=\"text-align: right;\">\n",
       "      <th></th>\n",
       "      <th>Product Name</th>\n",
       "      <th>Processor</th>\n",
       "      <th>Video card</th>\n",
       "      <th>Display</th>\n",
       "      <th>Solid-state drive</th>\n",
       "      <th>Hard drive</th>\n",
       "      <th>Detail price</th>\n",
       "      <th>RAM</th>\n",
       "      <th>OS</th>\n",
       "      <th>Dimensions</th>\n",
       "      <th>Weight</th>\n",
       "      <th>Features</th>\n",
       "      <th>Rank CPU</th>\n",
       "      <th>CPU</th>\n",
       "      <th>Cinebench23</th>\n",
       "      <th>Rank GPU</th>\n",
       "      <th>GPU</th>\n",
       "      <th>3DMark Time Spy (G)</th>\n",
       "    </tr>\n",
       "  </thead>\n",
       "  <tbody>\n",
       "    <tr>\n",
       "      <th>0</th>\n",
       "      <td>ASUS TUF Dash F15</td>\n",
       "      <td>Intel Core i7-12650H</td>\n",
       "      <td>NVIDIA GeForce RTX 3070 (Laptop, 105W)</td>\n",
       "      <td>15.6”, Full HD (1920 x 1080), 144 Hz, IPS</td>\n",
       "      <td>2000GB SSD</td>\n",
       "      <td>0GB</td>\n",
       "      <td>$3629.00.None</td>\n",
       "      <td>64GB DDR5</td>\n",
       "      <td>Windows 11 Pro</td>\n",
       "      <td>354 x 251 x 19.9 - 20.7 mm (13.94\" x 9.88\" x 0...</td>\n",
       "      <td>2.00 kg (4.4 lbs)</td>\n",
       "      <td>Fingerprint reader</td>\n",
       "      <td>33.0</td>\n",
       "      <td>Intel Core i7-12650H</td>\n",
       "      <td>13001.0</td>\n",
       "      <td>NaN</td>\n",
       "      <td>NaN</td>\n",
       "      <td>NaN</td>\n",
       "    </tr>\n",
       "    <tr>\n",
       "      <th>1</th>\n",
       "      <td>Lenovo Legion 5i 15</td>\n",
       "      <td>Intel Core i7-12700H</td>\n",
       "      <td>NVIDIA GeForce RTX 3060 (Laptop, 130W)</td>\n",
       "      <td>15.6”, QHD (2560 x 1440), 165 Hz, IPS</td>\n",
       "      <td>2000GB SSD</td>\n",
       "      <td>0GB</td>\n",
       "      <td>$3049.99.None</td>\n",
       "      <td>64GB DDR5</td>\n",
       "      <td>Windows 11 Pro</td>\n",
       "      <td>358.8 x 262.35 x 19.99 - 24.05 mm (14.13\" x 10...</td>\n",
       "      <td>2.40 kg (5.3 lbs)</td>\n",
       "      <td>Fingerprint reader</td>\n",
       "      <td>17.0</td>\n",
       "      <td>Intel Core i7-12700H</td>\n",
       "      <td>15486.0</td>\n",
       "      <td>35.0</td>\n",
       "      <td>NVIDIA GeForce RTX 3060 (Laptop, 130W)</td>\n",
       "      <td>8841.0</td>\n",
       "    </tr>\n",
       "    <tr>\n",
       "      <th>2</th>\n",
       "      <td>Acer Nitro 5</td>\n",
       "      <td>Intel Core i7-12700H</td>\n",
       "      <td>NVIDIA GeForce RTX 3060 (Laptop, 140W)</td>\n",
       "      <td>15.6”, Full HD (1920 x 1080), 144 Hz, IPS</td>\n",
       "      <td>2000GB SSD</td>\n",
       "      <td>0GB</td>\n",
       "      <td>$1819.00.None</td>\n",
       "      <td>32GB DDR5</td>\n",
       "      <td>Windows 11 Home</td>\n",
       "      <td>360.4 x 271.1 x 25.9 - 26.9 mm (14.19\" x 10.67...</td>\n",
       "      <td>2.50 kg (5.5 lbs)</td>\n",
       "      <td>Fingerprint reader</td>\n",
       "      <td>17.0</td>\n",
       "      <td>Intel Core i7-12700H</td>\n",
       "      <td>15486.0</td>\n",
       "      <td>34.0</td>\n",
       "      <td>NVIDIA GeForce RTX 3060 (Laptop, 140W)</td>\n",
       "      <td>8864.0</td>\n",
       "    </tr>\n",
       "    <tr>\n",
       "      <th>3</th>\n",
       "      <td>Acer Predator Triton 500 SE</td>\n",
       "      <td>Intel Core i7-11800H</td>\n",
       "      <td>NVIDIA GeForce RTX 3060 (Laptop, 105W)</td>\n",
       "      <td>16.0\", WQXGA (2560 x 1600), 165 Hz, IPS</td>\n",
       "      <td>1000GB SSD</td>\n",
       "      <td>0GB</td>\n",
       "      <td>$2359.99.None</td>\n",
       "      <td>32GB DDR4</td>\n",
       "      <td>Windows 10 Pro</td>\n",
       "      <td>358.14 x 261.62 x 19.81 mm (14.10\" x 10.30\" x ...</td>\n",
       "      <td>2.44 kg (5.4 lbs)</td>\n",
       "      <td>Fingerprint reader</td>\n",
       "      <td>37.0</td>\n",
       "      <td>Intel Core i7-11800H</td>\n",
       "      <td>12390.0</td>\n",
       "      <td>39.0</td>\n",
       "      <td>NVIDIA GeForce RTX 3060 (Laptop, 105W)</td>\n",
       "      <td>8290.0</td>\n",
       "    </tr>\n",
       "    <tr>\n",
       "      <th>4</th>\n",
       "      <td>HP 15</td>\n",
       "      <td>Intel Core i5-1155G7</td>\n",
       "      <td>Intel Iris Xe Graphics G7 (80EU)</td>\n",
       "      <td>15.6”, HD (1366 x 768), TN</td>\n",
       "      <td>2000GB SSD</td>\n",
       "      <td>0GB</td>\n",
       "      <td>$1309.99.None</td>\n",
       "      <td>64GB DDR4</td>\n",
       "      <td>Windows 11 Home</td>\n",
       "      <td>358 x 242 x 17.9 mm (14.09\" x 9.53\" x 0.70\")</td>\n",
       "      <td>1.70 kg (3.7 lbs)</td>\n",
       "      <td>Web camera</td>\n",
       "      <td>NaN</td>\n",
       "      <td>NaN</td>\n",
       "      <td>NaN</td>\n",
       "      <td>115.0</td>\n",
       "      <td>Intel Iris Xe Graphics G7 (80EU)</td>\n",
       "      <td>1097.0</td>\n",
       "    </tr>\n",
       "  </tbody>\n",
       "</table>\n",
       "</div>"
      ],
      "text/plain": [
       "                  Product Name             Processor   \n",
       "0            ASUS TUF Dash F15  Intel Core i7-12650H  \\\n",
       "1          Lenovo Legion 5i 15  Intel Core i7-12700H   \n",
       "2                 Acer Nitro 5  Intel Core i7-12700H   \n",
       "3  Acer Predator Triton 500 SE  Intel Core i7-11800H   \n",
       "4                        HP 15  Intel Core i5-1155G7   \n",
       "\n",
       "                               Video card   \n",
       "0  NVIDIA GeForce RTX 3070 (Laptop, 105W)  \\\n",
       "1  NVIDIA GeForce RTX 3060 (Laptop, 130W)   \n",
       "2  NVIDIA GeForce RTX 3060 (Laptop, 140W)   \n",
       "3  NVIDIA GeForce RTX 3060 (Laptop, 105W)   \n",
       "4        Intel Iris Xe Graphics G7 (80EU)   \n",
       "\n",
       "                                     Display Solid-state drive Hard drive   \n",
       "0  15.6”, Full HD (1920 x 1080), 144 Hz, IPS        2000GB SSD        0GB  \\\n",
       "1      15.6”, QHD (2560 x 1440), 165 Hz, IPS        2000GB SSD        0GB   \n",
       "2  15.6”, Full HD (1920 x 1080), 144 Hz, IPS        2000GB SSD        0GB   \n",
       "3    16.0\", WQXGA (2560 x 1600), 165 Hz, IPS        1000GB SSD        0GB   \n",
       "4                 15.6”, HD (1366 x 768), TN        2000GB SSD        0GB   \n",
       "\n",
       "    Detail price        RAM               OS   \n",
       "0  $3629.00.None  64GB DDR5   Windows 11 Pro  \\\n",
       "1  $3049.99.None  64GB DDR5   Windows 11 Pro   \n",
       "2  $1819.00.None  32GB DDR5  Windows 11 Home   \n",
       "3  $2359.99.None  32GB DDR4   Windows 10 Pro   \n",
       "4  $1309.99.None  64GB DDR4  Windows 11 Home   \n",
       "\n",
       "                                          Dimensions              Weight   \n",
       "0  354 x 251 x 19.9 - 20.7 mm (13.94\" x 9.88\" x 0...  2.00 kg (4.4 lbs)   \\\n",
       "1  358.8 x 262.35 x 19.99 - 24.05 mm (14.13\" x 10...  2.40 kg (5.3 lbs)    \n",
       "2  360.4 x 271.1 x 25.9 - 26.9 mm (14.19\" x 10.67...  2.50 kg (5.5 lbs)    \n",
       "3  358.14 x 261.62 x 19.81 mm (14.10\" x 10.30\" x ...  2.44 kg (5.4 lbs)    \n",
       "4       358 x 242 x 17.9 mm (14.09\" x 9.53\" x 0.70\")  1.70 kg (3.7 lbs)    \n",
       "\n",
       "             Features  Rank CPU                   CPU  Cinebench23  Rank GPU   \n",
       "0  Fingerprint reader      33.0  Intel Core i7-12650H      13001.0       NaN  \\\n",
       "1  Fingerprint reader      17.0  Intel Core i7-12700H      15486.0      35.0   \n",
       "2  Fingerprint reader      17.0  Intel Core i7-12700H      15486.0      34.0   \n",
       "3  Fingerprint reader      37.0  Intel Core i7-11800H      12390.0      39.0   \n",
       "4          Web camera       NaN                   NaN          NaN     115.0   \n",
       "\n",
       "                                      GPU  3DMark Time Spy (G)  \n",
       "0                                     NaN                  NaN  \n",
       "1  NVIDIA GeForce RTX 3060 (Laptop, 130W)               8841.0  \n",
       "2  NVIDIA GeForce RTX 3060 (Laptop, 140W)               8864.0  \n",
       "3  NVIDIA GeForce RTX 3060 (Laptop, 105W)               8290.0  \n",
       "4        Intel Iris Xe Graphics G7 (80EU)               1097.0  "
      ]
     },
     "execution_count": 89,
     "metadata": {},
     "output_type": "execute_result"
    }
   ],
   "source": [
    "data.head()\n"
   ]
  },
  {
   "attachments": {},
   "cell_type": "markdown",
   "metadata": {},
   "source": [
    "Chúng ta có thể thấy rằng có một số CPU và GPU trong data không có dữ liệu benchmark. Vì vậy, chúng ta sẽ loại bỏ cột Processor và Video card để đảm bảo việc xóa dữ liệu trống về sau.\n"
   ]
  },
  {
   "cell_type": "code",
   "execution_count": 90,
   "metadata": {},
   "outputs": [],
   "source": [
    "# Delete Processor and Video card columns\n",
    "data = data.drop(columns=['Processor', 'Video card'])\n"
   ]
  },
  {
   "cell_type": "code",
   "execution_count": 91,
   "metadata": {},
   "outputs": [
    {
     "data": {
      "text/html": [
       "<div>\n",
       "<style scoped>\n",
       "    .dataframe tbody tr th:only-of-type {\n",
       "        vertical-align: middle;\n",
       "    }\n",
       "\n",
       "    .dataframe tbody tr th {\n",
       "        vertical-align: top;\n",
       "    }\n",
       "\n",
       "    .dataframe thead th {\n",
       "        text-align: right;\n",
       "    }\n",
       "</style>\n",
       "<table border=\"1\" class=\"dataframe\">\n",
       "  <thead>\n",
       "    <tr style=\"text-align: right;\">\n",
       "      <th></th>\n",
       "      <th>Product Name</th>\n",
       "      <th>Display</th>\n",
       "      <th>Solid-state drive</th>\n",
       "      <th>Hard drive</th>\n",
       "      <th>Detail price</th>\n",
       "      <th>RAM</th>\n",
       "      <th>OS</th>\n",
       "      <th>Dimensions</th>\n",
       "      <th>Weight</th>\n",
       "      <th>Features</th>\n",
       "      <th>Rank CPU</th>\n",
       "      <th>CPU</th>\n",
       "      <th>Cinebench23</th>\n",
       "      <th>Rank GPU</th>\n",
       "      <th>GPU</th>\n",
       "      <th>3DMark Time Spy (G)</th>\n",
       "    </tr>\n",
       "  </thead>\n",
       "  <tbody>\n",
       "    <tr>\n",
       "      <th>0</th>\n",
       "      <td>ASUS TUF Dash F15</td>\n",
       "      <td>15.6”, Full HD (1920 x 1080), 144 Hz, IPS</td>\n",
       "      <td>2000GB SSD</td>\n",
       "      <td>0GB</td>\n",
       "      <td>$3629.00.None</td>\n",
       "      <td>64GB DDR5</td>\n",
       "      <td>Windows 11 Pro</td>\n",
       "      <td>354 x 251 x 19.9 - 20.7 mm (13.94\" x 9.88\" x 0...</td>\n",
       "      <td>2.00 kg (4.4 lbs)</td>\n",
       "      <td>Fingerprint reader</td>\n",
       "      <td>33.0</td>\n",
       "      <td>Intel Core i7-12650H</td>\n",
       "      <td>13001.0</td>\n",
       "      <td>NaN</td>\n",
       "      <td>NaN</td>\n",
       "      <td>NaN</td>\n",
       "    </tr>\n",
       "    <tr>\n",
       "      <th>1</th>\n",
       "      <td>Lenovo Legion 5i 15</td>\n",
       "      <td>15.6”, QHD (2560 x 1440), 165 Hz, IPS</td>\n",
       "      <td>2000GB SSD</td>\n",
       "      <td>0GB</td>\n",
       "      <td>$3049.99.None</td>\n",
       "      <td>64GB DDR5</td>\n",
       "      <td>Windows 11 Pro</td>\n",
       "      <td>358.8 x 262.35 x 19.99 - 24.05 mm (14.13\" x 10...</td>\n",
       "      <td>2.40 kg (5.3 lbs)</td>\n",
       "      <td>Fingerprint reader</td>\n",
       "      <td>17.0</td>\n",
       "      <td>Intel Core i7-12700H</td>\n",
       "      <td>15486.0</td>\n",
       "      <td>35.0</td>\n",
       "      <td>NVIDIA GeForce RTX 3060 (Laptop, 130W)</td>\n",
       "      <td>8841.0</td>\n",
       "    </tr>\n",
       "    <tr>\n",
       "      <th>2</th>\n",
       "      <td>Acer Nitro 5</td>\n",
       "      <td>15.6”, Full HD (1920 x 1080), 144 Hz, IPS</td>\n",
       "      <td>2000GB SSD</td>\n",
       "      <td>0GB</td>\n",
       "      <td>$1819.00.None</td>\n",
       "      <td>32GB DDR5</td>\n",
       "      <td>Windows 11 Home</td>\n",
       "      <td>360.4 x 271.1 x 25.9 - 26.9 mm (14.19\" x 10.67...</td>\n",
       "      <td>2.50 kg (5.5 lbs)</td>\n",
       "      <td>Fingerprint reader</td>\n",
       "      <td>17.0</td>\n",
       "      <td>Intel Core i7-12700H</td>\n",
       "      <td>15486.0</td>\n",
       "      <td>34.0</td>\n",
       "      <td>NVIDIA GeForce RTX 3060 (Laptop, 140W)</td>\n",
       "      <td>8864.0</td>\n",
       "    </tr>\n",
       "    <tr>\n",
       "      <th>3</th>\n",
       "      <td>Acer Predator Triton 500 SE</td>\n",
       "      <td>16.0\", WQXGA (2560 x 1600), 165 Hz, IPS</td>\n",
       "      <td>1000GB SSD</td>\n",
       "      <td>0GB</td>\n",
       "      <td>$2359.99.None</td>\n",
       "      <td>32GB DDR4</td>\n",
       "      <td>Windows 10 Pro</td>\n",
       "      <td>358.14 x 261.62 x 19.81 mm (14.10\" x 10.30\" x ...</td>\n",
       "      <td>2.44 kg (5.4 lbs)</td>\n",
       "      <td>Fingerprint reader</td>\n",
       "      <td>37.0</td>\n",
       "      <td>Intel Core i7-11800H</td>\n",
       "      <td>12390.0</td>\n",
       "      <td>39.0</td>\n",
       "      <td>NVIDIA GeForce RTX 3060 (Laptop, 105W)</td>\n",
       "      <td>8290.0</td>\n",
       "    </tr>\n",
       "    <tr>\n",
       "      <th>4</th>\n",
       "      <td>HP 15</td>\n",
       "      <td>15.6”, HD (1366 x 768), TN</td>\n",
       "      <td>2000GB SSD</td>\n",
       "      <td>0GB</td>\n",
       "      <td>$1309.99.None</td>\n",
       "      <td>64GB DDR4</td>\n",
       "      <td>Windows 11 Home</td>\n",
       "      <td>358 x 242 x 17.9 mm (14.09\" x 9.53\" x 0.70\")</td>\n",
       "      <td>1.70 kg (3.7 lbs)</td>\n",
       "      <td>Web camera</td>\n",
       "      <td>NaN</td>\n",
       "      <td>NaN</td>\n",
       "      <td>NaN</td>\n",
       "      <td>115.0</td>\n",
       "      <td>Intel Iris Xe Graphics G7 (80EU)</td>\n",
       "      <td>1097.0</td>\n",
       "    </tr>\n",
       "  </tbody>\n",
       "</table>\n",
       "</div>"
      ],
      "text/plain": [
       "                  Product Name                                    Display   \n",
       "0            ASUS TUF Dash F15  15.6”, Full HD (1920 x 1080), 144 Hz, IPS  \\\n",
       "1          Lenovo Legion 5i 15      15.6”, QHD (2560 x 1440), 165 Hz, IPS   \n",
       "2                 Acer Nitro 5  15.6”, Full HD (1920 x 1080), 144 Hz, IPS   \n",
       "3  Acer Predator Triton 500 SE    16.0\", WQXGA (2560 x 1600), 165 Hz, IPS   \n",
       "4                        HP 15                 15.6”, HD (1366 x 768), TN   \n",
       "\n",
       "  Solid-state drive Hard drive   Detail price        RAM               OS   \n",
       "0        2000GB SSD        0GB  $3629.00.None  64GB DDR5   Windows 11 Pro  \\\n",
       "1        2000GB SSD        0GB  $3049.99.None  64GB DDR5   Windows 11 Pro   \n",
       "2        2000GB SSD        0GB  $1819.00.None  32GB DDR5  Windows 11 Home   \n",
       "3        1000GB SSD        0GB  $2359.99.None  32GB DDR4   Windows 10 Pro   \n",
       "4        2000GB SSD        0GB  $1309.99.None  64GB DDR4  Windows 11 Home   \n",
       "\n",
       "                                          Dimensions              Weight   \n",
       "0  354 x 251 x 19.9 - 20.7 mm (13.94\" x 9.88\" x 0...  2.00 kg (4.4 lbs)   \\\n",
       "1  358.8 x 262.35 x 19.99 - 24.05 mm (14.13\" x 10...  2.40 kg (5.3 lbs)    \n",
       "2  360.4 x 271.1 x 25.9 - 26.9 mm (14.19\" x 10.67...  2.50 kg (5.5 lbs)    \n",
       "3  358.14 x 261.62 x 19.81 mm (14.10\" x 10.30\" x ...  2.44 kg (5.4 lbs)    \n",
       "4       358 x 242 x 17.9 mm (14.09\" x 9.53\" x 0.70\")  1.70 kg (3.7 lbs)    \n",
       "\n",
       "             Features  Rank CPU                   CPU  Cinebench23  Rank GPU   \n",
       "0  Fingerprint reader      33.0  Intel Core i7-12650H      13001.0       NaN  \\\n",
       "1  Fingerprint reader      17.0  Intel Core i7-12700H      15486.0      35.0   \n",
       "2  Fingerprint reader      17.0  Intel Core i7-12700H      15486.0      34.0   \n",
       "3  Fingerprint reader      37.0  Intel Core i7-11800H      12390.0      39.0   \n",
       "4          Web camera       NaN                   NaN          NaN     115.0   \n",
       "\n",
       "                                      GPU  3DMark Time Spy (G)  \n",
       "0                                     NaN                  NaN  \n",
       "1  NVIDIA GeForce RTX 3060 (Laptop, 130W)               8841.0  \n",
       "2  NVIDIA GeForce RTX 3060 (Laptop, 140W)               8864.0  \n",
       "3  NVIDIA GeForce RTX 3060 (Laptop, 105W)               8290.0  \n",
       "4        Intel Iris Xe Graphics G7 (80EU)               1097.0  "
      ]
     },
     "execution_count": 91,
     "metadata": {},
     "output_type": "execute_result"
    }
   ],
   "source": [
    "data.head()\n"
   ]
  },
  {
   "attachments": {},
   "cell_type": "markdown",
   "metadata": {},
   "source": [
    "### 4.2 Xóa dữ liệu trống và trùng lặp\n"
   ]
  },
  {
   "cell_type": "code",
   "execution_count": 92,
   "metadata": {},
   "outputs": [],
   "source": [
    "data.dropna(inplace=True)\n",
    "data.drop_duplicates(inplace=True)\n",
    "data = data.reset_index(drop=True)\n"
   ]
  },
  {
   "cell_type": "code",
   "execution_count": 93,
   "metadata": {},
   "outputs": [
    {
     "name": "stdout",
     "output_type": "stream",
     "text": [
      "<class 'pandas.core.frame.DataFrame'>\n",
      "RangeIndex: 7124 entries, 0 to 7123\n",
      "Data columns (total 16 columns):\n",
      " #   Column               Non-Null Count  Dtype  \n",
      "---  ------               --------------  -----  \n",
      " 0   Product Name         7124 non-null   object \n",
      " 1   Display              7124 non-null   object \n",
      " 2   Solid-state drive    7124 non-null   object \n",
      " 3   Hard drive           7124 non-null   object \n",
      " 4   Detail price         7124 non-null   object \n",
      " 5   RAM                  7124 non-null   object \n",
      " 6   OS                   7124 non-null   object \n",
      " 7   Dimensions           7124 non-null   object \n",
      " 8   Weight               7124 non-null   object \n",
      " 9   Features             7124 non-null   object \n",
      " 10  Rank CPU             7124 non-null   float64\n",
      " 11  CPU                  7124 non-null   object \n",
      " 12  Cinebench23          7124 non-null   float64\n",
      " 13  Rank GPU             7124 non-null   float64\n",
      " 14  GPU                  7124 non-null   object \n",
      " 15  3DMark Time Spy (G)  7124 non-null   float64\n",
      "dtypes: float64(4), object(12)\n",
      "memory usage: 890.6+ KB\n"
     ]
    }
   ],
   "source": [
    "data.info()\n"
   ]
  },
  {
   "cell_type": "code",
   "execution_count": 94,
   "metadata": {},
   "outputs": [
    {
     "data": {
      "text/html": [
       "<div>\n",
       "<style scoped>\n",
       "    .dataframe tbody tr th:only-of-type {\n",
       "        vertical-align: middle;\n",
       "    }\n",
       "\n",
       "    .dataframe tbody tr th {\n",
       "        vertical-align: top;\n",
       "    }\n",
       "\n",
       "    .dataframe thead th {\n",
       "        text-align: right;\n",
       "    }\n",
       "</style>\n",
       "<table border=\"1\" class=\"dataframe\">\n",
       "  <thead>\n",
       "    <tr style=\"text-align: right;\">\n",
       "      <th></th>\n",
       "      <th>Product Name</th>\n",
       "      <th>Display</th>\n",
       "      <th>Solid-state drive</th>\n",
       "      <th>Hard drive</th>\n",
       "      <th>Detail price</th>\n",
       "      <th>RAM</th>\n",
       "      <th>OS</th>\n",
       "      <th>Dimensions</th>\n",
       "      <th>Weight</th>\n",
       "      <th>Features</th>\n",
       "      <th>Rank CPU</th>\n",
       "      <th>CPU</th>\n",
       "      <th>Cinebench23</th>\n",
       "      <th>Rank GPU</th>\n",
       "      <th>GPU</th>\n",
       "      <th>3DMark Time Spy (G)</th>\n",
       "    </tr>\n",
       "  </thead>\n",
       "  <tbody>\n",
       "    <tr>\n",
       "      <th>0</th>\n",
       "      <td>Lenovo Legion 5i 15</td>\n",
       "      <td>15.6”, QHD (2560 x 1440), 165 Hz, IPS</td>\n",
       "      <td>2000GB SSD</td>\n",
       "      <td>0GB</td>\n",
       "      <td>$3049.99.None</td>\n",
       "      <td>64GB DDR5</td>\n",
       "      <td>Windows 11 Pro</td>\n",
       "      <td>358.8 x 262.35 x 19.99 - 24.05 mm (14.13\" x 10...</td>\n",
       "      <td>2.40 kg (5.3 lbs)</td>\n",
       "      <td>Fingerprint reader</td>\n",
       "      <td>17.0</td>\n",
       "      <td>Intel Core i7-12700H</td>\n",
       "      <td>15486.0</td>\n",
       "      <td>35.0</td>\n",
       "      <td>NVIDIA GeForce RTX 3060 (Laptop, 130W)</td>\n",
       "      <td>8841.0</td>\n",
       "    </tr>\n",
       "    <tr>\n",
       "      <th>1</th>\n",
       "      <td>Acer Nitro 5</td>\n",
       "      <td>15.6”, Full HD (1920 x 1080), 144 Hz, IPS</td>\n",
       "      <td>2000GB SSD</td>\n",
       "      <td>0GB</td>\n",
       "      <td>$1819.00.None</td>\n",
       "      <td>32GB DDR5</td>\n",
       "      <td>Windows 11 Home</td>\n",
       "      <td>360.4 x 271.1 x 25.9 - 26.9 mm (14.19\" x 10.67...</td>\n",
       "      <td>2.50 kg (5.5 lbs)</td>\n",
       "      <td>Fingerprint reader</td>\n",
       "      <td>17.0</td>\n",
       "      <td>Intel Core i7-12700H</td>\n",
       "      <td>15486.0</td>\n",
       "      <td>34.0</td>\n",
       "      <td>NVIDIA GeForce RTX 3060 (Laptop, 140W)</td>\n",
       "      <td>8864.0</td>\n",
       "    </tr>\n",
       "    <tr>\n",
       "      <th>2</th>\n",
       "      <td>Acer Predator Triton 500 SE</td>\n",
       "      <td>16.0\", WQXGA (2560 x 1600), 165 Hz, IPS</td>\n",
       "      <td>1000GB SSD</td>\n",
       "      <td>0GB</td>\n",
       "      <td>$2359.99.None</td>\n",
       "      <td>32GB DDR4</td>\n",
       "      <td>Windows 10 Pro</td>\n",
       "      <td>358.14 x 261.62 x 19.81 mm (14.10\" x 10.30\" x ...</td>\n",
       "      <td>2.44 kg (5.4 lbs)</td>\n",
       "      <td>Fingerprint reader</td>\n",
       "      <td>37.0</td>\n",
       "      <td>Intel Core i7-11800H</td>\n",
       "      <td>12390.0</td>\n",
       "      <td>39.0</td>\n",
       "      <td>NVIDIA GeForce RTX 3060 (Laptop, 105W)</td>\n",
       "      <td>8290.0</td>\n",
       "    </tr>\n",
       "    <tr>\n",
       "      <th>3</th>\n",
       "      <td>Dell Inspiron 5425</td>\n",
       "      <td>14.0\", FHD+ (1920 x 1200), IPS</td>\n",
       "      <td>1000GB SSD</td>\n",
       "      <td>0GB</td>\n",
       "      <td>$1099.99.None</td>\n",
       "      <td>16GB DDR4</td>\n",
       "      <td>Windows 11 Pro</td>\n",
       "      <td>314 x 227.50 x 15.70 - 18.37 mm (12.36\" x 8.96...</td>\n",
       "      <td>1.55 kg (3.4 lbs)</td>\n",
       "      <td>Fingerprint reader</td>\n",
       "      <td>52.0</td>\n",
       "      <td>AMD Ryzen 7 5825U</td>\n",
       "      <td>10523.0</td>\n",
       "      <td>114.0</td>\n",
       "      <td>AMD Radeon RX Vega 8 (R4000/5000, 15W)</td>\n",
       "      <td>1129.0</td>\n",
       "    </tr>\n",
       "    <tr>\n",
       "      <th>4</th>\n",
       "      <td>Lenovo V15 Gen 2</td>\n",
       "      <td>15.6”, Full HD (1920 x 1080), IPS</td>\n",
       "      <td>1000GB SSD</td>\n",
       "      <td>0GB</td>\n",
       "      <td>$719.99.None</td>\n",
       "      <td>16GB DDR4</td>\n",
       "      <td>Windows 11 Pro</td>\n",
       "      <td>359.2 x 235.8 x 19.9 mm (14.14\" x 9.28\" x 0.78\")</td>\n",
       "      <td>1.70 kg (3.7 lbs)</td>\n",
       "      <td>Fingerprint reader</td>\n",
       "      <td>99.0</td>\n",
       "      <td>Intel Core i7-1165G7</td>\n",
       "      <td>5125.0</td>\n",
       "      <td>107.0</td>\n",
       "      <td>Intel Iris Xe Graphics G7 (96EU)</td>\n",
       "      <td>1435.0</td>\n",
       "    </tr>\n",
       "  </tbody>\n",
       "</table>\n",
       "</div>"
      ],
      "text/plain": [
       "                  Product Name                                    Display   \n",
       "0          Lenovo Legion 5i 15      15.6”, QHD (2560 x 1440), 165 Hz, IPS  \\\n",
       "1                 Acer Nitro 5  15.6”, Full HD (1920 x 1080), 144 Hz, IPS   \n",
       "2  Acer Predator Triton 500 SE    16.0\", WQXGA (2560 x 1600), 165 Hz, IPS   \n",
       "3           Dell Inspiron 5425             14.0\", FHD+ (1920 x 1200), IPS   \n",
       "4             Lenovo V15 Gen 2          15.6”, Full HD (1920 x 1080), IPS   \n",
       "\n",
       "  Solid-state drive Hard drive   Detail price        RAM               OS   \n",
       "0        2000GB SSD        0GB  $3049.99.None  64GB DDR5   Windows 11 Pro  \\\n",
       "1        2000GB SSD        0GB  $1819.00.None  32GB DDR5  Windows 11 Home   \n",
       "2        1000GB SSD        0GB  $2359.99.None  32GB DDR4   Windows 10 Pro   \n",
       "3        1000GB SSD        0GB  $1099.99.None  16GB DDR4   Windows 11 Pro   \n",
       "4        1000GB SSD        0GB   $719.99.None  16GB DDR4   Windows 11 Pro   \n",
       "\n",
       "                                          Dimensions              Weight   \n",
       "0  358.8 x 262.35 x 19.99 - 24.05 mm (14.13\" x 10...  2.40 kg (5.3 lbs)   \\\n",
       "1  360.4 x 271.1 x 25.9 - 26.9 mm (14.19\" x 10.67...  2.50 kg (5.5 lbs)    \n",
       "2  358.14 x 261.62 x 19.81 mm (14.10\" x 10.30\" x ...  2.44 kg (5.4 lbs)    \n",
       "3  314 x 227.50 x 15.70 - 18.37 mm (12.36\" x 8.96...  1.55 kg (3.4 lbs)    \n",
       "4   359.2 x 235.8 x 19.9 mm (14.14\" x 9.28\" x 0.78\")  1.70 kg (3.7 lbs)    \n",
       "\n",
       "             Features  Rank CPU                   CPU  Cinebench23  Rank GPU   \n",
       "0  Fingerprint reader      17.0  Intel Core i7-12700H      15486.0      35.0  \\\n",
       "1  Fingerprint reader      17.0  Intel Core i7-12700H      15486.0      34.0   \n",
       "2  Fingerprint reader      37.0  Intel Core i7-11800H      12390.0      39.0   \n",
       "3  Fingerprint reader      52.0     AMD Ryzen 7 5825U      10523.0     114.0   \n",
       "4  Fingerprint reader      99.0  Intel Core i7-1165G7       5125.0     107.0   \n",
       "\n",
       "                                      GPU  3DMark Time Spy (G)  \n",
       "0  NVIDIA GeForce RTX 3060 (Laptop, 130W)               8841.0  \n",
       "1  NVIDIA GeForce RTX 3060 (Laptop, 140W)               8864.0  \n",
       "2  NVIDIA GeForce RTX 3060 (Laptop, 105W)               8290.0  \n",
       "3  AMD Radeon RX Vega 8 (R4000/5000, 15W)               1129.0  \n",
       "4        Intel Iris Xe Graphics G7 (96EU)               1435.0  "
      ]
     },
     "execution_count": 94,
     "metadata": {},
     "output_type": "execute_result"
    }
   ],
   "source": [
    "data.head()\n"
   ]
  },
  {
   "attachments": {},
   "cell_type": "markdown",
   "metadata": {},
   "source": [
    "### 4.3 Chỉnh sửa lại các cột dữ liệu\n"
   ]
  },
  {
   "cell_type": "code",
   "execution_count": 95,
   "metadata": {},
   "outputs": [],
   "source": [
    "# create new dataframe\n",
    "clean_df = pd.DataFrame()\n"
   ]
  },
  {
   "attachments": {},
   "cell_type": "markdown",
   "metadata": {},
   "source": [
    "#### 4.3.1 Chỉnh sửa thông tin giá"
   ]
  },
  {
   "attachments": {},
   "cell_type": "markdown",
   "metadata": {},
   "source": [
    "- **Price** : giá laptop (đơn vị: USD) là thông tin được sử dụng để dự đoán."
   ]
  },
  {
   "cell_type": "code",
   "execution_count": 96,
   "metadata": {},
   "outputs": [],
   "source": [
    "clean_df['price'] = data['Detail price'].str.extract(r'\\$(\\d+.\\d+)')\n",
    "clean_df['price'] = clean_df['price'].astype('float32')\n"
   ]
  },
  {
   "attachments": {},
   "cell_type": "markdown",
   "metadata": {},
   "source": [
    "#### 4.3.2 Chỉnh sửa thông tin hãng sản xuất"
   ]
  },
  {
   "attachments": {},
   "cell_type": "markdown",
   "metadata": {},
   "source": [
    "- **Brand** : Laptop brand\n",
    "- For example: The laptop with name 'ASUS TUF Dash F15' will have 'ASUS' brand.\n"
   ]
  },
  {
   "cell_type": "code",
   "execution_count": 97,
   "metadata": {},
   "outputs": [
    {
     "data": {
      "text/plain": [
       "array(['LENOVO', 'ACER', 'DELL', 'HP', 'ASUS', 'MSI', 'LG', 'MICROSOFT',\n",
       "       'AORUS', 'ALIENWARE', 'RAZER', 'PANASONIC', 'SAMSUNG', 'DYNABOOK',\n",
       "       'GIGABYTE', 'ENVY'], dtype=object)"
      ]
     },
     "execution_count": 97,
     "metadata": {},
     "output_type": "execute_result"
    }
   ],
   "source": [
    "clean_df['brand'] = data['Product Name'].str.upper().str.split().str[0]\n",
    "clean_df['brand'].unique()\n"
   ]
  },
  {
   "attachments": {},
   "cell_type": "markdown",
   "metadata": {},
   "source": [
    "#### 4.3.3 Chỉnh sửa thông tin RAM"
   ]
  },
  {
   "attachments": {},
   "cell_type": "markdown",
   "metadata": {},
   "source": [
    "- **RAM** : Laptop RAM\n",
    "- The ram will be in the form \\\\{ram}{some whitespace}GB so we use this regex r'(\\d+)\\s\\*GB' to extract it.\n"
   ]
  },
  {
   "cell_type": "code",
   "execution_count": 98,
   "metadata": {},
   "outputs": [
    {
     "data": {
      "text/plain": [
       "array([ 64.,  32.,  16.,  12.,   8.,  24.,  40.,   4.,  20.,  36.,  48.,\n",
       "       128.,  18.], dtype=float32)"
      ]
     },
     "execution_count": 98,
     "metadata": {},
     "output_type": "execute_result"
    }
   ],
   "source": [
    "clean_df['ram'] = data['RAM'].str.upper().str.extract(r'(\\d+)\\s*GB')\n",
    "clean_df['ram'] = clean_df['ram'].astype('float32')\n",
    "clean_df['ram'].unique()\n"
   ]
  },
  {
   "cell_type": "code",
   "execution_count": 99,
   "metadata": {},
   "outputs": [
    {
     "data": {
      "text/plain": [
       "array(['DDR5', 'DDR4', 'LPDDR4X', 'LPDDR5', 'RAM', 'LPDDR4', 'LPDDR3'],\n",
       "      dtype=object)"
      ]
     },
     "execution_count": 99,
     "metadata": {},
     "output_type": "execute_result"
    }
   ],
   "source": [
    "\n",
    "clean_df['ram_type'] = data['RAM'].str.upper().str.extract(r'(\\d+)\\s*GB')\n",
    "# get text after GB and before , (comma) or nothing\n",
    "clean_df['ram_type'] = data['RAM'].str.upper().str.extract(r'GB\\s*(\\w*)\\,?')\n",
    "# print numver of non-null value\n",
    "clean_df['ram_type'].unique()\n"
   ]
  },
  {
   "cell_type": "code",
   "execution_count": 100,
   "metadata": {},
   "outputs": [
    {
     "data": {
      "text/plain": [
       "ram_type\n",
       "DDR4       5513\n",
       "DDR5        912\n",
       "LPDDR5      338\n",
       "LPDDR4X     327\n",
       "LPDDR4       31\n",
       "LPDDR3        2\n",
       "RAM           1\n",
       "Name: count, dtype: int64"
      ]
     },
     "execution_count": 100,
     "metadata": {},
     "output_type": "execute_result"
    }
   ],
   "source": [
    "clean_df['ram_type'].value_counts()"
   ]
  },
  {
   "attachments": {},
   "cell_type": "markdown",
   "metadata": {},
   "source": [
    "Ta thấy không có loại ram nào có loại là RAM, điều này có thể vì dữ liệu cào không sạch, ta thấy số record có 'ram_type' là 'RAM' là 1. Vì vậy, ta sẽ xóa các record này."
   ]
  },
  {
   "cell_type": "code",
   "execution_count": 101,
   "metadata": {},
   "outputs": [],
   "source": [
    "# delete rows with ram_type is 'RAM'\n",
    "clean_df = clean_df[clean_df['ram_type'] != 'RAM']"
   ]
  },
  {
   "attachments": {},
   "cell_type": "markdown",
   "metadata": {},
   "source": [
    "#### 4.3.4 Chỉnh sửa thông tin về màn hình laptop"
   ]
  },
  {
   "attachments": {},
   "cell_type": "markdown",
   "metadata": {},
   "source": [
    "- **Display Resolution** : Laptop display resolution\n",
    "- Từ các dòng dữ liệu: \"15.6”, Full HD (1920 x 1080), 144 Hz, IPS\" trong cột 'Display' ta trích xuất ra thêm các thuộc tính: \n",
    "    - **'display_size'** : Kích thước màn hình laptop (inch)\n",
    "    - **'display_type'** : Loại màn hình laptop (HD, Full HD, 4K, OLED, ...)\n",
    "    - **'pixels'** : Độ phân giải màn hình laptop (pixels)\n",
    "    - **'screen_rate'** : Tần số làm tươi màn hình laptop (Hz)\n",
    "    - **'screen_panel'** : Loại panel màn hình laptop (IPS, TN, OLED, ...)\n"
   ]
  },
  {
   "cell_type": "code",
   "execution_count": 102,
   "metadata": {},
   "outputs": [],
   "source": [
    "# tìm kiếm kích thước màn hình\n",
    "clean_df['display_size'] = data['Display'].str.extract(r'^(\\d+\\.?\\d+)')\n",
    "clean_df['display_size'] = clean_df['display_size'].astype('float32')\n",
    "clean_df['display_type'] = data['Display'].str.extract(r'[,](.*?)[(]')\n",
    "clean_df['resolution'] = data['Display'].str.extract(r'\\((.*?)\\)')\n",
    "\n",
    "# create column  for resolution\n",
    "\n",
    "clean_df['pwidth'] = clean_df['resolution'].str.split('x').str[0]\n",
    "clean_df['pheight'] = clean_df['resolution'].str.split('x').str[1]\n",
    "# Convert the width and height columns to integers\n",
    "clean_df['pwidth'] = clean_df['pwidth'].astype(int)\n",
    "clean_df['pheight'] = clean_df['pheight'].astype(int)\n",
    "\n",
    "# Calculate the product of width and height to get the total number of pixels\n",
    "clean_df['pixels'] = clean_df['pwidth'] * clean_df['pheight']\n",
    "clean_df['pixels'] = clean_df['pixels'].astype('float32')\n",
    "\n",
    "# delete resolution column\n",
    "clean_df.drop(columns='resolution', inplace=True)\n",
    "clean_df.drop(columns=['pwidth', 'pheight'], inplace=True)\n",
    "\n",
    "clean_df['screen_rate'] = data['Display'].str.extract(r'[)][,](.*?)[H]')\n",
    "\n",
    "clean_df['screen_panel'] = data['Display'].str.split(',').str[-1]\n",
    "# remove space at the beginning and end of the string\n",
    "clean_df['screen_panel'] = clean_df['screen_panel'].str.strip()\n"
   ]
  },
  {
   "cell_type": "code",
   "execution_count": 103,
   "metadata": {},
   "outputs": [
    {
     "data": {
      "text/plain": [
       "screen_panel\n",
       "IPS                         5801\n",
       "TN                          1145\n",
       "OLED                         173\n",
       "PixelSense (2256 x 1504)       2\n",
       "Full HD (1920 x 1080)          2\n",
       "Name: count, dtype: int64"
      ]
     },
     "execution_count": 103,
     "metadata": {},
     "output_type": "execute_result"
    }
   ],
   "source": [
    "# print unique value of screen_panel\n",
    "clean_df['screen_panel'].value_counts()"
   ]
  },
  {
   "cell_type": "code",
   "execution_count": 104,
   "metadata": {},
   "outputs": [
    {
     "data": {
      "text/plain": [
       "array(['IPS', 'TN', 'OLED', 'PixelSense (2256 x 1504)',\n",
       "       'Full HD (1920 x 1080)'], dtype=object)"
      ]
     },
     "execution_count": 104,
     "metadata": {},
     "output_type": "execute_result"
    }
   ],
   "source": [
    "clean_df['screen_panel'].unique()"
   ]
  },
  {
   "cell_type": "code",
   "execution_count": 105,
   "metadata": {},
   "outputs": [],
   "source": [
    "# delete rows with screen_panel is 'PixelSense (2256 x 1504)'\n",
    "clean_df = clean_df[clean_df['screen_panel'] != 'PixelSense (2256 x 1504)']\n",
    "# delete rows with screen_panel is 'Full HD (1920 x 1080)'\n",
    "clean_df = clean_df[clean_df['screen_panel'] != 'Full HD (1920 x 1080)']\n"
   ]
  },
  {
   "attachments": {},
   "cell_type": "markdown",
   "metadata": {},
   "source": [
    "Ta thấy một số record PixelSense (2256 x 1504) Full HD (1920 x 1080) ở đây, có nghĩa là những dòng này trong dữ liệu gốc không có dữ liệu về tấm nên, do đó ta xóa các record này đi"
   ]
  },
  {
   "attachments": {},
   "cell_type": "markdown",
   "metadata": {},
   "source": [
    "Đối với tần số quét của laptop, thông thường mặc định các màn hình đều có tần số quét là 60Hz, nếu tần số quét cao hơn, các nhà sản xuất sẽ đưa thông tin tần số quét vào thông tin sản phẩm. Vì vậy, ta sẽ thay dữ liệu trống với tần số quét là 60Hz."
   ]
  },
  {
   "cell_type": "code",
   "execution_count": 106,
   "metadata": {},
   "outputs": [
    {
     "data": {
      "text/plain": [
       "array([165., 144.,  60., 240., 120., 300.,  90., 360.], dtype=float32)"
      ]
     },
     "execution_count": 106,
     "metadata": {},
     "output_type": "execute_result"
    }
   ],
   "source": [
    "# fill na in screen_rate by 0\n",
    "clean_df['screen_rate'].fillna('60', inplace=True)\n",
    "# trim space in screen_rate\n",
    "clean_df['screen_rate'] = clean_df['screen_rate'].str.strip()\n",
    "# convert screen_rate to float\n",
    "clean_df['screen_rate'] = clean_df['screen_rate'].astype('float32')\n",
    "clean_df['screen_rate'].unique()\n"
   ]
  },
  {
   "cell_type": "code",
   "execution_count": 107,
   "metadata": {},
   "outputs": [
    {
     "data": {
      "text/plain": [
       "array([' QHD ', ' Full HD ', ' WQXGA ', ' FHD+ ', ' HD+ ', ' HD ',\n",
       "       '  QHD ', ' WQHD ', ' WQUXGA ', ' QHD+ ', ' WUXGA ', ' 4K UHD ',\n",
       "       ' 2.5K ', ' 2.2K ', ' WQUXGA\\xa0', ' 2.8K ', ' FHD ',\n",
       "       ' PixelSense ', ' 3.5K ', ' UHD+ ', ' 3K ', ' 3K2K ', ' WQXGA\\xa0',\n",
       "       ' 2K ', ' 3.2K ', ' WUXGA+ ', ' WQHD+ ', ' 4K UHD+ '], dtype=object)"
      ]
     },
     "execution_count": 107,
     "metadata": {},
     "output_type": "execute_result"
    }
   ],
   "source": [
    "clean_df['display_type'].unique()"
   ]
  },
  {
   "attachments": {},
   "cell_type": "markdown",
   "metadata": {},
   "source": [
    "Chúng ta có thể thấy cột display_type chưa được loại bỏ khoảng trắng và ký tự đặc biệt. Vì vậy, chúng ta sẽ loại bỏ khoảng trắng và ký tự đặc biệt trong cột này. \\xa0 = space"
   ]
  },
  {
   "cell_type": "code",
   "execution_count": 108,
   "metadata": {},
   "outputs": [],
   "source": [
    "# trim space before and after string in display_type\n",
    "clean_df['display_type'] = clean_df['display_type'].str.strip()\n",
    "# change value 'Full HD' to 'FHD'\n",
    "clean_df['display_type'] = clean_df['display_type'].str.replace('Full HD', 'FHD')"
   ]
  },
  {
   "cell_type": "code",
   "execution_count": 109,
   "metadata": {},
   "outputs": [
    {
     "data": {
      "text/plain": [
       "array(['QHD', 'FHD', 'WQXGA', 'FHD+', 'HD+', 'HD', 'WQHD', 'WQUXGA',\n",
       "       'QHD+', 'WUXGA', '4K UHD', '2.5K', '2.2K', '2.8K', 'PixelSense',\n",
       "       '3.5K', 'UHD+', '3K', '3K2K', '2K', '3.2K', 'WUXGA+', 'WQHD+',\n",
       "       '4K UHD+'], dtype=object)"
      ]
     },
     "execution_count": 109,
     "metadata": {},
     "output_type": "execute_result"
    }
   ],
   "source": [
    "clean_df['display_type'].unique()"
   ]
  },
  {
   "attachments": {},
   "cell_type": "markdown",
   "metadata": {},
   "source": [
    "#### 4.3.5 Chỉnh sửa thông tin về kích thước laptop"
   ]
  },
  {
   "attachments": {},
   "cell_type": "markdown",
   "metadata": {},
   "source": [
    "- **Dimmension** : 358.9 x 228 x 18.4 mm -> kích thước của laptop bao gồm chiều dài, chiều rộng và độ dày (mm)\n"
   ]
  },
  {
   "cell_type": "code",
   "execution_count": 110,
   "metadata": {},
   "outputs": [],
   "source": [
    "dimention = data['Dimensions'].str.findall(r'(\\d+\\.?\\d+)')\n",
    "# clean_df['length'] the first number in dimention\n",
    "clean_df['length'] = dimention.str[0]\n",
    "# clean_df['width'] the second number in dimention\n",
    "clean_df['width'] = dimention.str[1]\n",
    "# clean_df['height'] the third number in dimention\n",
    "clean_df['height'] = dimention.str[2]\n"
   ]
  },
  {
   "cell_type": "code",
   "execution_count": 111,
   "metadata": {},
   "outputs": [],
   "source": [
    "# convert to float\n",
    "clean_df['length'] = clean_df['length'].astype('float32')\n",
    "clean_df['width'] = clean_df['width'].astype('float32')\n",
    "clean_df['height'] = clean_df['height'].astype('float32')\n"
   ]
  },
  {
   "attachments": {},
   "cell_type": "markdown",
   "metadata": {},
   "source": [
    "#### 4.3.6 Chỉnh sửa thông tin về hãng CPU và GPU"
   ]
  },
  {
   "attachments": {},
   "cell_type": "markdown",
   "metadata": {},
   "source": [
    "- **Processor** : CPU of laptop\n"
   ]
  },
  {
   "cell_type": "code",
   "execution_count": 112,
   "metadata": {},
   "outputs": [],
   "source": [
    "clean_df['cpu_brand'] = data['CPU'].str.split().str[0]\n"
   ]
  },
  {
   "cell_type": "code",
   "execution_count": 113,
   "metadata": {},
   "outputs": [
    {
     "data": {
      "text/plain": [
       "array(['Intel', 'AMD', 'Snapdragon'], dtype=object)"
      ]
     },
     "execution_count": 113,
     "metadata": {},
     "output_type": "execute_result"
    }
   ],
   "source": [
    "clean_df['cpu_brand'].unique()\n"
   ]
  },
  {
   "attachments": {},
   "cell_type": "markdown",
   "metadata": {},
   "source": [
    "- **GPU** : Laptop graphic card\n"
   ]
  },
  {
   "cell_type": "code",
   "execution_count": 114,
   "metadata": {},
   "outputs": [],
   "source": [
    "clean_df['gpu_brand'] = data['GPU'].str.upper().str.split().str[0]\n"
   ]
  },
  {
   "cell_type": "code",
   "execution_count": 115,
   "metadata": {},
   "outputs": [
    {
     "data": {
      "text/plain": [
       "array(['NVIDIA', 'AMD', 'INTEL', 'QUALCOMM'], dtype=object)"
      ]
     },
     "execution_count": 115,
     "metadata": {},
     "output_type": "execute_result"
    }
   ],
   "source": [
    "clean_df['gpu_brand'].unique()\n"
   ]
  },
  {
   "attachments": {},
   "cell_type": "markdown",
   "metadata": {},
   "source": [
    "#### 4.3.7 Chỉnh sửa thông tin về bộ nhớ trong SSD và HDD"
   ]
  },
  {
   "attachments": {},
   "cell_type": "markdown",
   "metadata": {},
   "source": [
    "- **Bộ nhớ trong HDD**\n"
   ]
  },
  {
   "cell_type": "code",
   "execution_count": 116,
   "metadata": {},
   "outputs": [
    {
     "data": {
      "text/plain": [
       "array([   0., 1000., 2000.,  500.], dtype=float32)"
      ]
     },
     "execution_count": 116,
     "metadata": {},
     "output_type": "execute_result"
    }
   ],
   "source": [
    "# get the number before GB in data['Hard drive']\n",
    "clean_df['hdd'] = data['Hard drive'].str.extract(r'(\\d+)\\s*GB')\n",
    "clean_df['hdd'] = clean_df['hdd'].astype('float32')\n",
    "clean_df['hdd'].unique()\n"
   ]
  },
  {
   "attachments": {},
   "cell_type": "markdown",
   "metadata": {},
   "source": [
    "- **Bộ nhớ trong SSD**\n"
   ]
  },
  {
   "cell_type": "code",
   "execution_count": 117,
   "metadata": {},
   "outputs": [
    {
     "data": {
      "text/plain": [
       "array([ 2000.,  1000.,  8000.,  4000.,   512.,   256.,   128.,    64.,\n",
       "         516.,    32.,  7600.,  3000.,   120.,   250., 16000.,    16.],\n",
       "      dtype=float32)"
      ]
     },
     "execution_count": 117,
     "metadata": {},
     "output_type": "execute_result"
    }
   ],
   "source": [
    "clean_df['ssd'] = data['Solid-state drive'].str.extract(r'(\\d+)\\s*GB')\n",
    "clean_df['ssd'] = clean_df['ssd'].astype('float32')\n",
    "clean_df['ssd'].unique()\n"
   ]
  },
  {
   "attachments": {},
   "cell_type": "markdown",
   "metadata": {},
   "source": [
    "#### 4.3.8 Chỉnh sửa thông tin về hệ điều hành"
   ]
  },
  {
   "attachments": {},
   "cell_type": "markdown",
   "metadata": {},
   "source": [
    "- **OS**\n"
   ]
  },
  {
   "cell_type": "code",
   "execution_count": 118,
   "metadata": {},
   "outputs": [],
   "source": [
    "clean_df['OS'] = data['OS'].str.extract(\n",
    "    r'(Windows|Linux|No OS|Mac OS|Chrome OS)')\n"
   ]
  },
  {
   "attachments": {},
   "cell_type": "markdown",
   "metadata": {},
   "source": [
    "#### 4.3.9 Chỉnh sửa thông tin về cân nặng laptop"
   ]
  },
  {
   "attachments": {},
   "cell_type": "markdown",
   "metadata": {},
   "source": [
    "- **Weights**\n"
   ]
  },
  {
   "cell_type": "code",
   "execution_count": 119,
   "metadata": {},
   "outputs": [],
   "source": [
    "clean_df['weight'] = data['Weight'].str.extract(r'^(\\d+\\.?\\d+)')\n",
    "clean_df['weight'] = clean_df['weight'].astype('float32')\n"
   ]
  },
  {
   "attachments": {},
   "cell_type": "markdown",
   "metadata": {},
   "source": [
    "#### 4.3.10 Chỉnh sửa thông tin về xếp hạng và điểm hiệu năng của CPU và GPU"
   ]
  },
  {
   "attachments": {},
   "cell_type": "markdown",
   "metadata": {},
   "source": [
    "- CPU/ GPU benchmark\n"
   ]
  },
  {
   "cell_type": "code",
   "execution_count": 120,
   "metadata": {},
   "outputs": [],
   "source": [
    "clean_df['cpu_point'] = data['Cinebench23']\n",
    "clean_df['gpu_point'] = data['3DMark Time Spy (G)']\n",
    "\n",
    "# convert to float\n",
    "clean_df['cpu_point'] = clean_df['cpu_point'].astype('float32')\n",
    "clean_df['gpu_point'] = clean_df['gpu_point'].astype('float32')\n"
   ]
  },
  {
   "attachments": {},
   "cell_type": "markdown",
   "metadata": {},
   "source": [
    "#### 4.3.11 Chỉnh sửa thông tin về các chức năng khác của laptop"
   ]
  },
  {
   "attachments": {},
   "cell_type": "markdown",
   "metadata": {},
   "source": [
    "- **Features**\n"
   ]
  },
  {
   "cell_type": "code",
   "execution_count": 121,
   "metadata": {},
   "outputs": [],
   "source": [
    "clean_df['features'] = data['Features']\n"
   ]
  },
  {
   "cell_type": "code",
   "execution_count": 122,
   "metadata": {},
   "outputs": [
    {
     "data": {
      "text/plain": [
       "array(['Fingerprint reader', 'Web camera', 'Backlit keyboard',\n",
       "       'Microphone'], dtype=object)"
      ]
     },
     "execution_count": 122,
     "metadata": {},
     "output_type": "execute_result"
    }
   ],
   "source": [
    "clean_df['features'].unique()\n"
   ]
  },
  {
   "cell_type": "code",
   "execution_count": 123,
   "metadata": {},
   "outputs": [],
   "source": [
    "# check data['Features'] have 'Fingerprint reader' or not, if yes let value = 1, else 0\n",
    "clean_df['fingerprint_reader'] = data['Features'].str.contains(\n",
    "    'Fingerprint reader')\n",
    "clean_df['web_camera'] = data['Features'].str.contains('Web camera')\n",
    "clean_df['backlit_keyboard'] = data['Features'].str.contains(\n",
    "    'Backlit keyboard')\n",
    "clean_df['microphone'] = data['Features'].str.contains('Microphone')\n"
   ]
  },
  {
   "cell_type": "code",
   "execution_count": 124,
   "metadata": {},
   "outputs": [
    {
     "data": {
      "text/plain": [
       "microphone\n",
       "False    7114\n",
       "True        5\n",
       "Name: count, dtype: int64"
      ]
     },
     "execution_count": 124,
     "metadata": {},
     "output_type": "execute_result"
    }
   ],
   "source": [
    "clean_df['microphone'].value_counts()\n"
   ]
  },
  {
   "cell_type": "code",
   "execution_count": 125,
   "metadata": {},
   "outputs": [
    {
     "data": {
      "text/plain": [
       "backlit_keyboard\n",
       "False    7113\n",
       "True        6\n",
       "Name: count, dtype: int64"
      ]
     },
     "execution_count": 125,
     "metadata": {},
     "output_type": "execute_result"
    }
   ],
   "source": [
    "clean_df['backlit_keyboard'].value_counts()\n"
   ]
  },
  {
   "cell_type": "code",
   "execution_count": 126,
   "metadata": {},
   "outputs": [
    {
     "data": {
      "text/plain": [
       "web_camera\n",
       "False    5643\n",
       "True     1476\n",
       "Name: count, dtype: int64"
      ]
     },
     "execution_count": 126,
     "metadata": {},
     "output_type": "execute_result"
    }
   ],
   "source": [
    "clean_df['web_camera'].value_counts()\n"
   ]
  },
  {
   "cell_type": "code",
   "execution_count": 127,
   "metadata": {},
   "outputs": [
    {
     "data": {
      "text/plain": [
       "fingerprint_reader\n",
       "True     5632\n",
       "False    1487\n",
       "Name: count, dtype: int64"
      ]
     },
     "execution_count": 127,
     "metadata": {},
     "output_type": "execute_result"
    }
   ],
   "source": [
    "clean_df['fingerprint_reader'].value_counts()\n"
   ]
  },
  {
   "attachments": {},
   "cell_type": "markdown",
   "metadata": {},
   "source": [
    "Vì dữ liệu của cột 'microphone' và 'keyboard_backlight' quá mất cân bằng. Lí do có thể vì lỗi khi cào dữ liệu hoặc website không hiển thị đầy đủ. Do đó, chúng ta sẽ xóa 2 cột này.\n"
   ]
  },
  {
   "cell_type": "code",
   "execution_count": 128,
   "metadata": {},
   "outputs": [],
   "source": [
    "clean_df.drop(columns='microphone', inplace=True)\n",
    "clean_df.drop(columns='backlit_keyboard', inplace=True)\n",
    "# delete features column\n",
    "clean_df.drop(columns='features', inplace=True)\n"
   ]
  },
  {
   "attachments": {},
   "cell_type": "markdown",
   "metadata": {},
   "source": [
    "Thay dữ liệu bool bằng 0 và 1"
   ]
  },
  {
   "cell_type": "code",
   "execution_count": 129,
   "metadata": {},
   "outputs": [],
   "source": [
    "clean_df['fingerprint_reader'] = clean_df['fingerprint_reader'].replace([False, True], [0, 1])\n",
    "clean_df['web_camera'] = clean_df['web_camera'].replace([False, True], [0, 1])\n",
    "# convert to float\n",
    "clean_df['fingerprint_reader'] = clean_df['fingerprint_reader'].astype('float32')\n",
    "clean_df['web_camera'] = clean_df['web_camera'].astype('float32')"
   ]
  },
  {
   "attachments": {},
   "cell_type": "markdown",
   "metadata": {},
   "source": [
    "#### 4.3.12 Chỉnh sửa các cột dữ liệu dạng string thành uppercase"
   ]
  },
  {
   "cell_type": "code",
   "execution_count": 130,
   "metadata": {},
   "outputs": [],
   "source": [
    "# conver brand, ram_type, display_type, screen_panel, cpu_brand, gpu_brand, OS to uppercase\n",
    "clean_df['brand'] = clean_df['brand'].str.upper()\n",
    "clean_df['ram_type'] = clean_df['ram_type'].str.upper()\n",
    "clean_df['display_type'] = clean_df['display_type'].str.upper()\n",
    "clean_df['screen_panel'] = clean_df['screen_panel'].str.upper()\n",
    "clean_df['cpu_brand'] = clean_df['cpu_brand'].str.upper()\n",
    "clean_df['gpu_brand'] = clean_df['gpu_brand'].str.upper()\n",
    "clean_df['OS'] = clean_df['OS'].str.upper()\n"
   ]
  },
  {
   "attachments": {},
   "cell_type": "markdown",
   "metadata": {},
   "source": [
    "#### 4.3.13 Xóa dữ liệu trống và trùng lặp một lần nữa"
   ]
  },
  {
   "cell_type": "code",
   "execution_count": 131,
   "metadata": {},
   "outputs": [],
   "source": [
    "clean_df.dropna(inplace=True)\n",
    "clean_df.drop_duplicates(inplace=True)\n",
    "# reset index column\n",
    "clean_df.reset_index(drop=True, inplace=True)\n"
   ]
  },
  {
   "attachments": {},
   "cell_type": "markdown",
   "metadata": {},
   "source": [
    "## 5. Kiểm tra lại và lưu dữ liệu"
   ]
  },
  {
   "cell_type": "code",
   "execution_count": 132,
   "metadata": {},
   "outputs": [
    {
     "name": "stdout",
     "output_type": "stream",
     "text": [
      "<class 'pandas.core.frame.DataFrame'>\n",
      "RangeIndex: 6607 entries, 0 to 6606\n",
      "Data columns (total 22 columns):\n",
      " #   Column              Non-Null Count  Dtype  \n",
      "---  ------              --------------  -----  \n",
      " 0   price               6607 non-null   float32\n",
      " 1   brand               6607 non-null   object \n",
      " 2   ram                 6607 non-null   float32\n",
      " 3   ram_type            6607 non-null   object \n",
      " 4   display_size        6607 non-null   float32\n",
      " 5   display_type        6607 non-null   object \n",
      " 6   pixels              6607 non-null   float32\n",
      " 7   screen_rate         6607 non-null   float32\n",
      " 8   screen_panel        6607 non-null   object \n",
      " 9   length              6607 non-null   float32\n",
      " 10  width               6607 non-null   float32\n",
      " 11  height              6607 non-null   float32\n",
      " 12  cpu_brand           6607 non-null   object \n",
      " 13  gpu_brand           6607 non-null   object \n",
      " 14  hdd                 6607 non-null   float32\n",
      " 15  ssd                 6607 non-null   float32\n",
      " 16  OS                  6607 non-null   object \n",
      " 17  weight              6607 non-null   float32\n",
      " 18  cpu_point           6607 non-null   float32\n",
      " 19  gpu_point           6607 non-null   float32\n",
      " 20  fingerprint_reader  6607 non-null   float32\n",
      " 21  web_camera          6607 non-null   float32\n",
      "dtypes: float32(15), object(7)\n",
      "memory usage: 748.6+ KB\n"
     ]
    }
   ],
   "source": [
    "clean_df.info()\n"
   ]
  },
  {
   "cell_type": "code",
   "execution_count": 133,
   "metadata": {},
   "outputs": [
    {
     "data": {
      "text/html": [
       "<div>\n",
       "<style scoped>\n",
       "    .dataframe tbody tr th:only-of-type {\n",
       "        vertical-align: middle;\n",
       "    }\n",
       "\n",
       "    .dataframe tbody tr th {\n",
       "        vertical-align: top;\n",
       "    }\n",
       "\n",
       "    .dataframe thead th {\n",
       "        text-align: right;\n",
       "    }\n",
       "</style>\n",
       "<table border=\"1\" class=\"dataframe\">\n",
       "  <thead>\n",
       "    <tr style=\"text-align: right;\">\n",
       "      <th></th>\n",
       "      <th>price</th>\n",
       "      <th>brand</th>\n",
       "      <th>ram</th>\n",
       "      <th>ram_type</th>\n",
       "      <th>display_size</th>\n",
       "      <th>display_type</th>\n",
       "      <th>pixels</th>\n",
       "      <th>screen_rate</th>\n",
       "      <th>screen_panel</th>\n",
       "      <th>length</th>\n",
       "      <th>...</th>\n",
       "      <th>cpu_brand</th>\n",
       "      <th>gpu_brand</th>\n",
       "      <th>hdd</th>\n",
       "      <th>ssd</th>\n",
       "      <th>OS</th>\n",
       "      <th>weight</th>\n",
       "      <th>cpu_point</th>\n",
       "      <th>gpu_point</th>\n",
       "      <th>fingerprint_reader</th>\n",
       "      <th>web_camera</th>\n",
       "    </tr>\n",
       "  </thead>\n",
       "  <tbody>\n",
       "    <tr>\n",
       "      <th>0</th>\n",
       "      <td>3049.98999</td>\n",
       "      <td>LENOVO</td>\n",
       "      <td>64.0</td>\n",
       "      <td>DDR5</td>\n",
       "      <td>15.6</td>\n",
       "      <td>QHD</td>\n",
       "      <td>3686400.0</td>\n",
       "      <td>165.0</td>\n",
       "      <td>IPS</td>\n",
       "      <td>358.799988</td>\n",
       "      <td>...</td>\n",
       "      <td>INTEL</td>\n",
       "      <td>NVIDIA</td>\n",
       "      <td>0.0</td>\n",
       "      <td>2000.0</td>\n",
       "      <td>WINDOWS</td>\n",
       "      <td>2.40</td>\n",
       "      <td>15486.0</td>\n",
       "      <td>8841.0</td>\n",
       "      <td>1.0</td>\n",
       "      <td>0.0</td>\n",
       "    </tr>\n",
       "    <tr>\n",
       "      <th>1</th>\n",
       "      <td>1819.00000</td>\n",
       "      <td>ACER</td>\n",
       "      <td>32.0</td>\n",
       "      <td>DDR5</td>\n",
       "      <td>15.6</td>\n",
       "      <td>FHD</td>\n",
       "      <td>2073600.0</td>\n",
       "      <td>144.0</td>\n",
       "      <td>IPS</td>\n",
       "      <td>360.399994</td>\n",
       "      <td>...</td>\n",
       "      <td>INTEL</td>\n",
       "      <td>NVIDIA</td>\n",
       "      <td>0.0</td>\n",
       "      <td>2000.0</td>\n",
       "      <td>WINDOWS</td>\n",
       "      <td>2.50</td>\n",
       "      <td>15486.0</td>\n",
       "      <td>8864.0</td>\n",
       "      <td>1.0</td>\n",
       "      <td>0.0</td>\n",
       "    </tr>\n",
       "    <tr>\n",
       "      <th>2</th>\n",
       "      <td>2359.98999</td>\n",
       "      <td>ACER</td>\n",
       "      <td>32.0</td>\n",
       "      <td>DDR4</td>\n",
       "      <td>16.0</td>\n",
       "      <td>WQXGA</td>\n",
       "      <td>4096000.0</td>\n",
       "      <td>165.0</td>\n",
       "      <td>IPS</td>\n",
       "      <td>358.140015</td>\n",
       "      <td>...</td>\n",
       "      <td>INTEL</td>\n",
       "      <td>NVIDIA</td>\n",
       "      <td>0.0</td>\n",
       "      <td>1000.0</td>\n",
       "      <td>WINDOWS</td>\n",
       "      <td>2.44</td>\n",
       "      <td>12390.0</td>\n",
       "      <td>8290.0</td>\n",
       "      <td>1.0</td>\n",
       "      <td>0.0</td>\n",
       "    </tr>\n",
       "    <tr>\n",
       "      <th>3</th>\n",
       "      <td>1099.98999</td>\n",
       "      <td>DELL</td>\n",
       "      <td>16.0</td>\n",
       "      <td>DDR4</td>\n",
       "      <td>14.0</td>\n",
       "      <td>FHD+</td>\n",
       "      <td>2304000.0</td>\n",
       "      <td>60.0</td>\n",
       "      <td>IPS</td>\n",
       "      <td>314.000000</td>\n",
       "      <td>...</td>\n",
       "      <td>AMD</td>\n",
       "      <td>AMD</td>\n",
       "      <td>0.0</td>\n",
       "      <td>1000.0</td>\n",
       "      <td>WINDOWS</td>\n",
       "      <td>1.55</td>\n",
       "      <td>10523.0</td>\n",
       "      <td>1129.0</td>\n",
       "      <td>1.0</td>\n",
       "      <td>0.0</td>\n",
       "    </tr>\n",
       "    <tr>\n",
       "      <th>4</th>\n",
       "      <td>719.98999</td>\n",
       "      <td>LENOVO</td>\n",
       "      <td>16.0</td>\n",
       "      <td>DDR4</td>\n",
       "      <td>15.6</td>\n",
       "      <td>FHD</td>\n",
       "      <td>2073600.0</td>\n",
       "      <td>60.0</td>\n",
       "      <td>IPS</td>\n",
       "      <td>359.200012</td>\n",
       "      <td>...</td>\n",
       "      <td>INTEL</td>\n",
       "      <td>INTEL</td>\n",
       "      <td>0.0</td>\n",
       "      <td>1000.0</td>\n",
       "      <td>WINDOWS</td>\n",
       "      <td>1.70</td>\n",
       "      <td>5125.0</td>\n",
       "      <td>1435.0</td>\n",
       "      <td>1.0</td>\n",
       "      <td>0.0</td>\n",
       "    </tr>\n",
       "  </tbody>\n",
       "</table>\n",
       "<p>5 rows × 22 columns</p>\n",
       "</div>"
      ],
      "text/plain": [
       "        price   brand   ram ram_type  display_size display_type     pixels   \n",
       "0  3049.98999  LENOVO  64.0     DDR5          15.6          QHD  3686400.0  \\\n",
       "1  1819.00000    ACER  32.0     DDR5          15.6          FHD  2073600.0   \n",
       "2  2359.98999    ACER  32.0     DDR4          16.0        WQXGA  4096000.0   \n",
       "3  1099.98999    DELL  16.0     DDR4          14.0         FHD+  2304000.0   \n",
       "4   719.98999  LENOVO  16.0     DDR4          15.6          FHD  2073600.0   \n",
       "\n",
       "   screen_rate screen_panel      length  ...  cpu_brand  gpu_brand  hdd   \n",
       "0        165.0          IPS  358.799988  ...      INTEL     NVIDIA  0.0  \\\n",
       "1        144.0          IPS  360.399994  ...      INTEL     NVIDIA  0.0   \n",
       "2        165.0          IPS  358.140015  ...      INTEL     NVIDIA  0.0   \n",
       "3         60.0          IPS  314.000000  ...        AMD        AMD  0.0   \n",
       "4         60.0          IPS  359.200012  ...      INTEL      INTEL  0.0   \n",
       "\n",
       "      ssd       OS  weight cpu_point  gpu_point  fingerprint_reader   \n",
       "0  2000.0  WINDOWS    2.40   15486.0     8841.0                 1.0  \\\n",
       "1  2000.0  WINDOWS    2.50   15486.0     8864.0                 1.0   \n",
       "2  1000.0  WINDOWS    2.44   12390.0     8290.0                 1.0   \n",
       "3  1000.0  WINDOWS    1.55   10523.0     1129.0                 1.0   \n",
       "4  1000.0  WINDOWS    1.70    5125.0     1435.0                 1.0   \n",
       "\n",
       "   web_camera  \n",
       "0         0.0  \n",
       "1         0.0  \n",
       "2         0.0  \n",
       "3         0.0  \n",
       "4         0.0  \n",
       "\n",
       "[5 rows x 22 columns]"
      ]
     },
     "execution_count": 133,
     "metadata": {},
     "output_type": "execute_result"
    }
   ],
   "source": [
    "clean_df.head()\n"
   ]
  },
  {
   "cell_type": "code",
   "execution_count": 134,
   "metadata": {},
   "outputs": [],
   "source": [
    "clean_df.to_csv('clean_data.csv', index=False)\n"
   ]
  }
 ],
 "metadata": {
  "kernelspec": {
   "display_name": "Python 3 (ipykernel)",
   "language": "python",
   "name": "python3"
  },
  "language_info": {
   "codemirror_mode": {
    "name": "ipython",
    "version": 3
   },
   "file_extension": ".py",
   "mimetype": "text/x-python",
   "name": "python",
   "nbconvert_exporter": "python",
   "pygments_lexer": "ipython3",
   "version": "3.10.9"
  }
 },
 "nbformat": 4,
 "nbformat_minor": 4
}
